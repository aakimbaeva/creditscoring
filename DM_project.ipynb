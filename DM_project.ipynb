{
 "cells": [
  {
   "cell_type": "markdown",
   "metadata": {
    "id": "abTEGyR-uqLu"
   },
   "source": [
    "# **Importing libraries and train data**"
   ]
  },
  {
   "cell_type": "code",
   "execution_count": 1,
   "metadata": {
    "executionInfo": {
     "elapsed": 1427,
     "status": "ok",
     "timestamp": 1605774526826,
     "user": {
      "displayName": "Amin T.",
      "photoUrl": "https://lh3.googleusercontent.com/a-/AOh14GhLSDDfMbtcwB_Rx9shExjq9xAjHfktW4EOUC4z=s64",
      "userId": "18045034436816550073"
     },
     "user_tz": -60
    },
    "id": "SPVKZI6yuoA2"
   },
   "outputs": [],
   "source": [
    "import pandas as pd\n",
    "import numpy as np\n",
    "import os\n",
    "import matplotlib.pyplot as plt\n",
    "%matplotlib inline\n",
    "\n",
    "from sklearn.model_selection import train_test_split"
   ]
  },
  {
   "cell_type": "code",
   "execution_count": 71,
   "metadata": {
    "colab": {
     "base_uri": "https://localhost:8080/",
     "height": 306
    },
    "executionInfo": {
     "elapsed": 13263,
     "status": "ok",
     "timestamp": 1605781797268,
     "user": {
      "displayName": "Amin T.",
      "photoUrl": "https://lh3.googleusercontent.com/a-/AOh14GhLSDDfMbtcwB_Rx9shExjq9xAjHfktW4EOUC4z=s64",
      "userId": "18045034436816550073"
     },
     "user_tz": -60
    },
    "id": "3gFCeimlu-3N",
    "outputId": "5f804f09-cec7-455c-d240-339f05cbac1c"
   },
   "outputs": [
    {
     "data": {
      "text/html": [
       "<div>\n",
       "<style scoped>\n",
       "    .dataframe tbody tr th:only-of-type {\n",
       "        vertical-align: middle;\n",
       "    }\n",
       "\n",
       "    .dataframe tbody tr th {\n",
       "        vertical-align: top;\n",
       "    }\n",
       "\n",
       "    .dataframe thead th {\n",
       "        text-align: right;\n",
       "    }\n",
       "</style>\n",
       "<table border=\"1\" class=\"dataframe\">\n",
       "  <thead>\n",
       "    <tr style=\"text-align: right;\">\n",
       "      <th></th>\n",
       "      <th>Type</th>\n",
       "      <th>INDUSTRY_CD_3</th>\n",
       "      <th>INDUSTRY_CD_4</th>\n",
       "      <th>BEH_SCORE_AVG_A1</th>\n",
       "      <th>BEH_SCORE_AVG_A2</th>\n",
       "      <th>BEH_SCORE_MIN_A2</th>\n",
       "      <th>FHS_SCORE_AVG</th>\n",
       "      <th>FHS_SCORE_LATEST</th>\n",
       "      <th>CASH_FLOW_AMT</th>\n",
       "      <th>FREE_CASH_FLOW_AMT</th>\n",
       "      <th>MTHS_SNC_1ST_REC_CNT</th>\n",
       "      <th>Managing_Sales_Office_Nbr</th>\n",
       "      <th>Postal_Code_L</th>\n",
       "      <th>A1_AVG_POS_SALDO_PROF_1_AMT</th>\n",
       "      <th>Invest_Amt</th>\n",
       "      <th>Original_loan_Amt</th>\n",
       "      <th>MTHS_FIRST_PCX_COREPRIV_CNT</th>\n",
       "      <th>Product_Desc</th>\n",
       "      <th>CREDIT_TYPE_CD</th>\n",
       "      <th>ACCOUNT_PURPOSE_CD</th>\n",
       "      <th>A2_MONTHS_IN_BELGIUM_CNT</th>\n",
       "      <th>A1_TOT_DEB_INTEREST_PROF_6_AMT</th>\n",
       "      <th>A2_MTHS_SNC_LAST_LIQ_PRIV_CNT</th>\n",
       "      <th>A2_MTHS_SNC_FIRST_COREPROF_CNT</th>\n",
       "      <th>A2_MARITAL_STATUS_CD</th>\n",
       "      <th>A1_TOT_DEB_INTEREST_PROF_1_AMT</th>\n",
       "      <th>MTHS_IN_BUSINESS_CNT</th>\n",
       "      <th>A2_MTHS_SNC_LAST_LIQ_SAVE_CNT</th>\n",
       "      <th>A1_NEGAT_TRANS_COREPROF_CNT</th>\n",
       "      <th>FINANCIAL_PRODUCT_TYPE_CD</th>\n",
       "      <th>A1_OVERDRAWN_DAYS_PROF_24_CNT</th>\n",
       "      <th>A1_OVERDRAWN_DAYS_PROF_6_CNT</th>\n",
       "      <th>A2_EMPLOYMENT_STATUS_CD</th>\n",
       "      <th>A1_AVG_NEG_SALDO_PROF_3_AMT</th>\n",
       "      <th>A1_AVG_POS_SALDO_PROF_12_AMT</th>\n",
       "      <th>A2_RESIDENT_STATUS_CD</th>\n",
       "      <th>A1_TOT_STND_PAYMNT_INT_PROF_CNT</th>\n",
       "      <th>CASHFLOW_MONTHLY_CREDIT_RT</th>\n",
       "      <th>MONTHS_SINCE_LAST_REFUSAL_CNT</th>\n",
       "      <th>MONTHLY_CREDIT_AMT_TOT</th>\n",
       "      <th>A2_ANNUAL_INCOME_AMT_scale</th>\n",
       "      <th>A2_AVG_NEG_SALDO_PRIV_12_AMT_scale</th>\n",
       "      <th>A2_AVG_POS_SALDO_SAVINGS_12_AMT_scale</th>\n",
       "      <th>A2_TOTAL_EMPLOYMENT_MONTHS_CNT_scale</th>\n",
       "      <th>Label_Default</th>\n",
       "    </tr>\n",
       "    <tr>\n",
       "      <th>LoanID</th>\n",
       "      <th></th>\n",
       "      <th></th>\n",
       "      <th></th>\n",
       "      <th></th>\n",
       "      <th></th>\n",
       "      <th></th>\n",
       "      <th></th>\n",
       "      <th></th>\n",
       "      <th></th>\n",
       "      <th></th>\n",
       "      <th></th>\n",
       "      <th></th>\n",
       "      <th></th>\n",
       "      <th></th>\n",
       "      <th></th>\n",
       "      <th></th>\n",
       "      <th></th>\n",
       "      <th></th>\n",
       "      <th></th>\n",
       "      <th></th>\n",
       "      <th></th>\n",
       "      <th></th>\n",
       "      <th></th>\n",
       "      <th></th>\n",
       "      <th></th>\n",
       "      <th></th>\n",
       "      <th></th>\n",
       "      <th></th>\n",
       "      <th></th>\n",
       "      <th></th>\n",
       "      <th></th>\n",
       "      <th></th>\n",
       "      <th></th>\n",
       "      <th></th>\n",
       "      <th></th>\n",
       "      <th></th>\n",
       "      <th></th>\n",
       "      <th></th>\n",
       "      <th></th>\n",
       "      <th></th>\n",
       "      <th></th>\n",
       "      <th></th>\n",
       "      <th></th>\n",
       "      <th></th>\n",
       "      <th></th>\n",
       "    </tr>\n",
       "  </thead>\n",
       "  <tbody>\n",
       "    <tr>\n",
       "      <th>1</th>\n",
       "      <td>Company_Known</td>\n",
       "      <td>639</td>\n",
       "      <td>6399</td>\n",
       "      <td>NaN</td>\n",
       "      <td>683.715167</td>\n",
       "      <td>665.375221</td>\n",
       "      <td>NaN</td>\n",
       "      <td>NaN</td>\n",
       "      <td>NaN</td>\n",
       "      <td>NaN</td>\n",
       "      <td>1.0</td>\n",
       "      <td>NaN</td>\n",
       "      <td>NaN</td>\n",
       "      <td>3712.25</td>\n",
       "      <td>43200.00</td>\n",
       "      <td>NaN</td>\n",
       "      <td>NaN</td>\n",
       "      <td>Bizness financiering</td>\n",
       "      <td>IK</td>\n",
       "      <td>65</td>\n",
       "      <td>NaN</td>\n",
       "      <td>0.0</td>\n",
       "      <td>NaN</td>\n",
       "      <td>223.0</td>\n",
       "      <td>2.0</td>\n",
       "      <td>0.0</td>\n",
       "      <td>1.0</td>\n",
       "      <td>21.0</td>\n",
       "      <td>2.0</td>\n",
       "      <td>MTG</td>\n",
       "      <td>NaN</td>\n",
       "      <td>NaN</td>\n",
       "      <td>403</td>\n",
       "      <td>0.0</td>\n",
       "      <td>2261.27</td>\n",
       "      <td>1.0</td>\n",
       "      <td>0.0</td>\n",
       "      <td>NaN</td>\n",
       "      <td>NaN</td>\n",
       "      <td>900.000000</td>\n",
       "      <td>0.006845</td>\n",
       "      <td>-0.160712</td>\n",
       "      <td>-0.006150</td>\n",
       "      <td>0.242304</td>\n",
       "      <td>Y</td>\n",
       "    </tr>\n",
       "    <tr>\n",
       "      <th>2</th>\n",
       "      <td>Company_Known</td>\n",
       "      <td>829</td>\n",
       "      <td>8299</td>\n",
       "      <td>NaN</td>\n",
       "      <td>NaN</td>\n",
       "      <td>NaN</td>\n",
       "      <td>99.807392</td>\n",
       "      <td>99.990702</td>\n",
       "      <td>10871.0</td>\n",
       "      <td>NaN</td>\n",
       "      <td>127.0</td>\n",
       "      <td>NaN</td>\n",
       "      <td>NaN</td>\n",
       "      <td>5938.09</td>\n",
       "      <td>NaN</td>\n",
       "      <td>NaN</td>\n",
       "      <td>NaN</td>\n",
       "      <td>Overbruggingskrediet professionele doeleinden</td>\n",
       "      <td>IK</td>\n",
       "      <td>813</td>\n",
       "      <td>NaN</td>\n",
       "      <td>0.0</td>\n",
       "      <td>NaN</td>\n",
       "      <td>127.0</td>\n",
       "      <td>2.0</td>\n",
       "      <td>0.0</td>\n",
       "      <td>127.0</td>\n",
       "      <td>2.0</td>\n",
       "      <td>6.0</td>\n",
       "      <td>MTG</td>\n",
       "      <td>0.0</td>\n",
       "      <td>0.0</td>\n",
       "      <td>410</td>\n",
       "      <td>0.0</td>\n",
       "      <td>31415.85</td>\n",
       "      <td>1.0</td>\n",
       "      <td>0.0</td>\n",
       "      <td>6.522600</td>\n",
       "      <td>NaN</td>\n",
       "      <td>1666.666667</td>\n",
       "      <td>0.243932</td>\n",
       "      <td>-0.191004</td>\n",
       "      <td>0.222792</td>\n",
       "      <td>0.005690</td>\n",
       "      <td>N</td>\n",
       "    </tr>\n",
       "    <tr>\n",
       "      <th>3</th>\n",
       "      <td>Company_Known</td>\n",
       "      <td>829</td>\n",
       "      <td>8299</td>\n",
       "      <td>NaN</td>\n",
       "      <td>NaN</td>\n",
       "      <td>NaN</td>\n",
       "      <td>99.852028</td>\n",
       "      <td>99.999280</td>\n",
       "      <td>2207.0</td>\n",
       "      <td>NaN</td>\n",
       "      <td>85.0</td>\n",
       "      <td>NaN</td>\n",
       "      <td>8ad848e7</td>\n",
       "      <td>45745.60</td>\n",
       "      <td>40198.36</td>\n",
       "      <td>15000.0</td>\n",
       "      <td>NaN</td>\n",
       "      <td>Bizness financiering</td>\n",
       "      <td>IK</td>\n",
       "      <td>65</td>\n",
       "      <td>NaN</td>\n",
       "      <td>0.0</td>\n",
       "      <td>NaN</td>\n",
       "      <td>85.0</td>\n",
       "      <td>2.0</td>\n",
       "      <td>0.0</td>\n",
       "      <td>85.0</td>\n",
       "      <td>58.0</td>\n",
       "      <td>25.0</td>\n",
       "      <td>MTG</td>\n",
       "      <td>0.0</td>\n",
       "      <td>0.0</td>\n",
       "      <td>410</td>\n",
       "      <td>0.0</td>\n",
       "      <td>43686.63</td>\n",
       "      <td>1.0</td>\n",
       "      <td>0.0</td>\n",
       "      <td>5.296800</td>\n",
       "      <td>NaN</td>\n",
       "      <td>416.666667</td>\n",
       "      <td>0.243932</td>\n",
       "      <td>-0.189250</td>\n",
       "      <td>-0.422428</td>\n",
       "      <td>-0.362376</td>\n",
       "      <td>N</td>\n",
       "    </tr>\n",
       "    <tr>\n",
       "      <th>4</th>\n",
       "      <td>Company_Known</td>\n",
       "      <td>829</td>\n",
       "      <td>8299</td>\n",
       "      <td>680.0</td>\n",
       "      <td>NaN</td>\n",
       "      <td>NaN</td>\n",
       "      <td>99.397674</td>\n",
       "      <td>98.795310</td>\n",
       "      <td>10827.0</td>\n",
       "      <td>NaN</td>\n",
       "      <td>104.0</td>\n",
       "      <td>1299ce2a</td>\n",
       "      <td>8ad848e7</td>\n",
       "      <td>63844.37</td>\n",
       "      <td>37495.04</td>\n",
       "      <td>7392.0</td>\n",
       "      <td>NaN</td>\n",
       "      <td>Bizness financiering</td>\n",
       "      <td>IK</td>\n",
       "      <td>65</td>\n",
       "      <td>NaN</td>\n",
       "      <td>0.0</td>\n",
       "      <td>NaN</td>\n",
       "      <td>104.0</td>\n",
       "      <td>2.0</td>\n",
       "      <td>0.0</td>\n",
       "      <td>104.0</td>\n",
       "      <td>3.0</td>\n",
       "      <td>15.0</td>\n",
       "      <td>MTG</td>\n",
       "      <td>0.0</td>\n",
       "      <td>0.0</td>\n",
       "      <td>410</td>\n",
       "      <td>0.0</td>\n",
       "      <td>40072.98</td>\n",
       "      <td>1.0</td>\n",
       "      <td>0.0</td>\n",
       "      <td>26.364448</td>\n",
       "      <td>NaN</td>\n",
       "      <td>410.666667</td>\n",
       "      <td>0.243932</td>\n",
       "      <td>-0.191004</td>\n",
       "      <td>-0.383489</td>\n",
       "      <td>-0.195870</td>\n",
       "      <td>N</td>\n",
       "    </tr>\n",
       "    <tr>\n",
       "      <th>5</th>\n",
       "      <td>Company_Known</td>\n",
       "      <td>862</td>\n",
       "      <td>8623</td>\n",
       "      <td>NaN</td>\n",
       "      <td>NaN</td>\n",
       "      <td>NaN</td>\n",
       "      <td>NaN</td>\n",
       "      <td>NaN</td>\n",
       "      <td>NaN</td>\n",
       "      <td>NaN</td>\n",
       "      <td>0.0</td>\n",
       "      <td>NaN</td>\n",
       "      <td>NaN</td>\n",
       "      <td>NaN</td>\n",
       "      <td>289000.00</td>\n",
       "      <td>NaN</td>\n",
       "      <td>NaN</td>\n",
       "      <td>Investeringskrediet onroerend</td>\n",
       "      <td>IK</td>\n",
       "      <td>104</td>\n",
       "      <td>NaN</td>\n",
       "      <td>NaN</td>\n",
       "      <td>118.0</td>\n",
       "      <td>176.0</td>\n",
       "      <td>4.0</td>\n",
       "      <td>NaN</td>\n",
       "      <td>15.0</td>\n",
       "      <td>65.0</td>\n",
       "      <td>NaN</td>\n",
       "      <td>MTG</td>\n",
       "      <td>NaN</td>\n",
       "      <td>NaN</td>\n",
       "      <td>386</td>\n",
       "      <td>NaN</td>\n",
       "      <td>NaN</td>\n",
       "      <td>1.0</td>\n",
       "      <td>NaN</td>\n",
       "      <td>NaN</td>\n",
       "      <td>NaN</td>\n",
       "      <td>3075.000000</td>\n",
       "      <td>1.641230</td>\n",
       "      <td>-0.187378</td>\n",
       "      <td>-0.294618</td>\n",
       "      <td>1.372793</td>\n",
       "      <td>N</td>\n",
       "    </tr>\n",
       "  </tbody>\n",
       "</table>\n",
       "</div>"
      ],
      "text/plain": [
       "                 Type  ...  Label_Default\n",
       "LoanID                 ...               \n",
       "1       Company_Known  ...              Y\n",
       "2       Company_Known  ...              N\n",
       "3       Company_Known  ...              N\n",
       "4       Company_Known  ...              N\n",
       "5       Company_Known  ...              N\n",
       "\n",
       "[5 rows x 45 columns]"
      ]
     },
     "execution_count": 71,
     "metadata": {
      "tags": []
     },
     "output_type": "execute_result"
    }
   ],
   "source": [
    "# Import train data\n",
    "data_train = pd.read_excel('/content/drive/My Drive/Shakeel-Azhara/DSC2020_Training.xlsx', index_col='LoanID')\n",
    "data_train.head()"
   ]
  },
  {
   "cell_type": "code",
   "execution_count": 3,
   "metadata": {
    "colab": {
     "base_uri": "https://localhost:8080/"
    },
    "executionInfo": {
     "elapsed": 13488,
     "status": "ok",
     "timestamp": 1605774538975,
     "user": {
      "displayName": "Amin T.",
      "photoUrl": "https://lh3.googleusercontent.com/a-/AOh14GhLSDDfMbtcwB_Rx9shExjq9xAjHfktW4EOUC4z=s64",
      "userId": "18045034436816550073"
     },
     "user_tz": -60
    },
    "id": "XBhibF18X1mQ",
    "outputId": "aeb2a118-2c6a-4d84-f6f2-21062cb1f093"
   },
   "outputs": [
    {
     "name": "stdout",
     "output_type": "stream",
     "text": [
      "<class 'pandas.core.frame.DataFrame'>\n",
      "Int64Index: 26962 entries, 1 to 26962\n",
      "Data columns (total 45 columns):\n",
      " #   Column                                 Non-Null Count  Dtype  \n",
      "---  ------                                 --------------  -----  \n",
      " 0   Type                                   26962 non-null  object \n",
      " 1   INDUSTRY_CD_3                          26962 non-null  int64  \n",
      " 2   INDUSTRY_CD_4                          26962 non-null  int64  \n",
      " 3   BEH_SCORE_AVG_A1                       16027 non-null  float64\n",
      " 4   BEH_SCORE_AVG_A2                       16266 non-null  float64\n",
      " 5   BEH_SCORE_MIN_A2                       16266 non-null  float64\n",
      " 6   FHS_SCORE_AVG                          20688 non-null  float64\n",
      " 7   FHS_SCORE_LATEST                       20621 non-null  float64\n",
      " 8   CASH_FLOW_AMT                          20737 non-null  float64\n",
      " 9   FREE_CASH_FLOW_AMT                     86 non-null     float64\n",
      " 10  MTHS_SNC_1ST_REC_CNT                   26773 non-null  float64\n",
      " 11  Managing_Sales_Office_Nbr              12919 non-null  object \n",
      " 12  Postal_Code_L                          13275 non-null  object \n",
      " 13  A1_AVG_POS_SALDO_PROF_1_AMT            21313 non-null  float64\n",
      " 14  Invest_Amt                             23530 non-null  float64\n",
      " 15  Original_loan_Amt                      15719 non-null  float64\n",
      " 16  MTHS_FIRST_PCX_COREPRIV_CNT            1921 non-null   float64\n",
      " 17  Product_Desc                           23714 non-null  object \n",
      " 18  CREDIT_TYPE_CD                         26962 non-null  object \n",
      " 19  ACCOUNT_PURPOSE_CD                     26962 non-null  int64  \n",
      " 20  A2_MONTHS_IN_BELGIUM_CNT               2022 non-null   float64\n",
      " 21  A1_TOT_DEB_INTEREST_PROF_6_AMT         21313 non-null  float64\n",
      " 22  A2_MTHS_SNC_LAST_LIQ_PRIV_CNT          6439 non-null   float64\n",
      " 23  A2_MTHS_SNC_FIRST_COREPROF_CNT         5127 non-null   float64\n",
      " 24  A2_MARITAL_STATUS_CD                   26961 non-null  float64\n",
      " 25  A1_TOT_DEB_INTEREST_PROF_1_AMT         21313 non-null  float64\n",
      " 26  MTHS_IN_BUSINESS_CNT                   25916 non-null  float64\n",
      " 27  A2_MTHS_SNC_LAST_LIQ_SAVE_CNT          11502 non-null  float64\n",
      " 28  A1_NEGAT_TRANS_COREPROF_CNT            21313 non-null  float64\n",
      " 29  FINANCIAL_PRODUCT_TYPE_CD              26962 non-null  object \n",
      " 30  A1_OVERDRAWN_DAYS_PROF_24_CNT          20585 non-null  float64\n",
      " 31  A1_OVERDRAWN_DAYS_PROF_6_CNT           18083 non-null  float64\n",
      " 32  A2_EMPLOYMENT_STATUS_CD                26962 non-null  int64  \n",
      " 33  A1_AVG_NEG_SALDO_PROF_3_AMT            21313 non-null  float64\n",
      " 34  A1_AVG_POS_SALDO_PROF_12_AMT           21313 non-null  float64\n",
      " 35  A2_RESIDENT_STATUS_CD                  26900 non-null  float64\n",
      " 36  A1_TOT_STND_PAYMNT_INT_PROF_CNT        21313 non-null  float64\n",
      " 37  CASHFLOW_MONTHLY_CREDIT_RT             18446 non-null  float64\n",
      " 38  MONTHS_SINCE_LAST_REFUSAL_CNT          3283 non-null   float64\n",
      " 39  MONTHLY_CREDIT_AMT_TOT                 23873 non-null  float64\n",
      " 40  A2_ANNUAL_INCOME_AMT_scale             20585 non-null  float64\n",
      " 41  A2_AVG_NEG_SALDO_PRIV_12_AMT_scale     18454 non-null  float64\n",
      " 42  A2_AVG_POS_SALDO_SAVINGS_12_AMT_scale  16668 non-null  float64\n",
      " 43  A2_TOTAL_EMPLOYMENT_MONTHS_CNT_scale   21282 non-null  float64\n",
      " 44  Label_Default                          26962 non-null  object \n",
      "dtypes: float64(34), int64(4), object(7)\n",
      "memory usage: 9.5+ MB\n"
     ]
    }
   ],
   "source": [
    "# detailes and charachteristics of data columns:\n",
    "# number of non-null values per column and type of data in every column\n",
    "# \"object\" Dtype means non-numerical data\n",
    "data_train.info()"
   ]
  },
  {
   "cell_type": "code",
   "execution_count": 72,
   "metadata": {
    "colab": {
     "base_uri": "https://localhost:8080/",
     "height": 450
    },
    "executionInfo": {
     "elapsed": 873,
     "status": "ok",
     "timestamp": 1605781811057,
     "user": {
      "displayName": "Amin T.",
      "photoUrl": "https://lh3.googleusercontent.com/a-/AOh14GhLSDDfMbtcwB_Rx9shExjq9xAjHfktW4EOUC4z=s64",
      "userId": "18045034436816550073"
     },
     "user_tz": -60
    },
    "id": "nWyvf0ZjDQv0",
    "outputId": "ac898609-30da-4108-debd-8bbfb8d2bc9f"
   },
   "outputs": [
    {
     "data": {
      "text/html": [
       "<div>\n",
       "<style scoped>\n",
       "    .dataframe tbody tr th:only-of-type {\n",
       "        vertical-align: middle;\n",
       "    }\n",
       "\n",
       "    .dataframe tbody tr th {\n",
       "        vertical-align: top;\n",
       "    }\n",
       "\n",
       "    .dataframe thead th {\n",
       "        text-align: right;\n",
       "    }\n",
       "</style>\n",
       "<table border=\"1\" class=\"dataframe\">\n",
       "  <thead>\n",
       "    <tr style=\"text-align: right;\">\n",
       "      <th></th>\n",
       "      <th>INDUSTRY_CD_3</th>\n",
       "      <th>INDUSTRY_CD_4</th>\n",
       "      <th>A2_MARITAL_STATUS_CD</th>\n",
       "      <th>ACCOUNT_PURPOSE_CD</th>\n",
       "      <th>A2_EMPLOYMENT_STATUS_CD</th>\n",
       "      <th>A2_RESIDENT_STATUS_CD</th>\n",
       "    </tr>\n",
       "    <tr>\n",
       "      <th>LoanID</th>\n",
       "      <th></th>\n",
       "      <th></th>\n",
       "      <th></th>\n",
       "      <th></th>\n",
       "      <th></th>\n",
       "      <th></th>\n",
       "    </tr>\n",
       "  </thead>\n",
       "  <tbody>\n",
       "    <tr>\n",
       "      <th>1</th>\n",
       "      <td>639</td>\n",
       "      <td>6399</td>\n",
       "      <td>2.0</td>\n",
       "      <td>65</td>\n",
       "      <td>403</td>\n",
       "      <td>1.0</td>\n",
       "    </tr>\n",
       "    <tr>\n",
       "      <th>2</th>\n",
       "      <td>829</td>\n",
       "      <td>8299</td>\n",
       "      <td>2.0</td>\n",
       "      <td>813</td>\n",
       "      <td>410</td>\n",
       "      <td>1.0</td>\n",
       "    </tr>\n",
       "    <tr>\n",
       "      <th>3</th>\n",
       "      <td>829</td>\n",
       "      <td>8299</td>\n",
       "      <td>2.0</td>\n",
       "      <td>65</td>\n",
       "      <td>410</td>\n",
       "      <td>1.0</td>\n",
       "    </tr>\n",
       "    <tr>\n",
       "      <th>4</th>\n",
       "      <td>829</td>\n",
       "      <td>8299</td>\n",
       "      <td>2.0</td>\n",
       "      <td>65</td>\n",
       "      <td>410</td>\n",
       "      <td>1.0</td>\n",
       "    </tr>\n",
       "    <tr>\n",
       "      <th>5</th>\n",
       "      <td>862</td>\n",
       "      <td>8623</td>\n",
       "      <td>4.0</td>\n",
       "      <td>104</td>\n",
       "      <td>386</td>\n",
       "      <td>1.0</td>\n",
       "    </tr>\n",
       "    <tr>\n",
       "      <th>...</th>\n",
       "      <td>...</td>\n",
       "      <td>...</td>\n",
       "      <td>...</td>\n",
       "      <td>...</td>\n",
       "      <td>...</td>\n",
       "      <td>...</td>\n",
       "    </tr>\n",
       "    <tr>\n",
       "      <th>26958</th>\n",
       "      <td>651</td>\n",
       "      <td>6511</td>\n",
       "      <td>2.0</td>\n",
       "      <td>65</td>\n",
       "      <td>357</td>\n",
       "      <td>1.0</td>\n",
       "    </tr>\n",
       "    <tr>\n",
       "      <th>26959</th>\n",
       "      <td>682</td>\n",
       "      <td>6820</td>\n",
       "      <td>2.0</td>\n",
       "      <td>102</td>\n",
       "      <td>404</td>\n",
       "      <td>1.0</td>\n",
       "    </tr>\n",
       "    <tr>\n",
       "      <th>26960</th>\n",
       "      <td>477</td>\n",
       "      <td>4778</td>\n",
       "      <td>2.0</td>\n",
       "      <td>100</td>\n",
       "      <td>404</td>\n",
       "      <td>1.0</td>\n",
       "    </tr>\n",
       "    <tr>\n",
       "      <th>26961</th>\n",
       "      <td>592</td>\n",
       "      <td>5920</td>\n",
       "      <td>1.0</td>\n",
       "      <td>100</td>\n",
       "      <td>350</td>\n",
       "      <td>1.0</td>\n",
       "    </tr>\n",
       "    <tr>\n",
       "      <th>26962</th>\n",
       "      <td>477</td>\n",
       "      <td>4772</td>\n",
       "      <td>2.0</td>\n",
       "      <td>60</td>\n",
       "      <td>410</td>\n",
       "      <td>1.0</td>\n",
       "    </tr>\n",
       "  </tbody>\n",
       "</table>\n",
       "<p>26962 rows × 6 columns</p>\n",
       "</div>"
      ],
      "text/plain": [
       "        INDUSTRY_CD_3  ...  A2_RESIDENT_STATUS_CD\n",
       "LoanID                 ...                       \n",
       "1                 639  ...                    1.0\n",
       "2                 829  ...                    1.0\n",
       "3                 829  ...                    1.0\n",
       "4                 829  ...                    1.0\n",
       "5                 862  ...                    1.0\n",
       "...               ...  ...                    ...\n",
       "26958             651  ...                    1.0\n",
       "26959             682  ...                    1.0\n",
       "26960             477  ...                    1.0\n",
       "26961             592  ...                    1.0\n",
       "26962             477  ...                    1.0\n",
       "\n",
       "[26962 rows x 6 columns]"
      ]
     },
     "execution_count": 72,
     "metadata": {
      "tags": []
     },
     "output_type": "execute_result"
    }
   ],
   "source": [
    "data_train[['INDUSTRY_CD_3', 'INDUSTRY_CD_4', 'A2_MARITAL_STATUS_CD', \n",
    "            'ACCOUNT_PURPOSE_CD', 'A2_EMPLOYMENT_STATUS_CD', 'A2_RESIDENT_STATUS_CD']]"
   ]
  },
  {
   "cell_type": "code",
   "execution_count": 5,
   "metadata": {
    "executionInfo": {
     "elapsed": 13451,
     "status": "ok",
     "timestamp": 1605774538980,
     "user": {
      "displayName": "Amin T.",
      "photoUrl": "https://lh3.googleusercontent.com/a-/AOh14GhLSDDfMbtcwB_Rx9shExjq9xAjHfktW4EOUC4z=s64",
      "userId": "18045034436816550073"
     },
     "user_tz": -60
    },
    "id": "_o_GfbFOchfx"
   },
   "outputs": [],
   "source": [
    "# the list of columns below are integer value codes but they should not be \n",
    "# considered as numerical variables, so they are transformed to strings\n",
    "\n",
    "transform_str_list = ['INDUSTRY_CD_3', 'INDUSTRY_CD_4', 'A2_MARITAL_STATUS_CD', \n",
    "                      'ACCOUNT_PURPOSE_CD', 'A2_EMPLOYMENT_STATUS_CD', 'A2_RESIDENT_STATUS_CD']\n",
    "\n",
    "data_train[transform_str_list] = data_train[transform_str_list].astype(str)\n",
    "\n",
    "# For retun the possible missing data in these columns\n",
    "data_train.replace(to_replace='nan', value=np.nan, inplace=True)"
   ]
  },
  {
   "cell_type": "code",
   "execution_count": 6,
   "metadata": {
    "executionInfo": {
     "elapsed": 13445,
     "status": "ok",
     "timestamp": 1605774538983,
     "user": {
      "displayName": "Amin T.",
      "photoUrl": "https://lh3.googleusercontent.com/a-/AOh14GhLSDDfMbtcwB_Rx9shExjq9xAjHfktW4EOUC4z=s64",
      "userId": "18045034436816550073"
     },
     "user_tz": -60
    },
    "id": "u7gRv6jEc90K"
   },
   "outputs": [],
   "source": [
    "# determining the target variable and features columns\n",
    "target_col = 'Label_Default'\n",
    "feature_cols = data_train.columns.drop('Label_Default')\n",
    "\n",
    "Y = data_train[target_col].copy()\n",
    "# In target variable, replace Y with 1 and N with 0\n",
    "Y.replace({'Y':1, 'N':0}, inplace=True)\n",
    "\n",
    "X = data_train[feature_cols].copy()\n",
    "\n",
    "# determining which variables are numerical and which are categorical\n",
    "num_cols = data_train[feature_cols].select_dtypes(exclude='object').columns\n",
    "cat_cols = data_train[feature_cols].select_dtypes(include='object').columns"
   ]
  },
  {
   "cell_type": "code",
   "execution_count": 7,
   "metadata": {
    "colab": {
     "base_uri": "https://localhost:8080/",
     "height": 1000
    },
    "executionInfo": {
     "elapsed": 13419,
     "status": "ok",
     "timestamp": 1605774538986,
     "user": {
      "displayName": "Amin T.",
      "photoUrl": "https://lh3.googleusercontent.com/a-/AOh14GhLSDDfMbtcwB_Rx9shExjq9xAjHfktW4EOUC4z=s64",
      "userId": "18045034436816550073"
     },
     "user_tz": -60
    },
    "id": "lc7M2CtaeK9S",
    "outputId": "f39f3a19-0c64-4cf4-b402-43ab37349c9c"
   },
   "outputs": [
    {
     "data": {
      "text/html": [
       "<div>\n",
       "<style scoped>\n",
       "    .dataframe tbody tr th:only-of-type {\n",
       "        vertical-align: middle;\n",
       "    }\n",
       "\n",
       "    .dataframe tbody tr th {\n",
       "        vertical-align: top;\n",
       "    }\n",
       "\n",
       "    .dataframe thead th {\n",
       "        text-align: right;\n",
       "    }\n",
       "</style>\n",
       "<table border=\"1\" class=\"dataframe\">\n",
       "  <thead>\n",
       "    <tr style=\"text-align: right;\">\n",
       "      <th></th>\n",
       "      <th>count</th>\n",
       "      <th>mean</th>\n",
       "      <th>std</th>\n",
       "      <th>min</th>\n",
       "      <th>25%</th>\n",
       "      <th>50%</th>\n",
       "      <th>75%</th>\n",
       "      <th>max</th>\n",
       "    </tr>\n",
       "  </thead>\n",
       "  <tbody>\n",
       "    <tr>\n",
       "      <th>BEH_SCORE_AVG_A1</th>\n",
       "      <td>16027.0</td>\n",
       "      <td>649.449859</td>\n",
       "      <td>45.777164</td>\n",
       "      <td>0.000000e+00</td>\n",
       "      <td>627.000000</td>\n",
       "      <td>654.000000</td>\n",
       "      <td>677.000000</td>\n",
       "      <td>7.570000e+02</td>\n",
       "    </tr>\n",
       "    <tr>\n",
       "      <th>BEH_SCORE_AVG_A2</th>\n",
       "      <td>16266.0</td>\n",
       "      <td>667.979918</td>\n",
       "      <td>37.059500</td>\n",
       "      <td>0.000000e+00</td>\n",
       "      <td>650.000000</td>\n",
       "      <td>676.000000</td>\n",
       "      <td>693.636880</td>\n",
       "      <td>7.570000e+02</td>\n",
       "    </tr>\n",
       "    <tr>\n",
       "      <th>BEH_SCORE_MIN_A2</th>\n",
       "      <td>16266.0</td>\n",
       "      <td>654.969877</td>\n",
       "      <td>43.507769</td>\n",
       "      <td>0.000000e+00</td>\n",
       "      <td>633.000000</td>\n",
       "      <td>665.000000</td>\n",
       "      <td>688.097402</td>\n",
       "      <td>7.570000e+02</td>\n",
       "    </tr>\n",
       "    <tr>\n",
       "      <th>FHS_SCORE_AVG</th>\n",
       "      <td>20688.0</td>\n",
       "      <td>98.046445</td>\n",
       "      <td>4.131621</td>\n",
       "      <td>0.000000e+00</td>\n",
       "      <td>97.935418</td>\n",
       "      <td>98.776561</td>\n",
       "      <td>99.551346</td>\n",
       "      <td>1.000000e+02</td>\n",
       "    </tr>\n",
       "    <tr>\n",
       "      <th>FHS_SCORE_LATEST</th>\n",
       "      <td>20621.0</td>\n",
       "      <td>98.051922</td>\n",
       "      <td>4.203183</td>\n",
       "      <td>0.000000e+00</td>\n",
       "      <td>97.833606</td>\n",
       "      <td>98.781982</td>\n",
       "      <td>99.668726</td>\n",
       "      <td>1.000000e+02</td>\n",
       "    </tr>\n",
       "    <tr>\n",
       "      <th>CASH_FLOW_AMT</th>\n",
       "      <td>20737.0</td>\n",
       "      <td>36693.002604</td>\n",
       "      <td>56340.009716</td>\n",
       "      <td>-2.650520e+05</td>\n",
       "      <td>10244.000000</td>\n",
       "      <td>22042.000000</td>\n",
       "      <td>44981.000000</td>\n",
       "      <td>1.989650e+06</td>\n",
       "    </tr>\n",
       "    <tr>\n",
       "      <th>FREE_CASH_FLOW_AMT</th>\n",
       "      <td>86.0</td>\n",
       "      <td>-2565.883721</td>\n",
       "      <td>150439.777025</td>\n",
       "      <td>-1.295824e+06</td>\n",
       "      <td>-1846.750000</td>\n",
       "      <td>10916.500000</td>\n",
       "      <td>22766.250000</td>\n",
       "      <td>1.946520e+05</td>\n",
       "    </tr>\n",
       "    <tr>\n",
       "      <th>MTHS_SNC_1ST_REC_CNT</th>\n",
       "      <td>26773.0</td>\n",
       "      <td>170.724162</td>\n",
       "      <td>673.324417</td>\n",
       "      <td>0.000000e+00</td>\n",
       "      <td>13.000000</td>\n",
       "      <td>53.000000</td>\n",
       "      <td>119.000000</td>\n",
       "      <td>4.991000e+03</td>\n",
       "    </tr>\n",
       "    <tr>\n",
       "      <th>A1_AVG_POS_SALDO_PROF_1_AMT</th>\n",
       "      <td>21313.0</td>\n",
       "      <td>15015.523818</td>\n",
       "      <td>30494.270595</td>\n",
       "      <td>0.000000e+00</td>\n",
       "      <td>1230.460000</td>\n",
       "      <td>5626.940000</td>\n",
       "      <td>16465.130000</td>\n",
       "      <td>9.274381e+05</td>\n",
       "    </tr>\n",
       "    <tr>\n",
       "      <th>Invest_Amt</th>\n",
       "      <td>23530.0</td>\n",
       "      <td>79451.678463</td>\n",
       "      <td>151898.843992</td>\n",
       "      <td>2.000000e-02</td>\n",
       "      <td>17884.407500</td>\n",
       "      <td>30000.000000</td>\n",
       "      <td>61000.000000</td>\n",
       "      <td>4.297502e+06</td>\n",
       "    </tr>\n",
       "    <tr>\n",
       "      <th>Original_loan_Amt</th>\n",
       "      <td>15719.0</td>\n",
       "      <td>72439.210341</td>\n",
       "      <td>123287.942472</td>\n",
       "      <td>2.500000e+03</td>\n",
       "      <td>16630.295000</td>\n",
       "      <td>29666.000000</td>\n",
       "      <td>65000.000000</td>\n",
       "      <td>2.250000e+06</td>\n",
       "    </tr>\n",
       "    <tr>\n",
       "      <th>MTHS_FIRST_PCX_COREPRIV_CNT</th>\n",
       "      <td>1921.0</td>\n",
       "      <td>78.421135</td>\n",
       "      <td>60.636186</td>\n",
       "      <td>0.000000e+00</td>\n",
       "      <td>25.000000</td>\n",
       "      <td>63.000000</td>\n",
       "      <td>131.000000</td>\n",
       "      <td>2.300000e+02</td>\n",
       "    </tr>\n",
       "    <tr>\n",
       "      <th>A2_MONTHS_IN_BELGIUM_CNT</th>\n",
       "      <td>2022.0</td>\n",
       "      <td>341.323937</td>\n",
       "      <td>200.944764</td>\n",
       "      <td>0.000000e+00</td>\n",
       "      <td>158.000000</td>\n",
       "      <td>338.000000</td>\n",
       "      <td>506.000000</td>\n",
       "      <td>9.090000e+02</td>\n",
       "    </tr>\n",
       "    <tr>\n",
       "      <th>A1_TOT_DEB_INTEREST_PROF_6_AMT</th>\n",
       "      <td>21313.0</td>\n",
       "      <td>1122.275941</td>\n",
       "      <td>4894.862753</td>\n",
       "      <td>0.000000e+00</td>\n",
       "      <td>0.000000</td>\n",
       "      <td>0.360000</td>\n",
       "      <td>124.160000</td>\n",
       "      <td>1.585958e+05</td>\n",
       "    </tr>\n",
       "    <tr>\n",
       "      <th>A2_MTHS_SNC_LAST_LIQ_PRIV_CNT</th>\n",
       "      <td>6439.0</td>\n",
       "      <td>61.877155</td>\n",
       "      <td>50.829338</td>\n",
       "      <td>0.000000e+00</td>\n",
       "      <td>21.000000</td>\n",
       "      <td>49.000000</td>\n",
       "      <td>91.000000</td>\n",
       "      <td>2.490000e+02</td>\n",
       "    </tr>\n",
       "    <tr>\n",
       "      <th>A2_MTHS_SNC_FIRST_COREPROF_CNT</th>\n",
       "      <td>5127.0</td>\n",
       "      <td>142.050907</td>\n",
       "      <td>93.379333</td>\n",
       "      <td>1.000000e+00</td>\n",
       "      <td>63.000000</td>\n",
       "      <td>133.000000</td>\n",
       "      <td>207.000000</td>\n",
       "      <td>4.730000e+02</td>\n",
       "    </tr>\n",
       "    <tr>\n",
       "      <th>A1_TOT_DEB_INTEREST_PROF_1_AMT</th>\n",
       "      <td>21313.0</td>\n",
       "      <td>197.355663</td>\n",
       "      <td>947.488748</td>\n",
       "      <td>0.000000e+00</td>\n",
       "      <td>0.000000</td>\n",
       "      <td>0.000000</td>\n",
       "      <td>15.420000</td>\n",
       "      <td>3.427748e+04</td>\n",
       "    </tr>\n",
       "    <tr>\n",
       "      <th>MTHS_IN_BUSINESS_CNT</th>\n",
       "      <td>25916.0</td>\n",
       "      <td>123.879148</td>\n",
       "      <td>129.988839</td>\n",
       "      <td>0.000000e+00</td>\n",
       "      <td>33.000000</td>\n",
       "      <td>90.000000</td>\n",
       "      <td>184.000000</td>\n",
       "      <td>3.180000e+03</td>\n",
       "    </tr>\n",
       "    <tr>\n",
       "      <th>A2_MTHS_SNC_LAST_LIQ_SAVE_CNT</th>\n",
       "      <td>11502.0</td>\n",
       "      <td>46.409668</td>\n",
       "      <td>45.896668</td>\n",
       "      <td>0.000000e+00</td>\n",
       "      <td>12.000000</td>\n",
       "      <td>31.000000</td>\n",
       "      <td>67.000000</td>\n",
       "      <td>2.490000e+02</td>\n",
       "    </tr>\n",
       "    <tr>\n",
       "      <th>A1_NEGAT_TRANS_COREPROF_CNT</th>\n",
       "      <td>21313.0</td>\n",
       "      <td>35.159855</td>\n",
       "      <td>37.115842</td>\n",
       "      <td>0.000000e+00</td>\n",
       "      <td>9.000000</td>\n",
       "      <td>26.000000</td>\n",
       "      <td>48.000000</td>\n",
       "      <td>4.750000e+02</td>\n",
       "    </tr>\n",
       "    <tr>\n",
       "      <th>A1_OVERDRAWN_DAYS_PROF_24_CNT</th>\n",
       "      <td>20585.0</td>\n",
       "      <td>5.494146</td>\n",
       "      <td>33.007985</td>\n",
       "      <td>0.000000e+00</td>\n",
       "      <td>0.000000</td>\n",
       "      <td>0.000000</td>\n",
       "      <td>0.000000</td>\n",
       "      <td>7.300000e+02</td>\n",
       "    </tr>\n",
       "    <tr>\n",
       "      <th>A1_OVERDRAWN_DAYS_PROF_6_CNT</th>\n",
       "      <td>18083.0</td>\n",
       "      <td>2.461704</td>\n",
       "      <td>14.098576</td>\n",
       "      <td>0.000000e+00</td>\n",
       "      <td>0.000000</td>\n",
       "      <td>0.000000</td>\n",
       "      <td>0.000000</td>\n",
       "      <td>1.850000e+02</td>\n",
       "    </tr>\n",
       "    <tr>\n",
       "      <th>A1_AVG_NEG_SALDO_PROF_3_AMT</th>\n",
       "      <td>21313.0</td>\n",
       "      <td>2811.626735</td>\n",
       "      <td>11792.999781</td>\n",
       "      <td>0.000000e+00</td>\n",
       "      <td>0.000000</td>\n",
       "      <td>0.130000</td>\n",
       "      <td>214.730000</td>\n",
       "      <td>3.046392e+05</td>\n",
       "    </tr>\n",
       "    <tr>\n",
       "      <th>A1_AVG_POS_SALDO_PROF_12_AMT</th>\n",
       "      <td>21313.0</td>\n",
       "      <td>14132.803871</td>\n",
       "      <td>27150.218401</td>\n",
       "      <td>0.000000e+00</td>\n",
       "      <td>1424.560000</td>\n",
       "      <td>5664.480000</td>\n",
       "      <td>15794.150000</td>\n",
       "      <td>8.838726e+05</td>\n",
       "    </tr>\n",
       "    <tr>\n",
       "      <th>A1_TOT_STND_PAYMNT_INT_PROF_CNT</th>\n",
       "      <td>21313.0</td>\n",
       "      <td>0.745883</td>\n",
       "      <td>1.678305</td>\n",
       "      <td>0.000000e+00</td>\n",
       "      <td>0.000000</td>\n",
       "      <td>0.000000</td>\n",
       "      <td>1.000000</td>\n",
       "      <td>3.500000e+01</td>\n",
       "    </tr>\n",
       "    <tr>\n",
       "      <th>CASHFLOW_MONTHLY_CREDIT_RT</th>\n",
       "      <td>18446.0</td>\n",
       "      <td>62.791555</td>\n",
       "      <td>99.583901</td>\n",
       "      <td>-1.966635e+02</td>\n",
       "      <td>13.321711</td>\n",
       "      <td>33.352599</td>\n",
       "      <td>72.683302</td>\n",
       "      <td>3.062448e+03</td>\n",
       "    </tr>\n",
       "    <tr>\n",
       "      <th>MONTHS_SINCE_LAST_REFUSAL_CNT</th>\n",
       "      <td>3283.0</td>\n",
       "      <td>57.309778</td>\n",
       "      <td>48.520518</td>\n",
       "      <td>1.000000e+00</td>\n",
       "      <td>16.000000</td>\n",
       "      <td>43.000000</td>\n",
       "      <td>90.000000</td>\n",
       "      <td>2.140000e+02</td>\n",
       "    </tr>\n",
       "    <tr>\n",
       "      <th>MONTHLY_CREDIT_AMT_TOT</th>\n",
       "      <td>23873.0</td>\n",
       "      <td>1145.659939</td>\n",
       "      <td>2683.956807</td>\n",
       "      <td>4.166667e+01</td>\n",
       "      <td>383.333333</td>\n",
       "      <td>633.333333</td>\n",
       "      <td>1249.333333</td>\n",
       "      <td>1.433333e+05</td>\n",
       "    </tr>\n",
       "    <tr>\n",
       "      <th>A2_ANNUAL_INCOME_AMT_scale</th>\n",
       "      <td>20585.0</td>\n",
       "      <td>-0.011440</td>\n",
       "      <td>1.012053</td>\n",
       "      <td>-8.368719e-01</td>\n",
       "      <td>-0.342147</td>\n",
       "      <td>-0.128019</td>\n",
       "      <td>0.144300</td>\n",
       "      <td>7.186598e+01</td>\n",
       "    </tr>\n",
       "    <tr>\n",
       "      <th>A2_AVG_NEG_SALDO_PRIV_12_AMT_scale</th>\n",
       "      <td>18454.0</td>\n",
       "      <td>0.007104</td>\n",
       "      <td>1.072080</td>\n",
       "      <td>-1.910037e-01</td>\n",
       "      <td>-0.191004</td>\n",
       "      <td>-0.179948</td>\n",
       "      <td>-0.050423</td>\n",
       "      <td>9.448275e+01</td>\n",
       "    </tr>\n",
       "    <tr>\n",
       "      <th>A2_AVG_POS_SALDO_SAVINGS_12_AMT_scale</th>\n",
       "      <td>16668.0</td>\n",
       "      <td>-0.019356</td>\n",
       "      <td>0.933199</td>\n",
       "      <td>-4.647899e-01</td>\n",
       "      <td>-0.437646</td>\n",
       "      <td>-0.318039</td>\n",
       "      <td>0.031481</td>\n",
       "      <td>3.026865e+01</td>\n",
       "    </tr>\n",
       "    <tr>\n",
       "      <th>A2_TOTAL_EMPLOYMENT_MONTHS_CNT_scale</th>\n",
       "      <td>21282.0</td>\n",
       "      <td>-0.011575</td>\n",
       "      <td>0.986212</td>\n",
       "      <td>-1.527919e+00</td>\n",
       "      <td>-0.774260</td>\n",
       "      <td>-0.187106</td>\n",
       "      <td>0.592843</td>\n",
       "      <td>1.014503e+01</td>\n",
       "    </tr>\n",
       "  </tbody>\n",
       "</table>\n",
       "</div>"
      ],
      "text/plain": [
       "                                         count  ...           max\n",
       "BEH_SCORE_AVG_A1                       16027.0  ...  7.570000e+02\n",
       "BEH_SCORE_AVG_A2                       16266.0  ...  7.570000e+02\n",
       "BEH_SCORE_MIN_A2                       16266.0  ...  7.570000e+02\n",
       "FHS_SCORE_AVG                          20688.0  ...  1.000000e+02\n",
       "FHS_SCORE_LATEST                       20621.0  ...  1.000000e+02\n",
       "CASH_FLOW_AMT                          20737.0  ...  1.989650e+06\n",
       "FREE_CASH_FLOW_AMT                        86.0  ...  1.946520e+05\n",
       "MTHS_SNC_1ST_REC_CNT                   26773.0  ...  4.991000e+03\n",
       "A1_AVG_POS_SALDO_PROF_1_AMT            21313.0  ...  9.274381e+05\n",
       "Invest_Amt                             23530.0  ...  4.297502e+06\n",
       "Original_loan_Amt                      15719.0  ...  2.250000e+06\n",
       "MTHS_FIRST_PCX_COREPRIV_CNT             1921.0  ...  2.300000e+02\n",
       "A2_MONTHS_IN_BELGIUM_CNT                2022.0  ...  9.090000e+02\n",
       "A1_TOT_DEB_INTEREST_PROF_6_AMT         21313.0  ...  1.585958e+05\n",
       "A2_MTHS_SNC_LAST_LIQ_PRIV_CNT           6439.0  ...  2.490000e+02\n",
       "A2_MTHS_SNC_FIRST_COREPROF_CNT          5127.0  ...  4.730000e+02\n",
       "A1_TOT_DEB_INTEREST_PROF_1_AMT         21313.0  ...  3.427748e+04\n",
       "MTHS_IN_BUSINESS_CNT                   25916.0  ...  3.180000e+03\n",
       "A2_MTHS_SNC_LAST_LIQ_SAVE_CNT          11502.0  ...  2.490000e+02\n",
       "A1_NEGAT_TRANS_COREPROF_CNT            21313.0  ...  4.750000e+02\n",
       "A1_OVERDRAWN_DAYS_PROF_24_CNT          20585.0  ...  7.300000e+02\n",
       "A1_OVERDRAWN_DAYS_PROF_6_CNT           18083.0  ...  1.850000e+02\n",
       "A1_AVG_NEG_SALDO_PROF_3_AMT            21313.0  ...  3.046392e+05\n",
       "A1_AVG_POS_SALDO_PROF_12_AMT           21313.0  ...  8.838726e+05\n",
       "A1_TOT_STND_PAYMNT_INT_PROF_CNT        21313.0  ...  3.500000e+01\n",
       "CASHFLOW_MONTHLY_CREDIT_RT             18446.0  ...  3.062448e+03\n",
       "MONTHS_SINCE_LAST_REFUSAL_CNT           3283.0  ...  2.140000e+02\n",
       "MONTHLY_CREDIT_AMT_TOT                 23873.0  ...  1.433333e+05\n",
       "A2_ANNUAL_INCOME_AMT_scale             20585.0  ...  7.186598e+01\n",
       "A2_AVG_NEG_SALDO_PRIV_12_AMT_scale     18454.0  ...  9.448275e+01\n",
       "A2_AVG_POS_SALDO_SAVINGS_12_AMT_scale  16668.0  ...  3.026865e+01\n",
       "A2_TOTAL_EMPLOYMENT_MONTHS_CNT_scale   21282.0  ...  1.014503e+01\n",
       "\n",
       "[32 rows x 8 columns]"
      ]
     },
     "execution_count": 7,
     "metadata": {
      "tags": []
     },
     "output_type": "execute_result"
    }
   ],
   "source": [
    "# Summary statistics for numerical features\n",
    "data_train[num_cols].describe().T"
   ]
  },
  {
   "cell_type": "code",
   "execution_count": 8,
   "metadata": {
    "colab": {
     "base_uri": "https://localhost:8080/",
     "height": 421
    },
    "executionInfo": {
     "elapsed": 13811,
     "status": "ok",
     "timestamp": 1605774539405,
     "user": {
      "displayName": "Amin T.",
      "photoUrl": "https://lh3.googleusercontent.com/a-/AOh14GhLSDDfMbtcwB_Rx9shExjq9xAjHfktW4EOUC4z=s64",
      "userId": "18045034436816550073"
     },
     "user_tz": -60
    },
    "id": "dyALYWACeMyi",
    "outputId": "b00477f8-0055-4b51-c26a-18a8be2abe51"
   },
   "outputs": [
    {
     "data": {
      "text/html": [
       "<div>\n",
       "<style scoped>\n",
       "    .dataframe tbody tr th:only-of-type {\n",
       "        vertical-align: middle;\n",
       "    }\n",
       "\n",
       "    .dataframe tbody tr th {\n",
       "        vertical-align: top;\n",
       "    }\n",
       "\n",
       "    .dataframe thead th {\n",
       "        text-align: right;\n",
       "    }\n",
       "</style>\n",
       "<table border=\"1\" class=\"dataframe\">\n",
       "  <thead>\n",
       "    <tr style=\"text-align: right;\">\n",
       "      <th></th>\n",
       "      <th>count</th>\n",
       "      <th>unique</th>\n",
       "      <th>top</th>\n",
       "      <th>freq</th>\n",
       "    </tr>\n",
       "  </thead>\n",
       "  <tbody>\n",
       "    <tr>\n",
       "      <th>Type</th>\n",
       "      <td>26962</td>\n",
       "      <td>2</td>\n",
       "      <td>Company_Known</td>\n",
       "      <td>25125</td>\n",
       "    </tr>\n",
       "    <tr>\n",
       "      <th>INDUSTRY_CD_3</th>\n",
       "      <td>26962</td>\n",
       "      <td>212</td>\n",
       "      <td>662</td>\n",
       "      <td>2539</td>\n",
       "    </tr>\n",
       "    <tr>\n",
       "      <th>INDUSTRY_CD_4</th>\n",
       "      <td>26962</td>\n",
       "      <td>419</td>\n",
       "      <td>6622</td>\n",
       "      <td>2460</td>\n",
       "    </tr>\n",
       "    <tr>\n",
       "      <th>Managing_Sales_Office_Nbr</th>\n",
       "      <td>12919</td>\n",
       "      <td>1377</td>\n",
       "      <td>0a02c9ca</td>\n",
       "      <td>130</td>\n",
       "    </tr>\n",
       "    <tr>\n",
       "      <th>Postal_Code_L</th>\n",
       "      <td>13275</td>\n",
       "      <td>909</td>\n",
       "      <td>70902458</td>\n",
       "      <td>136</td>\n",
       "    </tr>\n",
       "    <tr>\n",
       "      <th>Product_Desc</th>\n",
       "      <td>23714</td>\n",
       "      <td>8</td>\n",
       "      <td>Bizness financiering</td>\n",
       "      <td>15890</td>\n",
       "    </tr>\n",
       "    <tr>\n",
       "      <th>CREDIT_TYPE_CD</th>\n",
       "      <td>26962</td>\n",
       "      <td>2</td>\n",
       "      <td>IK</td>\n",
       "      <td>23878</td>\n",
       "    </tr>\n",
       "    <tr>\n",
       "      <th>ACCOUNT_PURPOSE_CD</th>\n",
       "      <td>26962</td>\n",
       "      <td>57</td>\n",
       "      <td>65</td>\n",
       "      <td>9680</td>\n",
       "    </tr>\n",
       "    <tr>\n",
       "      <th>A2_MARITAL_STATUS_CD</th>\n",
       "      <td>26961</td>\n",
       "      <td>5</td>\n",
       "      <td>2.0</td>\n",
       "      <td>16541</td>\n",
       "    </tr>\n",
       "    <tr>\n",
       "      <th>FINANCIAL_PRODUCT_TYPE_CD</th>\n",
       "      <td>26962</td>\n",
       "      <td>2</td>\n",
       "      <td>MTG</td>\n",
       "      <td>23878</td>\n",
       "    </tr>\n",
       "    <tr>\n",
       "      <th>A2_EMPLOYMENT_STATUS_CD</th>\n",
       "      <td>26962</td>\n",
       "      <td>34</td>\n",
       "      <td>410</td>\n",
       "      <td>6371</td>\n",
       "    </tr>\n",
       "    <tr>\n",
       "      <th>A2_RESIDENT_STATUS_CD</th>\n",
       "      <td>26900</td>\n",
       "      <td>4</td>\n",
       "      <td>1.0</td>\n",
       "      <td>22793</td>\n",
       "    </tr>\n",
       "  </tbody>\n",
       "</table>\n",
       "</div>"
      ],
      "text/plain": [
       "                           count unique                   top   freq\n",
       "Type                       26962      2         Company_Known  25125\n",
       "INDUSTRY_CD_3              26962    212                   662   2539\n",
       "INDUSTRY_CD_4              26962    419                  6622   2460\n",
       "Managing_Sales_Office_Nbr  12919   1377              0a02c9ca    130\n",
       "Postal_Code_L              13275    909              70902458    136\n",
       "Product_Desc               23714      8  Bizness financiering  15890\n",
       "CREDIT_TYPE_CD             26962      2                    IK  23878\n",
       "ACCOUNT_PURPOSE_CD         26962     57                    65   9680\n",
       "A2_MARITAL_STATUS_CD       26961      5                   2.0  16541\n",
       "FINANCIAL_PRODUCT_TYPE_CD  26962      2                   MTG  23878\n",
       "A2_EMPLOYMENT_STATUS_CD    26962     34                   410   6371\n",
       "A2_RESIDENT_STATUS_CD      26900      4                   1.0  22793"
      ]
     },
     "execution_count": 8,
     "metadata": {
      "tags": []
     },
     "output_type": "execute_result"
    }
   ],
   "source": [
    "data_train[cat_cols].describe().T"
   ]
  },
  {
   "cell_type": "code",
   "execution_count": 9,
   "metadata": {
    "colab": {
     "base_uri": "https://localhost:8080/"
    },
    "executionInfo": {
     "elapsed": 13782,
     "status": "ok",
     "timestamp": 1605774539407,
     "user": {
      "displayName": "Amin T.",
      "photoUrl": "https://lh3.googleusercontent.com/a-/AOh14GhLSDDfMbtcwB_Rx9shExjq9xAjHfktW4EOUC4z=s64",
      "userId": "18045034436816550073"
     },
     "user_tz": -60
    },
    "id": "zKjEKIniei3C",
    "outputId": "09c9f80a-a4e8-4461-9079-365b9bbd250b"
   },
   "outputs": [
    {
     "data": {
      "text/plain": [
       "N    26168\n",
       "Y      794\n",
       "Name: Label_Default, dtype: int64"
      ]
     },
     "execution_count": 9,
     "metadata": {
      "tags": []
     },
     "output_type": "execute_result"
    }
   ],
   "source": [
    "data_train[target_col].value_counts()"
   ]
  },
  {
   "cell_type": "code",
   "execution_count": 10,
   "metadata": {
    "colab": {
     "base_uri": "https://localhost:8080/"
    },
    "executionInfo": {
     "elapsed": 13754,
     "status": "ok",
     "timestamp": 1605774539409,
     "user": {
      "displayName": "Amin T.",
      "photoUrl": "https://lh3.googleusercontent.com/a-/AOh14GhLSDDfMbtcwB_Rx9shExjq9xAjHfktW4EOUC4z=s64",
      "userId": "18045034436816550073"
     },
     "user_tz": -60
    },
    "id": "6Om9KuNWe06j",
    "outputId": "fcb21a56-94df-4506-964c-46093593e31b"
   },
   "outputs": [
    {
     "data": {
      "text/plain": [
       "Type             Label_Default\n",
       "Company_Known    N                24437\n",
       "Company_Unknown  N                 1731\n",
       "Company_Known    Y                  688\n",
       "Company_Unknown  Y                  106\n",
       "dtype: int64"
      ]
     },
     "execution_count": 10,
     "metadata": {
      "tags": []
     },
     "output_type": "execute_result"
    }
   ],
   "source": [
    "data_train[['Type', target_col]].value_counts()"
   ]
  },
  {
   "cell_type": "code",
   "execution_count": 11,
   "metadata": {
    "executionInfo": {
     "elapsed": 13746,
     "status": "ok",
     "timestamp": 1605774539412,
     "user": {
      "displayName": "Amin T.",
      "photoUrl": "https://lh3.googleusercontent.com/a-/AOh14GhLSDDfMbtcwB_Rx9shExjq9xAjHfktW4EOUC4z=s64",
      "userId": "18045034436816550073"
     },
     "user_tz": -60
    },
    "id": "_r7IY1TZfJU9"
   },
   "outputs": [],
   "source": [
    "# Split the data into train and test\n",
    "train_ind, test_ind = train_test_split(data_train.index, test_size = 0.2, random_state=1)"
   ]
  },
  {
   "cell_type": "code",
   "execution_count": 12,
   "metadata": {
    "colab": {
     "base_uri": "https://localhost:8080/"
    },
    "executionInfo": {
     "elapsed": 13721,
     "status": "ok",
     "timestamp": 1605774539415,
     "user": {
      "displayName": "Amin T.",
      "photoUrl": "https://lh3.googleusercontent.com/a-/AOh14GhLSDDfMbtcwB_Rx9shExjq9xAjHfktW4EOUC4z=s64",
      "userId": "18045034436816550073"
     },
     "user_tz": -60
    },
    "id": "KB6iREE_jz7S",
    "outputId": "28b4286a-91cd-4810-98f3-447af0fb039f"
   },
   "outputs": [
    {
     "name": "stdout",
     "output_type": "stream",
     "text": [
      "Int64Index([10648,  4018,  8212, 23763, 15708, 14801, 20423, 17743,  4826,\n",
      "            13413,\n",
      "            ...\n",
      "            20610,   145, 21441, 19280,  7814, 10956, 17290,  5193, 12173,\n",
      "              236],\n",
      "           dtype='int64', name='LoanID', length=21569)\n",
      "Int64Index([20744,  9618,  8385, 16965,  6612, 20213, 11132, 17531,  9406,\n",
      "            24024,\n",
      "            ...\n",
      "            12851, 23815, 18732,  6955, 19768,  1894, 10912,  7916, 21129,\n",
      "            24357],\n",
      "           dtype='int64', name='LoanID', length=5393)\n"
     ]
    }
   ],
   "source": [
    "print(train_ind)\n",
    "print(test_ind)"
   ]
  },
  {
   "cell_type": "markdown",
   "metadata": {
    "id": "HPFfA8m2jTnp"
   },
   "source": [
    "# **Handling missing values**"
   ]
  },
  {
   "cell_type": "code",
   "execution_count": 13,
   "metadata": {
    "colab": {
     "base_uri": "https://localhost:8080/"
    },
    "executionInfo": {
     "elapsed": 13694,
     "status": "ok",
     "timestamp": 1605774539417,
     "user": {
      "displayName": "Amin T.",
      "photoUrl": "https://lh3.googleusercontent.com/a-/AOh14GhLSDDfMbtcwB_Rx9shExjq9xAjHfktW4EOUC4z=s64",
      "userId": "18045034436816550073"
     },
     "user_tz": -60
    },
    "id": "MozlVwtm-9bH",
    "outputId": "201447b1-0c42-43a1-88cb-b27e1a6e8e30"
   },
   "outputs": [
    {
     "data": {
      "text/plain": [
       "Type                                         0\n",
       "INDUSTRY_CD_3                                0\n",
       "INDUSTRY_CD_4                                0\n",
       "BEH_SCORE_AVG_A1                         10935\n",
       "BEH_SCORE_AVG_A2                         10696\n",
       "BEH_SCORE_MIN_A2                         10696\n",
       "FHS_SCORE_AVG                             6274\n",
       "FHS_SCORE_LATEST                          6341\n",
       "CASH_FLOW_AMT                             6225\n",
       "FREE_CASH_FLOW_AMT                       26876\n",
       "MTHS_SNC_1ST_REC_CNT                       189\n",
       "Managing_Sales_Office_Nbr                14043\n",
       "Postal_Code_L                            13687\n",
       "A1_AVG_POS_SALDO_PROF_1_AMT               5649\n",
       "Invest_Amt                                3432\n",
       "Original_loan_Amt                        11243\n",
       "MTHS_FIRST_PCX_COREPRIV_CNT              25041\n",
       "Product_Desc                              3248\n",
       "CREDIT_TYPE_CD                               0\n",
       "ACCOUNT_PURPOSE_CD                           0\n",
       "A2_MONTHS_IN_BELGIUM_CNT                 24940\n",
       "A1_TOT_DEB_INTEREST_PROF_6_AMT            5649\n",
       "A2_MTHS_SNC_LAST_LIQ_PRIV_CNT            20523\n",
       "A2_MTHS_SNC_FIRST_COREPROF_CNT           21835\n",
       "A2_MARITAL_STATUS_CD                         1\n",
       "A1_TOT_DEB_INTEREST_PROF_1_AMT            5649\n",
       "MTHS_IN_BUSINESS_CNT                      1046\n",
       "A2_MTHS_SNC_LAST_LIQ_SAVE_CNT            15460\n",
       "A1_NEGAT_TRANS_COREPROF_CNT               5649\n",
       "FINANCIAL_PRODUCT_TYPE_CD                    0\n",
       "A1_OVERDRAWN_DAYS_PROF_24_CNT             6377\n",
       "A1_OVERDRAWN_DAYS_PROF_6_CNT              8879\n",
       "A2_EMPLOYMENT_STATUS_CD                      0\n",
       "A1_AVG_NEG_SALDO_PROF_3_AMT               5649\n",
       "A1_AVG_POS_SALDO_PROF_12_AMT              5649\n",
       "A2_RESIDENT_STATUS_CD                       62\n",
       "A1_TOT_STND_PAYMNT_INT_PROF_CNT           5649\n",
       "CASHFLOW_MONTHLY_CREDIT_RT                8516\n",
       "MONTHS_SINCE_LAST_REFUSAL_CNT            23679\n",
       "MONTHLY_CREDIT_AMT_TOT                    3089\n",
       "A2_ANNUAL_INCOME_AMT_scale                6377\n",
       "A2_AVG_NEG_SALDO_PRIV_12_AMT_scale        8508\n",
       "A2_AVG_POS_SALDO_SAVINGS_12_AMT_scale    10294\n",
       "A2_TOTAL_EMPLOYMENT_MONTHS_CNT_scale      5680\n",
       "dtype: int64"
      ]
     },
     "execution_count": 13,
     "metadata": {
      "tags": []
     },
     "output_type": "execute_result"
    }
   ],
   "source": [
    "X.isna().sum()"
   ]
  },
  {
   "cell_type": "code",
   "execution_count": 14,
   "metadata": {
    "executionInfo": {
     "elapsed": 13687,
     "status": "ok",
     "timestamp": 1605774539419,
     "user": {
      "displayName": "Amin T.",
      "photoUrl": "https://lh3.googleusercontent.com/a-/AOh14GhLSDDfMbtcwB_Rx9shExjq9xAjHfktW4EOUC4z=s64",
      "userId": "18045034436816550073"
     },
     "user_tz": -60
    },
    "id": "7nUOyI_ngFSA"
   },
   "outputs": [],
   "source": [
    "# % of data missing in every column\n",
    "pcnt_missing_all = (X.isna().sum()/X.shape[0])*100\n",
    "\n",
    "# % of data missing in numerical columns\n",
    "pcnt_missing_num = (X[num_cols].isna().sum()/X.shape[0])*100\n",
    "\n",
    "# % of data missing in categorical columns\n",
    "pcnt_missing_cat = (X[cat_cols].isna().sum()/X.shape[0])*100"
   ]
  },
  {
   "cell_type": "code",
   "execution_count": 15,
   "metadata": {
    "colab": {
     "base_uri": "https://localhost:8080/"
    },
    "executionInfo": {
     "elapsed": 13663,
     "status": "ok",
     "timestamp": 1605774539421,
     "user": {
      "displayName": "Amin T.",
      "photoUrl": "https://lh3.googleusercontent.com/a-/AOh14GhLSDDfMbtcwB_Rx9shExjq9xAjHfktW4EOUC4z=s64",
      "userId": "18045034436816550073"
     },
     "user_tz": -60
    },
    "id": "FhpPnh_RGzPD",
    "outputId": "e096669b-4ccc-43b4-979d-e89868e21488"
   },
   "outputs": [
    {
     "data": {
      "text/plain": [
       "Type                                      0.000000\n",
       "INDUSTRY_CD_3                             0.000000\n",
       "INDUSTRY_CD_4                             0.000000\n",
       "BEH_SCORE_AVG_A1                         40.557080\n",
       "BEH_SCORE_AVG_A2                         39.670648\n",
       "BEH_SCORE_MIN_A2                         39.670648\n",
       "FHS_SCORE_AVG                            23.269787\n",
       "FHS_SCORE_LATEST                         23.518285\n",
       "CASH_FLOW_AMT                            23.088050\n",
       "FREE_CASH_FLOW_AMT                       99.681033\n",
       "MTHS_SNC_1ST_REC_CNT                      0.700987\n",
       "Managing_Sales_Office_Nbr                52.084415\n",
       "Postal_Code_L                            50.764038\n",
       "A1_AVG_POS_SALDO_PROF_1_AMT              20.951710\n",
       "Invest_Amt                               12.729026\n",
       "Original_loan_Amt                        41.699429\n",
       "MTHS_FIRST_PCX_COREPRIV_CNT              92.875158\n",
       "Product_Desc                             12.046584\n",
       "CREDIT_TYPE_CD                            0.000000\n",
       "ACCOUNT_PURPOSE_CD                        0.000000\n",
       "A2_MONTHS_IN_BELGIUM_CNT                 92.500556\n",
       "A1_TOT_DEB_INTEREST_PROF_6_AMT           20.951710\n",
       "A2_MTHS_SNC_LAST_LIQ_PRIV_CNT            76.118240\n",
       "A2_MTHS_SNC_FIRST_COREPROF_CNT           80.984348\n",
       "A2_MARITAL_STATUS_CD                      0.003709\n",
       "A1_TOT_DEB_INTEREST_PROF_1_AMT           20.951710\n",
       "MTHS_IN_BUSINESS_CNT                      3.879534\n",
       "A2_MTHS_SNC_LAST_LIQ_SAVE_CNT            57.339960\n",
       "A1_NEGAT_TRANS_COREPROF_CNT              20.951710\n",
       "FINANCIAL_PRODUCT_TYPE_CD                 0.000000\n",
       "A1_OVERDRAWN_DAYS_PROF_24_CNT            23.651806\n",
       "A1_OVERDRAWN_DAYS_PROF_6_CNT             32.931533\n",
       "A2_EMPLOYMENT_STATUS_CD                   0.000000\n",
       "A1_AVG_NEG_SALDO_PROF_3_AMT              20.951710\n",
       "A1_AVG_POS_SALDO_PROF_12_AMT             20.951710\n",
       "A2_RESIDENT_STATUS_CD                     0.229953\n",
       "A1_TOT_STND_PAYMNT_INT_PROF_CNT          20.951710\n",
       "CASHFLOW_MONTHLY_CREDIT_RT               31.585194\n",
       "MONTHS_SINCE_LAST_REFUSAL_CNT            87.823604\n",
       "MONTHLY_CREDIT_AMT_TOT                   11.456865\n",
       "A2_ANNUAL_INCOME_AMT_scale               23.651806\n",
       "A2_AVG_NEG_SALDO_PRIV_12_AMT_scale       31.555523\n",
       "A2_AVG_POS_SALDO_SAVINGS_12_AMT_scale    38.179660\n",
       "A2_TOTAL_EMPLOYMENT_MONTHS_CNT_scale     21.066686\n",
       "dtype: float64"
      ]
     },
     "execution_count": 15,
     "metadata": {
      "tags": []
     },
     "output_type": "execute_result"
    }
   ],
   "source": [
    "pcnt_missing_all"
   ]
  },
  {
   "cell_type": "code",
   "execution_count": 16,
   "metadata": {
    "colab": {
     "base_uri": "https://localhost:8080/"
    },
    "executionInfo": {
     "elapsed": 13642,
     "status": "ok",
     "timestamp": 1605774539424,
     "user": {
      "displayName": "Amin T.",
      "photoUrl": "https://lh3.googleusercontent.com/a-/AOh14GhLSDDfMbtcwB_Rx9shExjq9xAjHfktW4EOUC4z=s64",
      "userId": "18045034436816550073"
     },
     "user_tz": -60
    },
    "id": "78EfCRz8_Udk",
    "outputId": "5e0d173e-4229-46c0-b500-14efc45a9843"
   },
   "outputs": [
    {
     "data": {
      "text/plain": [
       "Index(['FREE_CASH_FLOW_AMT', 'MTHS_FIRST_PCX_COREPRIV_CNT',\n",
       "       'A2_MONTHS_IN_BELGIUM_CNT'],\n",
       "      dtype='object')"
      ]
     },
     "execution_count": 16,
     "metadata": {
      "tags": []
     },
     "output_type": "execute_result"
    }
   ],
   "source": [
    "# drop columns with more than 90% missing values from train, validation and test sets\n",
    "drop_cols = pcnt_missing_all[pcnt_missing_all>=90].index\n",
    "drop_cols"
   ]
  },
  {
   "cell_type": "code",
   "execution_count": 17,
   "metadata": {
    "executionInfo": {
     "elapsed": 13636,
     "status": "ok",
     "timestamp": 1605774539427,
     "user": {
      "displayName": "Amin T.",
      "photoUrl": "https://lh3.googleusercontent.com/a-/AOh14GhLSDDfMbtcwB_Rx9shExjq9xAjHfktW4EOUC4z=s64",
      "userId": "18045034436816550073"
     },
     "user_tz": -60
    },
    "id": "zBkharabHLhi"
   },
   "outputs": [],
   "source": [
    "# create empty DataFrames for preprocessed train and test data\n",
    "X_train = pd.DataFrame(index=train_ind)\n",
    "X_test = pd.DataFrame(index=test_ind)"
   ]
  },
  {
   "cell_type": "code",
   "execution_count": 18,
   "metadata": {
    "executionInfo": {
     "elapsed": 13629,
     "status": "ok",
     "timestamp": 1605774539429,
     "user": {
      "displayName": "Amin T.",
      "photoUrl": "https://lh3.googleusercontent.com/a-/AOh14GhLSDDfMbtcwB_Rx9shExjq9xAjHfktW4EOUC4z=s64",
      "userId": "18045034436816550073"
     },
     "user_tz": -60
    },
    "id": "AocJxe_YA6Sl"
   },
   "outputs": [],
   "source": [
    "# for columns with more than 50% and less than 90% missing values\n",
    "# replace existing values with 0 and missing values (NaN) with 1\n",
    "\n",
    "for col in pcnt_missing_all.index:\n",
    "  if pcnt_missing_all[col] >= 50 and pcnt_missing_all[col] < 90:\n",
    "    X_train[col] = X.loc[train_ind, col].isna().astype(int)\n",
    "    X_test[col] = X.loc[test_ind, col].isna().astype(int)"
   ]
  },
  {
   "cell_type": "code",
   "execution_count": 19,
   "metadata": {
    "executionInfo": {
     "elapsed": 14206,
     "status": "ok",
     "timestamp": 1605774540014,
     "user": {
      "displayName": "Amin T.",
      "photoUrl": "https://lh3.googleusercontent.com/a-/AOh14GhLSDDfMbtcwB_Rx9shExjq9xAjHfktW4EOUC4z=s64",
      "userId": "18045034436816550073"
     },
     "user_tz": -60
    },
    "id": "kcyWyJRBA7gc"
   },
   "outputs": [],
   "source": [
    "# for numerical columns with less than 50% missing data,\n",
    "# replace NaN in train and test sets with average value of train set\n",
    "\n",
    "for col in pcnt_missing_num.index:\n",
    "  if pcnt_missing_num[col] < 50:\n",
    "    mean_value = X.loc[train_ind, col].mean()\n",
    "    X_train[col] = X.loc[train_ind, col].fillna(value=mean_value)\n",
    "    X_test[col] = X.loc[test_ind, col].fillna(value=mean_value)"
   ]
  },
  {
   "cell_type": "code",
   "execution_count": 20,
   "metadata": {
    "executionInfo": {
     "elapsed": 14202,
     "status": "ok",
     "timestamp": 1605774540018,
     "user": {
      "displayName": "Amin T.",
      "photoUrl": "https://lh3.googleusercontent.com/a-/AOh14GhLSDDfMbtcwB_Rx9shExjq9xAjHfktW4EOUC4z=s64",
      "userId": "18045034436816550073"
     },
     "user_tz": -60
    },
    "id": "uYLaY6IJKOF4"
   },
   "outputs": [],
   "source": [
    "# for categorical columns with less than 50% missing data,\n",
    "# replace NaN in train and test sets with most frequent value of train set\n",
    "\n",
    "for col in pcnt_missing_cat.index:\n",
    "  if pcnt_missing_cat[col] < 50:\n",
    "    freq_value = X.loc[train_ind, col].mode()[0]\n",
    "    X_train[col] = X.loc[train_ind, col].fillna(value=freq_value)\n",
    "    X_test[col] = X.loc[test_ind, col].fillna(value=freq_value)"
   ]
  },
  {
   "cell_type": "code",
   "execution_count": 21,
   "metadata": {
    "colab": {
     "base_uri": "https://localhost:8080/"
    },
    "executionInfo": {
     "elapsed": 14178,
     "status": "ok",
     "timestamp": 1605774540020,
     "user": {
      "displayName": "Amin T.",
      "photoUrl": "https://lh3.googleusercontent.com/a-/AOh14GhLSDDfMbtcwB_Rx9shExjq9xAjHfktW4EOUC4z=s64",
      "userId": "18045034436816550073"
     },
     "user_tz": -60
    },
    "id": "CcNY8qYxKN4g",
    "outputId": "7207a4dd-270b-4e64-c785-8b0b08fac87a"
   },
   "outputs": [
    {
     "data": {
      "text/plain": [
       "Managing_Sales_Office_Nbr                0\n",
       "Postal_Code_L                            0\n",
       "A2_MTHS_SNC_LAST_LIQ_PRIV_CNT            0\n",
       "A2_MTHS_SNC_FIRST_COREPROF_CNT           0\n",
       "A2_MTHS_SNC_LAST_LIQ_SAVE_CNT            0\n",
       "MONTHS_SINCE_LAST_REFUSAL_CNT            0\n",
       "BEH_SCORE_AVG_A1                         0\n",
       "BEH_SCORE_AVG_A2                         0\n",
       "BEH_SCORE_MIN_A2                         0\n",
       "FHS_SCORE_AVG                            0\n",
       "FHS_SCORE_LATEST                         0\n",
       "CASH_FLOW_AMT                            0\n",
       "MTHS_SNC_1ST_REC_CNT                     0\n",
       "A1_AVG_POS_SALDO_PROF_1_AMT              0\n",
       "Invest_Amt                               0\n",
       "Original_loan_Amt                        0\n",
       "A1_TOT_DEB_INTEREST_PROF_6_AMT           0\n",
       "A1_TOT_DEB_INTEREST_PROF_1_AMT           0\n",
       "MTHS_IN_BUSINESS_CNT                     0\n",
       "A1_NEGAT_TRANS_COREPROF_CNT              0\n",
       "A1_OVERDRAWN_DAYS_PROF_24_CNT            0\n",
       "A1_OVERDRAWN_DAYS_PROF_6_CNT             0\n",
       "A1_AVG_NEG_SALDO_PROF_3_AMT              0\n",
       "A1_AVG_POS_SALDO_PROF_12_AMT             0\n",
       "A1_TOT_STND_PAYMNT_INT_PROF_CNT          0\n",
       "CASHFLOW_MONTHLY_CREDIT_RT               0\n",
       "MONTHLY_CREDIT_AMT_TOT                   0\n",
       "A2_ANNUAL_INCOME_AMT_scale               0\n",
       "A2_AVG_NEG_SALDO_PRIV_12_AMT_scale       0\n",
       "A2_AVG_POS_SALDO_SAVINGS_12_AMT_scale    0\n",
       "A2_TOTAL_EMPLOYMENT_MONTHS_CNT_scale     0\n",
       "Type                                     0\n",
       "INDUSTRY_CD_3                            0\n",
       "INDUSTRY_CD_4                            0\n",
       "Product_Desc                             0\n",
       "CREDIT_TYPE_CD                           0\n",
       "ACCOUNT_PURPOSE_CD                       0\n",
       "A2_MARITAL_STATUS_CD                     0\n",
       "FINANCIAL_PRODUCT_TYPE_CD                0\n",
       "A2_EMPLOYMENT_STATUS_CD                  0\n",
       "A2_RESIDENT_STATUS_CD                    0\n",
       "dtype: int64"
      ]
     },
     "execution_count": 21,
     "metadata": {
      "tags": []
     },
     "output_type": "execute_result"
    }
   ],
   "source": [
    "X_train.isna().sum()"
   ]
  },
  {
   "cell_type": "markdown",
   "metadata": {
    "id": "nk9PFnwerXa3"
   },
   "source": [
    "# **Dummy encoding**"
   ]
  },
  {
   "cell_type": "code",
   "execution_count": 22,
   "metadata": {
    "colab": {
     "base_uri": "https://localhost:8080/"
    },
    "executionInfo": {
     "elapsed": 14157,
     "status": "ok",
     "timestamp": 1605774540023,
     "user": {
      "displayName": "Amin T.",
      "photoUrl": "https://lh3.googleusercontent.com/a-/AOh14GhLSDDfMbtcwB_Rx9shExjq9xAjHfktW4EOUC4z=s64",
      "userId": "18045034436816550073"
     },
     "user_tz": -60
    },
    "id": "_QyZjGuPOqs3",
    "outputId": "0023e1d4-443c-42c9-a031-ebc1d80df385"
   },
   "outputs": [
    {
     "data": {
      "text/plain": [
       "array(['IK', 'KK'], dtype=object)"
      ]
     },
     "execution_count": 22,
     "metadata": {
      "tags": []
     },
     "output_type": "execute_result"
    }
   ],
   "source": [
    "# unique() function returns the unique values of a column or feature\n",
    "X['CREDIT_TYPE_CD'].unique()"
   ]
  },
  {
   "cell_type": "code",
   "execution_count": 23,
   "metadata": {
    "colab": {
     "base_uri": "https://localhost:8080/"
    },
    "executionInfo": {
     "elapsed": 14135,
     "status": "ok",
     "timestamp": 1605774540026,
     "user": {
      "displayName": "Amin T.",
      "photoUrl": "https://lh3.googleusercontent.com/a-/AOh14GhLSDDfMbtcwB_Rx9shExjq9xAjHfktW4EOUC4z=s64",
      "userId": "18045034436816550073"
     },
     "user_tz": -60
    },
    "id": "xrA60Qeprf0U",
    "outputId": "f15c11a3-d404-4c91-d048-ac6ae99d419b"
   },
   "outputs": [
    {
     "data": {
      "text/plain": [
       "Type                            2\n",
       "INDUSTRY_CD_3                 212\n",
       "INDUSTRY_CD_4                 419\n",
       "Managing_Sales_Office_Nbr    1377\n",
       "Postal_Code_L                 909\n",
       "Product_Desc                    8\n",
       "CREDIT_TYPE_CD                  2\n",
       "ACCOUNT_PURPOSE_CD             57\n",
       "A2_MARITAL_STATUS_CD            5\n",
       "FINANCIAL_PRODUCT_TYPE_CD       2\n",
       "A2_EMPLOYMENT_STATUS_CD        34\n",
       "A2_RESIDENT_STATUS_CD           4\n",
       "dtype: int64"
      ]
     },
     "execution_count": 23,
     "metadata": {
      "tags": []
     },
     "output_type": "execute_result"
    }
   ],
   "source": [
    "# nunique() counts the number of unique value per column of data\n",
    "X[cat_cols].nunique()"
   ]
  },
  {
   "cell_type": "code",
   "execution_count": 24,
   "metadata": {
    "colab": {
     "base_uri": "https://localhost:8080/",
     "height": 450
    },
    "executionInfo": {
     "elapsed": 14112,
     "status": "ok",
     "timestamp": 1605774540029,
     "user": {
      "displayName": "Amin T.",
      "photoUrl": "https://lh3.googleusercontent.com/a-/AOh14GhLSDDfMbtcwB_Rx9shExjq9xAjHfktW4EOUC4z=s64",
      "userId": "18045034436816550073"
     },
     "user_tz": -60
    },
    "id": "6sXKZ2thrh7V",
    "outputId": "800627a5-cc06-49c9-a3ab-f9850c7ba097"
   },
   "outputs": [
    {
     "data": {
      "text/html": [
       "<div>\n",
       "<style scoped>\n",
       "    .dataframe tbody tr th:only-of-type {\n",
       "        vertical-align: middle;\n",
       "    }\n",
       "\n",
       "    .dataframe tbody tr th {\n",
       "        vertical-align: top;\n",
       "    }\n",
       "\n",
       "    .dataframe thead th {\n",
       "        text-align: right;\n",
       "    }\n",
       "</style>\n",
       "<table border=\"1\" class=\"dataframe\">\n",
       "  <thead>\n",
       "    <tr style=\"text-align: right;\">\n",
       "      <th></th>\n",
       "      <th>CREDI_IK</th>\n",
       "      <th>CREDI_KK</th>\n",
       "    </tr>\n",
       "    <tr>\n",
       "      <th>LoanID</th>\n",
       "      <th></th>\n",
       "      <th></th>\n",
       "    </tr>\n",
       "  </thead>\n",
       "  <tbody>\n",
       "    <tr>\n",
       "      <th>1</th>\n",
       "      <td>1</td>\n",
       "      <td>0</td>\n",
       "    </tr>\n",
       "    <tr>\n",
       "      <th>2</th>\n",
       "      <td>1</td>\n",
       "      <td>0</td>\n",
       "    </tr>\n",
       "    <tr>\n",
       "      <th>3</th>\n",
       "      <td>1</td>\n",
       "      <td>0</td>\n",
       "    </tr>\n",
       "    <tr>\n",
       "      <th>4</th>\n",
       "      <td>1</td>\n",
       "      <td>0</td>\n",
       "    </tr>\n",
       "    <tr>\n",
       "      <th>5</th>\n",
       "      <td>1</td>\n",
       "      <td>0</td>\n",
       "    </tr>\n",
       "    <tr>\n",
       "      <th>...</th>\n",
       "      <td>...</td>\n",
       "      <td>...</td>\n",
       "    </tr>\n",
       "    <tr>\n",
       "      <th>26958</th>\n",
       "      <td>1</td>\n",
       "      <td>0</td>\n",
       "    </tr>\n",
       "    <tr>\n",
       "      <th>26959</th>\n",
       "      <td>1</td>\n",
       "      <td>0</td>\n",
       "    </tr>\n",
       "    <tr>\n",
       "      <th>26960</th>\n",
       "      <td>1</td>\n",
       "      <td>0</td>\n",
       "    </tr>\n",
       "    <tr>\n",
       "      <th>26961</th>\n",
       "      <td>1</td>\n",
       "      <td>0</td>\n",
       "    </tr>\n",
       "    <tr>\n",
       "      <th>26962</th>\n",
       "      <td>1</td>\n",
       "      <td>0</td>\n",
       "    </tr>\n",
       "  </tbody>\n",
       "</table>\n",
       "<p>26962 rows × 2 columns</p>\n",
       "</div>"
      ],
      "text/plain": [
       "        CREDI_IK  CREDI_KK\n",
       "LoanID                    \n",
       "1              1         0\n",
       "2              1         0\n",
       "3              1         0\n",
       "4              1         0\n",
       "5              1         0\n",
       "...          ...       ...\n",
       "26958          1         0\n",
       "26959          1         0\n",
       "26960          1         0\n",
       "26961          1         0\n",
       "26962          1         0\n",
       "\n",
       "[26962 rows x 2 columns]"
      ]
     },
     "execution_count": 24,
     "metadata": {
      "tags": []
     },
     "output_type": "execute_result"
    }
   ],
   "source": [
    "col = 'CREDIT_TYPE_CD'\n",
    "pd.get_dummies(X[col], prefix=col[:5])"
   ]
  },
  {
   "cell_type": "code",
   "execution_count": 25,
   "metadata": {
    "colab": {
     "base_uri": "https://localhost:8080/"
    },
    "executionInfo": {
     "elapsed": 14090,
     "status": "ok",
     "timestamp": 1605774540033,
     "user": {
      "displayName": "Amin T.",
      "photoUrl": "https://lh3.googleusercontent.com/a-/AOh14GhLSDDfMbtcwB_Rx9shExjq9xAjHfktW4EOUC4z=s64",
      "userId": "18045034436816550073"
     },
     "user_tz": -60
    },
    "id": "0EHohwBbz4zW",
    "outputId": "2dae8cc0-24ab-4422-acee-9f94da54c28b"
   },
   "outputs": [
    {
     "data": {
      "text/plain": [
       "Index(['Type', 'Product_Desc', 'CREDIT_TYPE_CD', 'A2_MARITAL_STATUS_CD',\n",
       "       'FINANCIAL_PRODUCT_TYPE_CD', 'A2_RESIDENT_STATUS_CD'],\n",
       "      dtype='object')"
      ]
     },
     "execution_count": 25,
     "metadata": {
      "tags": []
     },
     "output_type": "execute_result"
    }
   ],
   "source": [
    "# Create dummy variables for features with less than 10 unique values\n",
    "cnt_unique = X[cat_cols].nunique()\n",
    "\n",
    "cnt_unique[cnt_unique < 10].index"
   ]
  },
  {
   "cell_type": "code",
   "execution_count": 26,
   "metadata": {
    "executionInfo": {
     "elapsed": 14876,
     "status": "ok",
     "timestamp": 1605774540827,
     "user": {
      "displayName": "Amin T.",
      "photoUrl": "https://lh3.googleusercontent.com/a-/AOh14GhLSDDfMbtcwB_Rx9shExjq9xAjHfktW4EOUC4z=s64",
      "userId": "18045034436816550073"
     },
     "user_tz": -60
    },
    "id": "QPHNgHkJru4w"
   },
   "outputs": [],
   "source": [
    "# join the dummy variables created for every categorical column to training and test data\n",
    "\n",
    "for col in cnt_unique[cnt_unique < 10].index:\n",
    "  X_train = X_train.join(pd.get_dummies(X.loc[train_ind, col], prefix=col[:5]))\n",
    "  X_train.drop(columns=col, inplace=True)\n",
    "\n",
    "  X_test = X_test.join(pd.get_dummies(X.loc[test_ind, col], prefix=col[:5]))\n",
    "  X_test.drop(columns=col, inplace=True)"
   ]
  },
  {
   "cell_type": "markdown",
   "metadata": {
    "id": "5UTvL7SoGxba"
   },
   "source": [
    "## **High Cardinality categorical variables**"
   ]
  },
  {
   "cell_type": "code",
   "execution_count": 27,
   "metadata": {
    "colab": {
     "base_uri": "https://localhost:8080/"
    },
    "executionInfo": {
     "elapsed": 14855,
     "status": "ok",
     "timestamp": 1605774540829,
     "user": {
      "displayName": "Amin T.",
      "photoUrl": "https://lh3.googleusercontent.com/a-/AOh14GhLSDDfMbtcwB_Rx9shExjq9xAjHfktW4EOUC4z=s64",
      "userId": "18045034436816550073"
     },
     "user_tz": -60
    },
    "id": "O-uzZS3f4pyg",
    "outputId": "3779275e-ace2-4625-fb4b-f8ce4e5fa72a"
   },
   "outputs": [
    {
     "data": {
      "text/plain": [
       "INDUSTRY_CD_3              209\n",
       "INDUSTRY_CD_4              410\n",
       "ACCOUNT_PURPOSE_CD          57\n",
       "A2_EMPLOYMENT_STATUS_CD     34\n",
       "dtype: int64"
      ]
     },
     "execution_count": 27,
     "metadata": {
      "tags": []
     },
     "output_type": "execute_result"
    }
   ],
   "source": [
    "X_train.select_dtypes(include='object').nunique()"
   ]
  },
  {
   "cell_type": "code",
   "execution_count": 28,
   "metadata": {
    "executionInfo": {
     "elapsed": 14851,
     "status": "ok",
     "timestamp": 1605774540832,
     "user": {
      "displayName": "Amin T.",
      "photoUrl": "https://lh3.googleusercontent.com/a-/AOh14GhLSDDfMbtcwB_Rx9shExjq9xAjHfktW4EOUC4z=s64",
      "userId": "18045034436816550073"
     },
     "user_tz": -60
    },
    "id": "6f3eSzbXHVnG"
   },
   "outputs": [],
   "source": [
    "# transform \"ACCOUNT_PURPOSE_CD\" and \"A2_EMPLOYMENT_STATUS_CD\" into percentage frequency\n",
    "HCardinals = ['ACCOUNT_PURPOSE_CD', 'A2_EMPLOYMENT_STATUS_CD']\n",
    "\n",
    "for col in HCardinals: \n",
    "  X_train[col]= X.loc[train_ind].groupby(col)[col].transform('count')/len(train_ind)\n",
    "  d = dict(zip(X.loc[train_ind, col], X_train[col]))\n",
    "  for i in list(set(X.loc[test_ind, col].unique()) - set(X.loc[train_ind, col].unique())):\n",
    "    d[i] = 0\n",
    "  \n",
    "  X_test[col] = X.loc[test_ind, col].replace(d)"
   ]
  },
  {
   "cell_type": "code",
   "execution_count": 29,
   "metadata": {
    "colab": {
     "base_uri": "https://localhost:8080/"
    },
    "executionInfo": {
     "elapsed": 14832,
     "status": "ok",
     "timestamp": 1605774540834,
     "user": {
      "displayName": "Amin T.",
      "photoUrl": "https://lh3.googleusercontent.com/a-/AOh14GhLSDDfMbtcwB_Rx9shExjq9xAjHfktW4EOUC4z=s64",
      "userId": "18045034436816550073"
     },
     "user_tz": -60
    },
    "id": "BSASRLVk0XFf",
    "outputId": "9dc9f89f-08dc-4f2b-a59d-3b309c092f5d"
   },
   "outputs": [
    {
     "data": {
      "text/plain": [
       "Index(['FREE_CASH_FLOW_AMT', 'MTHS_FIRST_PCX_COREPRIV_CNT',\n",
       "       'A2_MONTHS_IN_BELGIUM_CNT', 'INDUSTRY_CD_3', 'INDUSTRY_CD_4'],\n",
       "      dtype='object')"
      ]
     },
     "execution_count": 29,
     "metadata": {
      "tags": []
     },
     "output_type": "execute_result"
    }
   ],
   "source": [
    "# Drop \"INDUSTRY_CD_3\" and \"INDUSTRY_CD_4\" columns from the data\n",
    "drop = X_train.select_dtypes(include='object').columns\n",
    "\n",
    "X_train.drop(columns=drop, inplace=True)\n",
    "X_test.drop(columns=drop, inplace=True)\n",
    "\n",
    "# add to droped columns list for future use\n",
    "drop_cols = drop_cols.append(drop)\n",
    "drop_cols"
   ]
  },
  {
   "cell_type": "code",
   "execution_count": 30,
   "metadata": {
    "colab": {
     "base_uri": "https://localhost:8080/",
     "height": 450
    },
    "executionInfo": {
     "elapsed": 14810,
     "status": "ok",
     "timestamp": 1605774540837,
     "user": {
      "displayName": "Amin T.",
      "photoUrl": "https://lh3.googleusercontent.com/a-/AOh14GhLSDDfMbtcwB_Rx9shExjq9xAjHfktW4EOUC4z=s64",
      "userId": "18045034436816550073"
     },
     "user_tz": -60
    },
    "id": "4w72ZHvg4f-l",
    "outputId": "b9749f62-79c9-4910-864e-71a55f6d6d03"
   },
   "outputs": [
    {
     "data": {
      "text/html": [
       "<div>\n",
       "<style scoped>\n",
       "    .dataframe tbody tr th:only-of-type {\n",
       "        vertical-align: middle;\n",
       "    }\n",
       "\n",
       "    .dataframe tbody tr th {\n",
       "        vertical-align: top;\n",
       "    }\n",
       "\n",
       "    .dataframe thead th {\n",
       "        text-align: right;\n",
       "    }\n",
       "</style>\n",
       "<table border=\"1\" class=\"dataframe\">\n",
       "  <thead>\n",
       "    <tr style=\"text-align: right;\">\n",
       "      <th></th>\n",
       "      <th>ACCOUNT_PURPOSE_CD</th>\n",
       "      <th>A2_EMPLOYMENT_STATUS_CD</th>\n",
       "    </tr>\n",
       "    <tr>\n",
       "      <th>LoanID</th>\n",
       "      <th></th>\n",
       "      <th></th>\n",
       "    </tr>\n",
       "  </thead>\n",
       "  <tbody>\n",
       "    <tr>\n",
       "      <th>10648</th>\n",
       "      <td>0.014882</td>\n",
       "      <td>0.137837</td>\n",
       "    </tr>\n",
       "    <tr>\n",
       "      <th>4018</th>\n",
       "      <td>0.072975</td>\n",
       "      <td>0.114192</td>\n",
       "    </tr>\n",
       "    <tr>\n",
       "      <th>8212</th>\n",
       "      <td>0.009875</td>\n",
       "      <td>0.114192</td>\n",
       "    </tr>\n",
       "    <tr>\n",
       "      <th>23763</th>\n",
       "      <td>0.064630</td>\n",
       "      <td>0.114192</td>\n",
       "    </tr>\n",
       "    <tr>\n",
       "      <th>15708</th>\n",
       "      <td>0.040475</td>\n",
       "      <td>0.137837</td>\n",
       "    </tr>\n",
       "    <tr>\n",
       "      <th>...</th>\n",
       "      <td>...</td>\n",
       "      <td>...</td>\n",
       "    </tr>\n",
       "    <tr>\n",
       "      <th>10956</th>\n",
       "      <td>0.360610</td>\n",
       "      <td>0.114192</td>\n",
       "    </tr>\n",
       "    <tr>\n",
       "      <th>17290</th>\n",
       "      <td>0.007140</td>\n",
       "      <td>0.137837</td>\n",
       "    </tr>\n",
       "    <tr>\n",
       "      <th>5193</th>\n",
       "      <td>0.043442</td>\n",
       "      <td>0.235894</td>\n",
       "    </tr>\n",
       "    <tr>\n",
       "      <th>12173</th>\n",
       "      <td>0.019055</td>\n",
       "      <td>0.137837</td>\n",
       "    </tr>\n",
       "    <tr>\n",
       "      <th>236</th>\n",
       "      <td>0.020956</td>\n",
       "      <td>0.114192</td>\n",
       "    </tr>\n",
       "  </tbody>\n",
       "</table>\n",
       "<p>21569 rows × 2 columns</p>\n",
       "</div>"
      ],
      "text/plain": [
       "        ACCOUNT_PURPOSE_CD  A2_EMPLOYMENT_STATUS_CD\n",
       "LoanID                                             \n",
       "10648             0.014882                 0.137837\n",
       "4018              0.072975                 0.114192\n",
       "8212              0.009875                 0.114192\n",
       "23763             0.064630                 0.114192\n",
       "15708             0.040475                 0.137837\n",
       "...                    ...                      ...\n",
       "10956             0.360610                 0.114192\n",
       "17290             0.007140                 0.137837\n",
       "5193              0.043442                 0.235894\n",
       "12173             0.019055                 0.137837\n",
       "236               0.020956                 0.114192\n",
       "\n",
       "[21569 rows x 2 columns]"
      ]
     },
     "execution_count": 30,
     "metadata": {
      "tags": []
     },
     "output_type": "execute_result"
    }
   ],
   "source": [
    "X_train[HCardinals]"
   ]
  },
  {
   "cell_type": "markdown",
   "metadata": {
    "id": "yo6uF2iv52Up"
   },
   "source": [
    "# **Processing numerical variables**"
   ]
  },
  {
   "cell_type": "code",
   "execution_count": 31,
   "metadata": {
    "executionInfo": {
     "elapsed": 14805,
     "status": "ok",
     "timestamp": 1605774540840,
     "user": {
      "displayName": "Amin T.",
      "photoUrl": "https://lh3.googleusercontent.com/a-/AOh14GhLSDDfMbtcwB_Rx9shExjq9xAjHfktW4EOUC4z=s64",
      "userId": "18045034436816550073"
     },
     "user_tz": -60
    },
    "id": "pxBXsWHYD5h9"
   },
   "outputs": [],
   "source": [
    "def Preprocessing_continuous(Var, Var_train):\n",
    "    \n",
    "    \"\"\"\n",
    "    Args:\n",
    "        Var: represents the single variable you wish to preprocess,\n",
    "        should be a numerical variable. Make sure the data type is \"Series\".\n",
    "        Var_train: the training data\n",
    "    \"\"\"\n",
    "    Var_train_mean = np.mean(Var_train) \n",
    "    Var_train_std = np.std(Var_train) \n",
    "        \n",
    "    #Standardize variable\n",
    "    Var_preprocessed = (Var-Var_train_mean)/Var_train_std\n",
    "    \n",
    "    #Deal with outliers\n",
    "    j=0 #start with first instance\n",
    "    for i in Var_preprocessed:\n",
    "        if (i>3): \n",
    "            Var_preprocessed.iloc[j] = 3\n",
    "        elif (i<-3):\n",
    "            Var_preprocessed.iloc[j] = -3\n",
    "        j+=1 \n",
    "    \n",
    "    return(Var_preprocessed)"
   ]
  },
  {
   "cell_type": "code",
   "execution_count": 32,
   "metadata": {
    "executionInfo": {
     "elapsed": 14800,
     "status": "ok",
     "timestamp": 1605774540842,
     "user": {
      "displayName": "Amin T.",
      "photoUrl": "https://lh3.googleusercontent.com/a-/AOh14GhLSDDfMbtcwB_Rx9shExjq9xAjHfktW4EOUC4z=s64",
      "userId": "18045034436816550073"
     },
     "user_tz": -60
    },
    "id": "yfxII0_05odd"
   },
   "outputs": [],
   "source": [
    "num_cols = num_cols.drop(drop_cols, errors='ignore')\n",
    "cat_cols = cat_cols.drop(drop_cols, errors='ignore')"
   ]
  },
  {
   "cell_type": "code",
   "execution_count": 33,
   "metadata": {
    "colab": {
     "base_uri": "https://localhost:8080/",
     "height": 470
    },
    "executionInfo": {
     "elapsed": 14776,
     "status": "ok",
     "timestamp": 1605774540845,
     "user": {
      "displayName": "Amin T.",
      "photoUrl": "https://lh3.googleusercontent.com/a-/AOh14GhLSDDfMbtcwB_Rx9shExjq9xAjHfktW4EOUC4z=s64",
      "userId": "18045034436816550073"
     },
     "user_tz": -60
    },
    "id": "Wn8yJ5Op0XQB",
    "outputId": "bd4e42d3-3fbf-461a-8759-885aada30bb2"
   },
   "outputs": [
    {
     "data": {
      "text/html": [
       "<div>\n",
       "<style scoped>\n",
       "    .dataframe tbody tr th:only-of-type {\n",
       "        vertical-align: middle;\n",
       "    }\n",
       "\n",
       "    .dataframe tbody tr th {\n",
       "        vertical-align: top;\n",
       "    }\n",
       "\n",
       "    .dataframe thead th {\n",
       "        text-align: right;\n",
       "    }\n",
       "</style>\n",
       "<table border=\"1\" class=\"dataframe\">\n",
       "  <thead>\n",
       "    <tr style=\"text-align: right;\">\n",
       "      <th></th>\n",
       "      <th>BEH_SCORE_AVG_A1</th>\n",
       "      <th>BEH_SCORE_AVG_A2</th>\n",
       "      <th>BEH_SCORE_MIN_A2</th>\n",
       "      <th>FHS_SCORE_AVG</th>\n",
       "      <th>FHS_SCORE_LATEST</th>\n",
       "      <th>CASH_FLOW_AMT</th>\n",
       "      <th>MTHS_SNC_1ST_REC_CNT</th>\n",
       "      <th>A1_AVG_POS_SALDO_PROF_1_AMT</th>\n",
       "      <th>Invest_Amt</th>\n",
       "      <th>Original_loan_Amt</th>\n",
       "      <th>A1_TOT_DEB_INTEREST_PROF_6_AMT</th>\n",
       "      <th>A2_MTHS_SNC_LAST_LIQ_PRIV_CNT</th>\n",
       "      <th>A2_MTHS_SNC_FIRST_COREPROF_CNT</th>\n",
       "      <th>A1_TOT_DEB_INTEREST_PROF_1_AMT</th>\n",
       "      <th>MTHS_IN_BUSINESS_CNT</th>\n",
       "      <th>A2_MTHS_SNC_LAST_LIQ_SAVE_CNT</th>\n",
       "      <th>A1_NEGAT_TRANS_COREPROF_CNT</th>\n",
       "      <th>A1_OVERDRAWN_DAYS_PROF_24_CNT</th>\n",
       "      <th>A1_OVERDRAWN_DAYS_PROF_6_CNT</th>\n",
       "      <th>A1_AVG_NEG_SALDO_PROF_3_AMT</th>\n",
       "      <th>A1_AVG_POS_SALDO_PROF_12_AMT</th>\n",
       "      <th>A1_TOT_STND_PAYMNT_INT_PROF_CNT</th>\n",
       "      <th>CASHFLOW_MONTHLY_CREDIT_RT</th>\n",
       "      <th>MONTHS_SINCE_LAST_REFUSAL_CNT</th>\n",
       "      <th>MONTHLY_CREDIT_AMT_TOT</th>\n",
       "      <th>A2_ANNUAL_INCOME_AMT_scale</th>\n",
       "      <th>A2_AVG_NEG_SALDO_PRIV_12_AMT_scale</th>\n",
       "      <th>A2_AVG_POS_SALDO_SAVINGS_12_AMT_scale</th>\n",
       "      <th>A2_TOTAL_EMPLOYMENT_MONTHS_CNT_scale</th>\n",
       "    </tr>\n",
       "    <tr>\n",
       "      <th>LoanID</th>\n",
       "      <th></th>\n",
       "      <th></th>\n",
       "      <th></th>\n",
       "      <th></th>\n",
       "      <th></th>\n",
       "      <th></th>\n",
       "      <th></th>\n",
       "      <th></th>\n",
       "      <th></th>\n",
       "      <th></th>\n",
       "      <th></th>\n",
       "      <th></th>\n",
       "      <th></th>\n",
       "      <th></th>\n",
       "      <th></th>\n",
       "      <th></th>\n",
       "      <th></th>\n",
       "      <th></th>\n",
       "      <th></th>\n",
       "      <th></th>\n",
       "      <th></th>\n",
       "      <th></th>\n",
       "      <th></th>\n",
       "      <th></th>\n",
       "      <th></th>\n",
       "      <th></th>\n",
       "      <th></th>\n",
       "      <th></th>\n",
       "      <th></th>\n",
       "    </tr>\n",
       "  </thead>\n",
       "  <tbody>\n",
       "    <tr>\n",
       "      <th>10648</th>\n",
       "      <td>649.346223</td>\n",
       "      <td>669.279976</td>\n",
       "      <td>652.000000</td>\n",
       "      <td>98.050115</td>\n",
       "      <td>98.062121</td>\n",
       "      <td>36724.69305</td>\n",
       "      <td>13.0</td>\n",
       "      <td>15064.440000</td>\n",
       "      <td>85000.000000</td>\n",
       "      <td>72783.130849</td>\n",
       "      <td>0.000000</td>\n",
       "      <td>1</td>\n",
       "      <td>0</td>\n",
       "      <td>0.000000</td>\n",
       "      <td>8.0</td>\n",
       "      <td>1</td>\n",
       "      <td>34.000000</td>\n",
       "      <td>0.000000</td>\n",
       "      <td>0.000000</td>\n",
       "      <td>0.00000</td>\n",
       "      <td>7992.360000</td>\n",
       "      <td>0.00000</td>\n",
       "      <td>62.979009</td>\n",
       "      <td>1</td>\n",
       "      <td>1416.666667</td>\n",
       "      <td>0.598464</td>\n",
       "      <td>-0.191004</td>\n",
       "      <td>0.656633</td>\n",
       "      <td>0.654187</td>\n",
       "    </tr>\n",
       "    <tr>\n",
       "      <th>4018</th>\n",
       "      <td>649.346223</td>\n",
       "      <td>688.598841</td>\n",
       "      <td>688.598841</td>\n",
       "      <td>98.050115</td>\n",
       "      <td>98.062121</td>\n",
       "      <td>36724.69305</td>\n",
       "      <td>1.0</td>\n",
       "      <td>39.420000</td>\n",
       "      <td>15800.000000</td>\n",
       "      <td>15800.000000</td>\n",
       "      <td>0.000000</td>\n",
       "      <td>1</td>\n",
       "      <td>1</td>\n",
       "      <td>0.000000</td>\n",
       "      <td>1.0</td>\n",
       "      <td>0</td>\n",
       "      <td>1.000000</td>\n",
       "      <td>5.671114</td>\n",
       "      <td>2.514656</td>\n",
       "      <td>0.00000</td>\n",
       "      <td>19.710000</td>\n",
       "      <td>0.00000</td>\n",
       "      <td>62.979009</td>\n",
       "      <td>1</td>\n",
       "      <td>329.166667</td>\n",
       "      <td>-0.836508</td>\n",
       "      <td>-0.190547</td>\n",
       "      <td>-0.191458</td>\n",
       "      <td>-1.519155</td>\n",
       "    </tr>\n",
       "    <tr>\n",
       "      <th>8212</th>\n",
       "      <td>619.000000</td>\n",
       "      <td>691.487514</td>\n",
       "      <td>685.157154</td>\n",
       "      <td>99.470377</td>\n",
       "      <td>99.610112</td>\n",
       "      <td>12661.00000</td>\n",
       "      <td>33.0</td>\n",
       "      <td>4972.510000</td>\n",
       "      <td>10001.000000</td>\n",
       "      <td>10001.000000</td>\n",
       "      <td>0.000000</td>\n",
       "      <td>1</td>\n",
       "      <td>1</td>\n",
       "      <td>0.000000</td>\n",
       "      <td>377.0</td>\n",
       "      <td>0</td>\n",
       "      <td>26.000000</td>\n",
       "      <td>0.000000</td>\n",
       "      <td>0.000000</td>\n",
       "      <td>0.00000</td>\n",
       "      <td>5740.440000</td>\n",
       "      <td>0.00000</td>\n",
       "      <td>20.167072</td>\n",
       "      <td>1</td>\n",
       "      <td>627.805556</td>\n",
       "      <td>-0.431365</td>\n",
       "      <td>-0.179830</td>\n",
       "      <td>-0.223472</td>\n",
       "      <td>0.513972</td>\n",
       "    </tr>\n",
       "    <tr>\n",
       "      <th>23763</th>\n",
       "      <td>649.346223</td>\n",
       "      <td>667.963068</td>\n",
       "      <td>655.117176</td>\n",
       "      <td>98.212591</td>\n",
       "      <td>98.869940</td>\n",
       "      <td>3600.00000</td>\n",
       "      <td>10.0</td>\n",
       "      <td>778.490000</td>\n",
       "      <td>3000.000000</td>\n",
       "      <td>3000.000000</td>\n",
       "      <td>29.870000</td>\n",
       "      <td>0</td>\n",
       "      <td>1</td>\n",
       "      <td>6.720000</td>\n",
       "      <td>257.0</td>\n",
       "      <td>1</td>\n",
       "      <td>13.000000</td>\n",
       "      <td>40.000000</td>\n",
       "      <td>0.000000</td>\n",
       "      <td>76.99000</td>\n",
       "      <td>483.050000</td>\n",
       "      <td>0.00000</td>\n",
       "      <td>21.600000</td>\n",
       "      <td>1</td>\n",
       "      <td>166.666667</td>\n",
       "      <td>-0.836872</td>\n",
       "      <td>-0.187776</td>\n",
       "      <td>-0.019030</td>\n",
       "      <td>-0.791786</td>\n",
       "    </tr>\n",
       "    <tr>\n",
       "      <th>15708</th>\n",
       "      <td>682.000000</td>\n",
       "      <td>667.963068</td>\n",
       "      <td>655.117176</td>\n",
       "      <td>99.160917</td>\n",
       "      <td>98.962986</td>\n",
       "      <td>34977.00000</td>\n",
       "      <td>174.0</td>\n",
       "      <td>9901.740000</td>\n",
       "      <td>50000.000000</td>\n",
       "      <td>50000.000000</td>\n",
       "      <td>0.000000</td>\n",
       "      <td>1</td>\n",
       "      <td>1</td>\n",
       "      <td>0.000000</td>\n",
       "      <td>175.0</td>\n",
       "      <td>1</td>\n",
       "      <td>34.000000</td>\n",
       "      <td>0.000000</td>\n",
       "      <td>0.000000</td>\n",
       "      <td>0.00000</td>\n",
       "      <td>9772.780000</td>\n",
       "      <td>1.00000</td>\n",
       "      <td>83.944800</td>\n",
       "      <td>1</td>\n",
       "      <td>416.666667</td>\n",
       "      <td>0.577587</td>\n",
       "      <td>0.004827</td>\n",
       "      <td>-0.018809</td>\n",
       "      <td>-0.616517</td>\n",
       "    </tr>\n",
       "    <tr>\n",
       "      <th>...</th>\n",
       "      <td>...</td>\n",
       "      <td>...</td>\n",
       "      <td>...</td>\n",
       "      <td>...</td>\n",
       "      <td>...</td>\n",
       "      <td>...</td>\n",
       "      <td>...</td>\n",
       "      <td>...</td>\n",
       "      <td>...</td>\n",
       "      <td>...</td>\n",
       "      <td>...</td>\n",
       "      <td>...</td>\n",
       "      <td>...</td>\n",
       "      <td>...</td>\n",
       "      <td>...</td>\n",
       "      <td>...</td>\n",
       "      <td>...</td>\n",
       "      <td>...</td>\n",
       "      <td>...</td>\n",
       "      <td>...</td>\n",
       "      <td>...</td>\n",
       "      <td>...</td>\n",
       "      <td>...</td>\n",
       "      <td>...</td>\n",
       "      <td>...</td>\n",
       "      <td>...</td>\n",
       "      <td>...</td>\n",
       "      <td>...</td>\n",
       "      <td>...</td>\n",
       "    </tr>\n",
       "    <tr>\n",
       "      <th>10956</th>\n",
       "      <td>646.000000</td>\n",
       "      <td>689.620798</td>\n",
       "      <td>646.000000</td>\n",
       "      <td>97.396501</td>\n",
       "      <td>97.384595</td>\n",
       "      <td>15359.00000</td>\n",
       "      <td>74.0</td>\n",
       "      <td>2796.750000</td>\n",
       "      <td>19499.990000</td>\n",
       "      <td>72783.130849</td>\n",
       "      <td>2.300000</td>\n",
       "      <td>0</td>\n",
       "      <td>1</td>\n",
       "      <td>0.010000</td>\n",
       "      <td>74.0</td>\n",
       "      <td>0</td>\n",
       "      <td>35.000000</td>\n",
       "      <td>0.000000</td>\n",
       "      <td>0.000000</td>\n",
       "      <td>1.21000</td>\n",
       "      <td>2813.810000</td>\n",
       "      <td>2.00000</td>\n",
       "      <td>47.258486</td>\n",
       "      <td>1</td>\n",
       "      <td>324.999833</td>\n",
       "      <td>-0.473358</td>\n",
       "      <td>-0.063483</td>\n",
       "      <td>-0.351428</td>\n",
       "      <td>-0.993346</td>\n",
       "    </tr>\n",
       "    <tr>\n",
       "      <th>17290</th>\n",
       "      <td>649.346223</td>\n",
       "      <td>694.841851</td>\n",
       "      <td>685.843774</td>\n",
       "      <td>98.050115</td>\n",
       "      <td>98.062121</td>\n",
       "      <td>36724.69305</td>\n",
       "      <td>3.0</td>\n",
       "      <td>19833.840000</td>\n",
       "      <td>79230.350659</td>\n",
       "      <td>72783.130849</td>\n",
       "      <td>0.000000</td>\n",
       "      <td>1</td>\n",
       "      <td>1</td>\n",
       "      <td>0.000000</td>\n",
       "      <td>3.0</td>\n",
       "      <td>0</td>\n",
       "      <td>6.000000</td>\n",
       "      <td>0.000000</td>\n",
       "      <td>0.000000</td>\n",
       "      <td>0.00000</td>\n",
       "      <td>10339.290000</td>\n",
       "      <td>0.00000</td>\n",
       "      <td>62.979009</td>\n",
       "      <td>1</td>\n",
       "      <td>2894.736842</td>\n",
       "      <td>-0.009722</td>\n",
       "      <td>-0.142168</td>\n",
       "      <td>0.959943</td>\n",
       "      <td>-0.011509</td>\n",
       "    </tr>\n",
       "    <tr>\n",
       "      <th>5193</th>\n",
       "      <td>649.346223</td>\n",
       "      <td>667.963068</td>\n",
       "      <td>655.117176</td>\n",
       "      <td>98.698196</td>\n",
       "      <td>98.611548</td>\n",
       "      <td>39594.00000</td>\n",
       "      <td>9.0</td>\n",
       "      <td>15065.902201</td>\n",
       "      <td>25000.000000</td>\n",
       "      <td>25000.000000</td>\n",
       "      <td>1105.553845</td>\n",
       "      <td>0</td>\n",
       "      <td>1</td>\n",
       "      <td>195.285426</td>\n",
       "      <td>44.0</td>\n",
       "      <td>0</td>\n",
       "      <td>35.196426</td>\n",
       "      <td>5.671114</td>\n",
       "      <td>2.514656</td>\n",
       "      <td>2736.42019</td>\n",
       "      <td>14151.908762</td>\n",
       "      <td>0.74568</td>\n",
       "      <td>95.025600</td>\n",
       "      <td>1</td>\n",
       "      <td>416.666667</td>\n",
       "      <td>-0.009722</td>\n",
       "      <td>0.004827</td>\n",
       "      <td>-0.018809</td>\n",
       "      <td>-0.011509</td>\n",
       "    </tr>\n",
       "    <tr>\n",
       "      <th>12173</th>\n",
       "      <td>664.000000</td>\n",
       "      <td>707.771795</td>\n",
       "      <td>703.901422</td>\n",
       "      <td>92.792833</td>\n",
       "      <td>94.588657</td>\n",
       "      <td>88268.00000</td>\n",
       "      <td>203.0</td>\n",
       "      <td>326.590000</td>\n",
       "      <td>11500.000000</td>\n",
       "      <td>11500.000000</td>\n",
       "      <td>23491.870000</td>\n",
       "      <td>1</td>\n",
       "      <td>0</td>\n",
       "      <td>4970.410000</td>\n",
       "      <td>203.0</td>\n",
       "      <td>1</td>\n",
       "      <td>84.000000</td>\n",
       "      <td>0.000000</td>\n",
       "      <td>0.000000</td>\n",
       "      <td>24883.35000</td>\n",
       "      <td>353.920000</td>\n",
       "      <td>2.00000</td>\n",
       "      <td>92.105739</td>\n",
       "      <td>1</td>\n",
       "      <td>958.333333</td>\n",
       "      <td>0.757472</td>\n",
       "      <td>-0.037009</td>\n",
       "      <td>-0.297806</td>\n",
       "      <td>2.038817</td>\n",
       "    </tr>\n",
       "    <tr>\n",
       "      <th>236</th>\n",
       "      <td>679.000000</td>\n",
       "      <td>697.775617</td>\n",
       "      <td>697.775617</td>\n",
       "      <td>99.463057</td>\n",
       "      <td>99.969283</td>\n",
       "      <td>60470.00000</td>\n",
       "      <td>191.0</td>\n",
       "      <td>7793.630000</td>\n",
       "      <td>42000.000000</td>\n",
       "      <td>42000.000000</td>\n",
       "      <td>77.440000</td>\n",
       "      <td>0</td>\n",
       "      <td>1</td>\n",
       "      <td>15.410000</td>\n",
       "      <td>191.0</td>\n",
       "      <td>0</td>\n",
       "      <td>41.000000</td>\n",
       "      <td>0.000000</td>\n",
       "      <td>0.000000</td>\n",
       "      <td>74.90000</td>\n",
       "      <td>9469.750000</td>\n",
       "      <td>1.00000</td>\n",
       "      <td>86.385714</td>\n",
       "      <td>1</td>\n",
       "      <td>700.000000</td>\n",
       "      <td>0.344549</td>\n",
       "      <td>0.393209</td>\n",
       "      <td>-0.435675</td>\n",
       "      <td>0.137142</td>\n",
       "    </tr>\n",
       "  </tbody>\n",
       "</table>\n",
       "<p>21569 rows × 29 columns</p>\n",
       "</div>"
      ],
      "text/plain": [
       "        BEH_SCORE_AVG_A1  ...  A2_TOTAL_EMPLOYMENT_MONTHS_CNT_scale\n",
       "LoanID                    ...                                      \n",
       "10648         649.346223  ...                              0.654187\n",
       "4018          649.346223  ...                             -1.519155\n",
       "8212          619.000000  ...                              0.513972\n",
       "23763         649.346223  ...                             -0.791786\n",
       "15708         682.000000  ...                             -0.616517\n",
       "...                  ...  ...                                   ...\n",
       "10956         646.000000  ...                             -0.993346\n",
       "17290         649.346223  ...                             -0.011509\n",
       "5193          649.346223  ...                             -0.011509\n",
       "12173         664.000000  ...                              2.038817\n",
       "236           679.000000  ...                              0.137142\n",
       "\n",
       "[21569 rows x 29 columns]"
      ]
     },
     "execution_count": 33,
     "metadata": {
      "tags": []
     },
     "output_type": "execute_result"
    }
   ],
   "source": [
    "X_train[num_cols]"
   ]
  },
  {
   "cell_type": "code",
   "execution_count": 34,
   "metadata": {
    "colab": {
     "base_uri": "https://localhost:8080/"
    },
    "executionInfo": {
     "elapsed": 14754,
     "status": "ok",
     "timestamp": 1605774540847,
     "user": {
      "displayName": "Amin T.",
      "photoUrl": "https://lh3.googleusercontent.com/a-/AOh14GhLSDDfMbtcwB_Rx9shExjq9xAjHfktW4EOUC4z=s64",
      "userId": "18045034436816550073"
     },
     "user_tz": -60
    },
    "id": "2obPlWpSoOy6",
    "outputId": "e23dbba9-1598-4385-b0e7-564aed536165"
   },
   "outputs": [
    {
     "data": {
      "text/plain": [
       "BEH_SCORE_AVG_A1                          True\n",
       "BEH_SCORE_AVG_A2                          True\n",
       "BEH_SCORE_MIN_A2                          True\n",
       "FHS_SCORE_AVG                             True\n",
       "FHS_SCORE_LATEST                          True\n",
       "CASH_FLOW_AMT                             True\n",
       "MTHS_SNC_1ST_REC_CNT                      True\n",
       "A1_AVG_POS_SALDO_PROF_1_AMT               True\n",
       "Invest_Amt                                True\n",
       "Original_loan_Amt                         True\n",
       "A1_TOT_DEB_INTEREST_PROF_6_AMT            True\n",
       "A2_MTHS_SNC_LAST_LIQ_PRIV_CNT            False\n",
       "A2_MTHS_SNC_FIRST_COREPROF_CNT           False\n",
       "A1_TOT_DEB_INTEREST_PROF_1_AMT            True\n",
       "MTHS_IN_BUSINESS_CNT                      True\n",
       "A2_MTHS_SNC_LAST_LIQ_SAVE_CNT            False\n",
       "A1_NEGAT_TRANS_COREPROF_CNT               True\n",
       "A1_OVERDRAWN_DAYS_PROF_24_CNT             True\n",
       "A1_OVERDRAWN_DAYS_PROF_6_CNT              True\n",
       "A1_AVG_NEG_SALDO_PROF_3_AMT               True\n",
       "A1_AVG_POS_SALDO_PROF_12_AMT              True\n",
       "A1_TOT_STND_PAYMNT_INT_PROF_CNT           True\n",
       "CASHFLOW_MONTHLY_CREDIT_RT                True\n",
       "MONTHS_SINCE_LAST_REFUSAL_CNT            False\n",
       "MONTHLY_CREDIT_AMT_TOT                    True\n",
       "A2_ANNUAL_INCOME_AMT_scale                True\n",
       "A2_AVG_NEG_SALDO_PRIV_12_AMT_scale        True\n",
       "A2_AVG_POS_SALDO_SAVINGS_12_AMT_scale     True\n",
       "A2_TOTAL_EMPLOYMENT_MONTHS_CNT_scale      True\n",
       "dtype: bool"
      ]
     },
     "execution_count": 34,
     "metadata": {
      "tags": []
     },
     "output_type": "execute_result"
    }
   ],
   "source": [
    "X_train[num_cols].max()-X_train[num_cols].min()>1"
   ]
  },
  {
   "cell_type": "code",
   "execution_count": 35,
   "metadata": {
    "executionInfo": {
     "elapsed": 20366,
     "status": "ok",
     "timestamp": 1605774546466,
     "user": {
      "displayName": "Amin T.",
      "photoUrl": "https://lh3.googleusercontent.com/a-/AOh14GhLSDDfMbtcwB_Rx9shExjq9xAjHfktW4EOUC4z=s64",
      "userId": "18045034436816550073"
     },
     "user_tz": -60
    },
    "id": "KjzUfphRzH6t"
   },
   "outputs": [],
   "source": [
    "norm_cols = (X_train[num_cols].max()-X_train[num_cols].min()>1).index\n",
    "\n",
    "for col in norm_cols:\n",
    "  X_train[col] = Preprocessing_continuous(X_train[col], X_train[col])\n",
    "  X_test[col] = Preprocessing_continuous(X_test[col], X_train[col])"
   ]
  },
  {
   "cell_type": "code",
   "execution_count": 36,
   "metadata": {
    "colab": {
     "base_uri": "https://localhost:8080/",
     "height": 272
    },
    "executionInfo": {
     "elapsed": 20361,
     "status": "ok",
     "timestamp": 1605774546483,
     "user": {
      "displayName": "Amin T.",
      "photoUrl": "https://lh3.googleusercontent.com/a-/AOh14GhLSDDfMbtcwB_Rx9shExjq9xAjHfktW4EOUC4z=s64",
      "userId": "18045034436816550073"
     },
     "user_tz": -60
    },
    "id": "XmSHrNDK1buU",
    "outputId": "999d0d8f-d577-464e-89b1-0297e3b94bb6"
   },
   "outputs": [
    {
     "data": {
      "text/html": [
       "<div>\n",
       "<style scoped>\n",
       "    .dataframe tbody tr th:only-of-type {\n",
       "        vertical-align: middle;\n",
       "    }\n",
       "\n",
       "    .dataframe tbody tr th {\n",
       "        vertical-align: top;\n",
       "    }\n",
       "\n",
       "    .dataframe thead th {\n",
       "        text-align: right;\n",
       "    }\n",
       "</style>\n",
       "<table border=\"1\" class=\"dataframe\">\n",
       "  <thead>\n",
       "    <tr style=\"text-align: right;\">\n",
       "      <th></th>\n",
       "      <th>Managing_Sales_Office_Nbr</th>\n",
       "      <th>Postal_Code_L</th>\n",
       "      <th>A2_MTHS_SNC_LAST_LIQ_PRIV_CNT</th>\n",
       "      <th>A2_MTHS_SNC_FIRST_COREPROF_CNT</th>\n",
       "      <th>A2_MTHS_SNC_LAST_LIQ_SAVE_CNT</th>\n",
       "      <th>MONTHS_SINCE_LAST_REFUSAL_CNT</th>\n",
       "      <th>BEH_SCORE_AVG_A1</th>\n",
       "      <th>BEH_SCORE_AVG_A2</th>\n",
       "      <th>BEH_SCORE_MIN_A2</th>\n",
       "      <th>FHS_SCORE_AVG</th>\n",
       "      <th>FHS_SCORE_LATEST</th>\n",
       "      <th>CASH_FLOW_AMT</th>\n",
       "      <th>MTHS_SNC_1ST_REC_CNT</th>\n",
       "      <th>A1_AVG_POS_SALDO_PROF_1_AMT</th>\n",
       "      <th>Invest_Amt</th>\n",
       "      <th>Original_loan_Amt</th>\n",
       "      <th>A1_TOT_DEB_INTEREST_PROF_6_AMT</th>\n",
       "      <th>A1_TOT_DEB_INTEREST_PROF_1_AMT</th>\n",
       "      <th>MTHS_IN_BUSINESS_CNT</th>\n",
       "      <th>A1_NEGAT_TRANS_COREPROF_CNT</th>\n",
       "      <th>A1_OVERDRAWN_DAYS_PROF_24_CNT</th>\n",
       "      <th>A1_OVERDRAWN_DAYS_PROF_6_CNT</th>\n",
       "      <th>A1_AVG_NEG_SALDO_PROF_3_AMT</th>\n",
       "      <th>A1_AVG_POS_SALDO_PROF_12_AMT</th>\n",
       "      <th>A1_TOT_STND_PAYMNT_INT_PROF_CNT</th>\n",
       "      <th>CASHFLOW_MONTHLY_CREDIT_RT</th>\n",
       "      <th>MONTHLY_CREDIT_AMT_TOT</th>\n",
       "      <th>A2_ANNUAL_INCOME_AMT_scale</th>\n",
       "      <th>A2_AVG_NEG_SALDO_PRIV_12_AMT_scale</th>\n",
       "      <th>A2_AVG_POS_SALDO_SAVINGS_12_AMT_scale</th>\n",
       "      <th>A2_TOTAL_EMPLOYMENT_MONTHS_CNT_scale</th>\n",
       "      <th>ACCOUNT_PURPOSE_CD</th>\n",
       "      <th>A2_EMPLOYMENT_STATUS_CD</th>\n",
       "      <th>Type_Company_Known</th>\n",
       "      <th>Type_Company_Unknown</th>\n",
       "      <th>Produ_Bizness financiering</th>\n",
       "      <th>Produ_Capital4Pro</th>\n",
       "      <th>Produ_Car4Pro</th>\n",
       "      <th>Produ_Equipment4Pro</th>\n",
       "      <th>Produ_Immo4Pro</th>\n",
       "      <th>Produ_Investeringskrediet onroerend</th>\n",
       "      <th>Produ_Investeringskrediet roerend</th>\n",
       "      <th>Produ_Overbruggingskrediet professionele doeleinden</th>\n",
       "      <th>CREDI_IK</th>\n",
       "      <th>CREDI_KK</th>\n",
       "      <th>A2_MA_1.0</th>\n",
       "      <th>A2_MA_2.0</th>\n",
       "      <th>A2_MA_3.0</th>\n",
       "      <th>A2_MA_4.0</th>\n",
       "      <th>A2_MA_6.0</th>\n",
       "      <th>FINAN_LON</th>\n",
       "      <th>FINAN_MTG</th>\n",
       "      <th>A2_RE_0.0</th>\n",
       "      <th>A2_RE_1.0</th>\n",
       "      <th>A2_RE_2.0</th>\n",
       "      <th>A2_RE_3.0</th>\n",
       "    </tr>\n",
       "    <tr>\n",
       "      <th>LoanID</th>\n",
       "      <th></th>\n",
       "      <th></th>\n",
       "      <th></th>\n",
       "      <th></th>\n",
       "      <th></th>\n",
       "      <th></th>\n",
       "      <th></th>\n",
       "      <th></th>\n",
       "      <th></th>\n",
       "      <th></th>\n",
       "      <th></th>\n",
       "      <th></th>\n",
       "      <th></th>\n",
       "      <th></th>\n",
       "      <th></th>\n",
       "      <th></th>\n",
       "      <th></th>\n",
       "      <th></th>\n",
       "      <th></th>\n",
       "      <th></th>\n",
       "      <th></th>\n",
       "      <th></th>\n",
       "      <th></th>\n",
       "      <th></th>\n",
       "      <th></th>\n",
       "      <th></th>\n",
       "      <th></th>\n",
       "      <th></th>\n",
       "      <th></th>\n",
       "      <th></th>\n",
       "      <th></th>\n",
       "      <th></th>\n",
       "      <th></th>\n",
       "      <th></th>\n",
       "      <th></th>\n",
       "      <th></th>\n",
       "      <th></th>\n",
       "      <th></th>\n",
       "      <th></th>\n",
       "      <th></th>\n",
       "      <th></th>\n",
       "      <th></th>\n",
       "      <th></th>\n",
       "      <th></th>\n",
       "      <th></th>\n",
       "      <th></th>\n",
       "      <th></th>\n",
       "      <th></th>\n",
       "      <th></th>\n",
       "      <th></th>\n",
       "      <th></th>\n",
       "      <th></th>\n",
       "      <th></th>\n",
       "      <th></th>\n",
       "      <th></th>\n",
       "      <th></th>\n",
       "    </tr>\n",
       "  </thead>\n",
       "  <tbody>\n",
       "    <tr>\n",
       "      <th>10648</th>\n",
       "      <td>1</td>\n",
       "      <td>1</td>\n",
       "      <td>0.557983</td>\n",
       "      <td>-2.071017</td>\n",
       "      <td>0.860067</td>\n",
       "      <td>0.372083</td>\n",
       "      <td>-1.984253e-12</td>\n",
       "      <td>4.551318e-02</td>\n",
       "      <td>-9.231984e-02</td>\n",
       "      <td>1.782222e-12</td>\n",
       "      <td>-7.793496e-13</td>\n",
       "      <td>4.247224e-14</td>\n",
       "      <td>-0.235080</td>\n",
       "      <td>-0.000054</td>\n",
       "      <td>0.041007</td>\n",
       "      <td>-7.288344e-14</td>\n",
       "      <td>-0.252253</td>\n",
       "      <td>-0.228856</td>\n",
       "      <td>-0.927484</td>\n",
       "      <td>-0.035979</td>\n",
       "      <td>-1.884267e-01</td>\n",
       "      <td>-2.127662e-01</td>\n",
       "      <td>-0.270006</td>\n",
       "      <td>-0.258838</td>\n",
       "      <td>-0.497642</td>\n",
       "      <td>-5.467688e-14</td>\n",
       "      <td>0.117853</td>\n",
       "      <td>0.660946</td>\n",
       "      <td>-2.414105e-01</td>\n",
       "      <td>9.517922e-01</td>\n",
       "      <td>0.756883</td>\n",
       "      <td>0.014882</td>\n",
       "      <td>0.137837</td>\n",
       "      <td>1</td>\n",
       "      <td>0</td>\n",
       "      <td>0</td>\n",
       "      <td>0</td>\n",
       "      <td>0</td>\n",
       "      <td>0</td>\n",
       "      <td>0</td>\n",
       "      <td>0</td>\n",
       "      <td>1</td>\n",
       "      <td>0</td>\n",
       "      <td>1</td>\n",
       "      <td>0</td>\n",
       "      <td>0</td>\n",
       "      <td>1</td>\n",
       "      <td>0</td>\n",
       "      <td>0</td>\n",
       "      <td>0</td>\n",
       "      <td>0</td>\n",
       "      <td>1</td>\n",
       "      <td>0</td>\n",
       "      <td>1</td>\n",
       "      <td>0</td>\n",
       "      <td>0</td>\n",
       "    </tr>\n",
       "    <tr>\n",
       "      <th>4018</th>\n",
       "      <td>0</td>\n",
       "      <td>1</td>\n",
       "      <td>0.557983</td>\n",
       "      <td>0.482855</td>\n",
       "      <td>-1.162699</td>\n",
       "      <td>0.372083</td>\n",
       "      <td>-1.984253e-12</td>\n",
       "      <td>7.131854e-01</td>\n",
       "      <td>9.916098e-01</td>\n",
       "      <td>1.782222e-12</td>\n",
       "      <td>-7.793496e-13</td>\n",
       "      <td>4.247224e-14</td>\n",
       "      <td>-0.252888</td>\n",
       "      <td>-0.550054</td>\n",
       "      <td>-0.450824</td>\n",
       "      <td>-6.021112e-01</td>\n",
       "      <td>-0.252253</td>\n",
       "      <td>-0.228856</td>\n",
       "      <td>-0.983803</td>\n",
       "      <td>-1.028366</td>\n",
       "      <td>2.030312e-14</td>\n",
       "      <td>-3.960362e-14</td>\n",
       "      <td>-0.270006</td>\n",
       "      <td>-0.593867</td>\n",
       "      <td>-0.497642</td>\n",
       "      <td>-5.467688e-14</td>\n",
       "      <td>-0.351596</td>\n",
       "      <td>-0.898510</td>\n",
       "      <td>-2.408472e-01</td>\n",
       "      <td>-2.432867e-01</td>\n",
       "      <td>-1.714161</td>\n",
       "      <td>0.072975</td>\n",
       "      <td>0.114192</td>\n",
       "      <td>1</td>\n",
       "      <td>0</td>\n",
       "      <td>1</td>\n",
       "      <td>0</td>\n",
       "      <td>0</td>\n",
       "      <td>0</td>\n",
       "      <td>0</td>\n",
       "      <td>0</td>\n",
       "      <td>0</td>\n",
       "      <td>0</td>\n",
       "      <td>1</td>\n",
       "      <td>0</td>\n",
       "      <td>1</td>\n",
       "      <td>0</td>\n",
       "      <td>0</td>\n",
       "      <td>0</td>\n",
       "      <td>0</td>\n",
       "      <td>0</td>\n",
       "      <td>1</td>\n",
       "      <td>0</td>\n",
       "      <td>1</td>\n",
       "      <td>0</td>\n",
       "      <td>0</td>\n",
       "    </tr>\n",
       "    <tr>\n",
       "      <th>8212</th>\n",
       "      <td>0</td>\n",
       "      <td>0</td>\n",
       "      <td>0.557983</td>\n",
       "      <td>0.482855</td>\n",
       "      <td>-1.162699</td>\n",
       "      <td>0.372083</td>\n",
       "      <td>-8.474448e-01</td>\n",
       "      <td>8.130198e-01</td>\n",
       "      <td>8.896790e-01</td>\n",
       "      <td>3.975867e-01</td>\n",
       "      <td>4.353575e-01</td>\n",
       "      <td>-5.034694e-01</td>\n",
       "      <td>-0.205400</td>\n",
       "      <td>-0.369475</td>\n",
       "      <td>-0.492040</td>\n",
       "      <td>-6.633862e-01</td>\n",
       "      <td>-0.252253</td>\n",
       "      <td>-0.228856</td>\n",
       "      <td>2.041347</td>\n",
       "      <td>-0.276558</td>\n",
       "      <td>-1.884267e-01</td>\n",
       "      <td>-2.127662e-01</td>\n",
       "      <td>-0.270006</td>\n",
       "      <td>-0.353469</td>\n",
       "      <td>-0.497642</td>\n",
       "      <td>-5.188056e-01</td>\n",
       "      <td>-0.222681</td>\n",
       "      <td>-0.458220</td>\n",
       "      <td>-2.276365e-01</td>\n",
       "      <td>-2.883989e-01</td>\n",
       "      <td>0.597461</td>\n",
       "      <td>0.009875</td>\n",
       "      <td>0.114192</td>\n",
       "      <td>1</td>\n",
       "      <td>0</td>\n",
       "      <td>1</td>\n",
       "      <td>0</td>\n",
       "      <td>0</td>\n",
       "      <td>0</td>\n",
       "      <td>0</td>\n",
       "      <td>0</td>\n",
       "      <td>0</td>\n",
       "      <td>0</td>\n",
       "      <td>1</td>\n",
       "      <td>0</td>\n",
       "      <td>0</td>\n",
       "      <td>1</td>\n",
       "      <td>0</td>\n",
       "      <td>0</td>\n",
       "      <td>0</td>\n",
       "      <td>0</td>\n",
       "      <td>1</td>\n",
       "      <td>0</td>\n",
       "      <td>1</td>\n",
       "      <td>0</td>\n",
       "      <td>0</td>\n",
       "    </tr>\n",
       "    <tr>\n",
       "      <th>23763</th>\n",
       "      <td>0</td>\n",
       "      <td>0</td>\n",
       "      <td>-1.792170</td>\n",
       "      <td>0.482855</td>\n",
       "      <td>0.860067</td>\n",
       "      <td>0.372083</td>\n",
       "      <td>-1.984253e-12</td>\n",
       "      <td>4.392722e-12</td>\n",
       "      <td>-3.030306e-12</td>\n",
       "      <td>4.548334e-02</td>\n",
       "      <td>2.271911e-01</td>\n",
       "      <td>-6.930470e-01</td>\n",
       "      <td>-0.239532</td>\n",
       "      <td>-0.523000</td>\n",
       "      <td>-0.541798</td>\n",
       "      <td>-7.373621e-01</td>\n",
       "      <td>-0.245437</td>\n",
       "      <td>-0.220981</td>\n",
       "      <td>1.075874</td>\n",
       "      <td>-0.667498</td>\n",
       "      <td>1.140601e+00</td>\n",
       "      <td>-2.127662e-01</td>\n",
       "      <td>-0.262410</td>\n",
       "      <td>-0.574397</td>\n",
       "      <td>-0.497642</td>\n",
       "      <td>-5.014411e-01</td>\n",
       "      <td>-0.421744</td>\n",
       "      <td>-0.898905</td>\n",
       "      <td>-2.374309e-01</td>\n",
       "      <td>-3.113801e-04</td>\n",
       "      <td>-0.887158</td>\n",
       "      <td>0.064630</td>\n",
       "      <td>0.114192</td>\n",
       "      <td>1</td>\n",
       "      <td>0</td>\n",
       "      <td>1</td>\n",
       "      <td>0</td>\n",
       "      <td>0</td>\n",
       "      <td>0</td>\n",
       "      <td>0</td>\n",
       "      <td>0</td>\n",
       "      <td>0</td>\n",
       "      <td>0</td>\n",
       "      <td>1</td>\n",
       "      <td>0</td>\n",
       "      <td>0</td>\n",
       "      <td>1</td>\n",
       "      <td>0</td>\n",
       "      <td>0</td>\n",
       "      <td>0</td>\n",
       "      <td>0</td>\n",
       "      <td>1</td>\n",
       "      <td>0</td>\n",
       "      <td>1</td>\n",
       "      <td>0</td>\n",
       "      <td>0</td>\n",
       "    </tr>\n",
       "    <tr>\n",
       "      <th>15708</th>\n",
       "      <td>1</td>\n",
       "      <td>0</td>\n",
       "      <td>0.557983</td>\n",
       "      <td>0.482855</td>\n",
       "      <td>0.860067</td>\n",
       "      <td>0.372083</td>\n",
       "      <td>9.118853e-01</td>\n",
       "      <td>4.392722e-12</td>\n",
       "      <td>-3.030306e-12</td>\n",
       "      <td>3.109567e-01</td>\n",
       "      <td>2.533594e-01</td>\n",
       "      <td>-3.656588e-02</td>\n",
       "      <td>0.003844</td>\n",
       "      <td>-0.189037</td>\n",
       "      <td>-0.207751</td>\n",
       "      <td>-2.407375e-01</td>\n",
       "      <td>-0.252253</td>\n",
       "      <td>-0.228856</td>\n",
       "      <td>0.416134</td>\n",
       "      <td>-0.035979</td>\n",
       "      <td>-1.884267e-01</td>\n",
       "      <td>-2.127662e-01</td>\n",
       "      <td>-0.270006</td>\n",
       "      <td>-0.184021</td>\n",
       "      <td>0.169725</td>\n",
       "      <td>2.540686e-01</td>\n",
       "      <td>-0.313825</td>\n",
       "      <td>0.638258</td>\n",
       "      <td>7.484680e-17</td>\n",
       "      <td>9.777878e-18</td>\n",
       "      <td>-0.687881</td>\n",
       "      <td>0.040475</td>\n",
       "      <td>0.137837</td>\n",
       "      <td>1</td>\n",
       "      <td>0</td>\n",
       "      <td>1</td>\n",
       "      <td>0</td>\n",
       "      <td>0</td>\n",
       "      <td>0</td>\n",
       "      <td>0</td>\n",
       "      <td>0</td>\n",
       "      <td>0</td>\n",
       "      <td>0</td>\n",
       "      <td>1</td>\n",
       "      <td>0</td>\n",
       "      <td>0</td>\n",
       "      <td>1</td>\n",
       "      <td>0</td>\n",
       "      <td>0</td>\n",
       "      <td>0</td>\n",
       "      <td>0</td>\n",
       "      <td>1</td>\n",
       "      <td>0</td>\n",
       "      <td>1</td>\n",
       "      <td>0</td>\n",
       "      <td>0</td>\n",
       "    </tr>\n",
       "  </tbody>\n",
       "</table>\n",
       "</div>"
      ],
      "text/plain": [
       "        Managing_Sales_Office_Nbr  Postal_Code_L  ...  A2_RE_2.0  A2_RE_3.0\n",
       "LoanID                                            ...                      \n",
       "10648                           1              1  ...          0          0\n",
       "4018                            0              1  ...          0          0\n",
       "8212                            0              0  ...          0          0\n",
       "23763                           0              0  ...          0          0\n",
       "15708                           1              0  ...          0          0\n",
       "\n",
       "[5 rows x 56 columns]"
      ]
     },
     "execution_count": 36,
     "metadata": {
      "tags": []
     },
     "output_type": "execute_result"
    }
   ],
   "source": [
    "X_train.head()"
   ]
  },
  {
   "cell_type": "markdown",
   "metadata": {
    "id": "uRaPioVm4YR7"
   },
   "source": [
    "# **Model Selection**"
   ]
  },
  {
   "cell_type": "code",
   "execution_count": 37,
   "metadata": {
    "executionInfo": {
     "elapsed": 20354,
     "status": "ok",
     "timestamp": 1605774546486,
     "user": {
      "displayName": "Amin T.",
      "photoUrl": "https://lh3.googleusercontent.com/a-/AOh14GhLSDDfMbtcwB_Rx9shExjq9xAjHfktW4EOUC4z=s64",
      "userId": "18045034436816550073"
     },
     "user_tz": -60
    },
    "id": "rpAedKz131jx"
   },
   "outputs": [],
   "source": [
    "# Import models\n",
    "from sklearn.neighbors import KNeighborsClassifier\n",
    "from sklearn.tree import DecisionTreeClassifier\n",
    "from sklearn.linear_model import LogisticRegression\n",
    "from sklearn.svm import LinearSVC, SVC\n",
    "from sklearn.ensemble import RandomForestClassifier\n",
    "\n",
    "# Import evaluation metrices\n",
    "from sklearn.metrics import accuracy_score, roc_auc_score\n",
    "\n",
    "from sklearn.model_selection import GridSearchCV"
   ]
  },
  {
   "cell_type": "code",
   "execution_count": 38,
   "metadata": {
    "executionInfo": {
     "elapsed": 20042,
     "status": "ok",
     "timestamp": 1605774546490,
     "user": {
      "displayName": "Amin T.",
      "photoUrl": "https://lh3.googleusercontent.com/a-/AOh14GhLSDDfMbtcwB_Rx9shExjq9xAjHfktW4EOUC4z=s64",
      "userId": "18045034436816550073"
     },
     "user_tz": -60
    },
    "id": "oBvugru84mSm"
   },
   "outputs": [],
   "source": [
    "def data_prep_func(Data, Y, num_columns=num_cols, cat_columns=cat_cols, norm_columns=norm_cols,\n",
    "                   test_size=0.2, random_state=1):\n",
    "  \"\"\"\n",
    "  This function performs all the data preprocessing steps on the data\n",
    "\n",
    "  Data: the raw training data including all data features that are going to be \n",
    "    considered (columns that are not going to be used should be droped)\n",
    "  Y: Target variable\n",
    "  num_columns: list of numerical columns\n",
    "  cat_columns: list of categorical columns\n",
    "  norm_columns: list of numerical columns to be normalized\n",
    "  test_size: proportion of data splitted for test data\n",
    "  \"\"\"\n",
    "\n",
    "  # Split the data into train and test\n",
    "  train_ind, test_ind = train_test_split(Data.index, test_size=test_size, random_state=random_state)\n",
    "\n",
    "  X_train = pd.DataFrame(index=train_ind)\n",
    "  X_test = pd.DataFrame(index=test_ind)\n",
    "\n",
    "  Y_train = Y[train_ind]\n",
    "  Y_test = Y[test_ind]\n",
    "\n",
    "  # Handling missing values\n",
    "  pcnt_missing_all = (Data.isna().sum()/Data.shape[0])*100\n",
    "  pcnt_missing_num = (Data[num_cols].isna().sum()/Data.shape[0])*100\n",
    "  pcnt_missing_cat = (Data[cat_cols].isna().sum()/Data.shape[0])*100\n",
    "\n",
    "  for col in pcnt_missing_all.index:\n",
    "    if pcnt_missing_all[col] >= 50 and pcnt_missing_all[col] < 90:\n",
    "      X_train[col] = Data.loc[train_ind, col].isna().astype(int)\n",
    "      X_test[col] = Data.loc[test_ind, col].isna().astype(int)\n",
    "\n",
    "  for col in pcnt_missing_num.index:\n",
    "    if pcnt_missing_num[col] < 50:\n",
    "      mean_value = Data.loc[train_ind, col].mean()\n",
    "      X_train[col] = Data.loc[train_ind, col].fillna(value=mean_value)\n",
    "      X_test[col] = Data.loc[test_ind, col].fillna(value=mean_value)\n",
    "\n",
    "  for col in pcnt_missing_cat.index:\n",
    "    if pcnt_missing_cat[col] < 50:\n",
    "      freq_value = Data.loc[train_ind, col].mode()[0]\n",
    "      X_train[col] = Data.loc[train_ind, col].fillna(value=freq_value)\n",
    "      X_test[col] = Data.loc[test_ind, col].fillna(value=freq_value)\n",
    "\n",
    "  # Preprocessing Categorical Variabes\n",
    "  cnt_unique = X_train.select_dtypes(include='object').nunique()\n",
    "\n",
    "  for col in cnt_unique[cnt_unique <= 10].index:\n",
    "    X_train = X_train.join(pd.get_dummies(Data.loc[train_ind, col], prefix=col[:5]))\n",
    "    X_train.drop(columns=col, inplace=True)\n",
    "    X_test = X_test.join(pd.get_dummies(Data.loc[test_ind, col], prefix=col[:5]))\n",
    "    X_test.drop(columns=col, inplace=True)\n",
    "\n",
    "  HCardinals = cnt_unique[cnt_unique > 10].index\n",
    "  for col in HCardinals: \n",
    "    X_train[col]= Data.loc[train_ind].groupby(col)[col].transform('count')/len(train_ind)\n",
    "    d = dict(zip(Data.loc[train_ind, col], X_train[col]))\n",
    "    for i in list(set(Data.loc[test_ind, col].unique()) - set(Data.loc[train_ind, col].unique())):\n",
    "      d[i] = 0\n",
    "    X_test[col] = Data.loc[test_ind, col].replace(d)\n",
    "\n",
    "  # Preprocessing numerical variables\n",
    "#  for col in norm_columns:\n",
    "#    X_train[col] = Preprocessing_continuous(X_train[col], X_train[col])\n",
    "#    X_test[col] = Preprocessing_continuous(X_test[col], X_train[col])\n",
    "\n",
    "  return X_train, Y_train, X_test, Y_test"
   ]
  },
  {
   "cell_type": "code",
   "execution_count": 39,
   "metadata": {
    "colab": {
     "base_uri": "https://localhost:8080/",
     "height": 306
    },
    "executionInfo": {
     "elapsed": 18741,
     "status": "ok",
     "timestamp": 1605774546691,
     "user": {
      "displayName": "Amin T.",
      "photoUrl": "https://lh3.googleusercontent.com/a-/AOh14GhLSDDfMbtcwB_Rx9shExjq9xAjHfktW4EOUC4z=s64",
      "userId": "18045034436816550073"
     },
     "user_tz": -60
    },
    "id": "1AKoDWbdkKYY",
    "outputId": "8d078e4e-04e3-408c-8f17-3d71862c3f59"
   },
   "outputs": [
    {
     "data": {
      "text/html": [
       "<div>\n",
       "<style scoped>\n",
       "    .dataframe tbody tr th:only-of-type {\n",
       "        vertical-align: middle;\n",
       "    }\n",
       "\n",
       "    .dataframe tbody tr th {\n",
       "        vertical-align: top;\n",
       "    }\n",
       "\n",
       "    .dataframe thead th {\n",
       "        text-align: right;\n",
       "    }\n",
       "</style>\n",
       "<table border=\"1\" class=\"dataframe\">\n",
       "  <thead>\n",
       "    <tr style=\"text-align: right;\">\n",
       "      <th></th>\n",
       "      <th>Type</th>\n",
       "      <th>BEH_SCORE_AVG_A1</th>\n",
       "      <th>BEH_SCORE_AVG_A2</th>\n",
       "      <th>BEH_SCORE_MIN_A2</th>\n",
       "      <th>FHS_SCORE_AVG</th>\n",
       "      <th>FHS_SCORE_LATEST</th>\n",
       "      <th>CASH_FLOW_AMT</th>\n",
       "      <th>MTHS_SNC_1ST_REC_CNT</th>\n",
       "      <th>Managing_Sales_Office_Nbr</th>\n",
       "      <th>Postal_Code_L</th>\n",
       "      <th>A1_AVG_POS_SALDO_PROF_1_AMT</th>\n",
       "      <th>Invest_Amt</th>\n",
       "      <th>Original_loan_Amt</th>\n",
       "      <th>Product_Desc</th>\n",
       "      <th>CREDIT_TYPE_CD</th>\n",
       "      <th>ACCOUNT_PURPOSE_CD</th>\n",
       "      <th>A1_TOT_DEB_INTEREST_PROF_6_AMT</th>\n",
       "      <th>A2_MTHS_SNC_LAST_LIQ_PRIV_CNT</th>\n",
       "      <th>A2_MTHS_SNC_FIRST_COREPROF_CNT</th>\n",
       "      <th>A2_MARITAL_STATUS_CD</th>\n",
       "      <th>A1_TOT_DEB_INTEREST_PROF_1_AMT</th>\n",
       "      <th>MTHS_IN_BUSINESS_CNT</th>\n",
       "      <th>A2_MTHS_SNC_LAST_LIQ_SAVE_CNT</th>\n",
       "      <th>A1_NEGAT_TRANS_COREPROF_CNT</th>\n",
       "      <th>FINANCIAL_PRODUCT_TYPE_CD</th>\n",
       "      <th>A1_OVERDRAWN_DAYS_PROF_24_CNT</th>\n",
       "      <th>A1_OVERDRAWN_DAYS_PROF_6_CNT</th>\n",
       "      <th>A2_EMPLOYMENT_STATUS_CD</th>\n",
       "      <th>A1_AVG_NEG_SALDO_PROF_3_AMT</th>\n",
       "      <th>A1_AVG_POS_SALDO_PROF_12_AMT</th>\n",
       "      <th>A2_RESIDENT_STATUS_CD</th>\n",
       "      <th>A1_TOT_STND_PAYMNT_INT_PROF_CNT</th>\n",
       "      <th>CASHFLOW_MONTHLY_CREDIT_RT</th>\n",
       "      <th>MONTHS_SINCE_LAST_REFUSAL_CNT</th>\n",
       "      <th>MONTHLY_CREDIT_AMT_TOT</th>\n",
       "      <th>A2_ANNUAL_INCOME_AMT_scale</th>\n",
       "      <th>A2_AVG_NEG_SALDO_PRIV_12_AMT_scale</th>\n",
       "      <th>A2_AVG_POS_SALDO_SAVINGS_12_AMT_scale</th>\n",
       "      <th>A2_TOTAL_EMPLOYMENT_MONTHS_CNT_scale</th>\n",
       "    </tr>\n",
       "    <tr>\n",
       "      <th>LoanID</th>\n",
       "      <th></th>\n",
       "      <th></th>\n",
       "      <th></th>\n",
       "      <th></th>\n",
       "      <th></th>\n",
       "      <th></th>\n",
       "      <th></th>\n",
       "      <th></th>\n",
       "      <th></th>\n",
       "      <th></th>\n",
       "      <th></th>\n",
       "      <th></th>\n",
       "      <th></th>\n",
       "      <th></th>\n",
       "      <th></th>\n",
       "      <th></th>\n",
       "      <th></th>\n",
       "      <th></th>\n",
       "      <th></th>\n",
       "      <th></th>\n",
       "      <th></th>\n",
       "      <th></th>\n",
       "      <th></th>\n",
       "      <th></th>\n",
       "      <th></th>\n",
       "      <th></th>\n",
       "      <th></th>\n",
       "      <th></th>\n",
       "      <th></th>\n",
       "      <th></th>\n",
       "      <th></th>\n",
       "      <th></th>\n",
       "      <th></th>\n",
       "      <th></th>\n",
       "      <th></th>\n",
       "      <th></th>\n",
       "      <th></th>\n",
       "      <th></th>\n",
       "      <th></th>\n",
       "    </tr>\n",
       "  </thead>\n",
       "  <tbody>\n",
       "    <tr>\n",
       "      <th>1</th>\n",
       "      <td>Company_Known</td>\n",
       "      <td>NaN</td>\n",
       "      <td>683.715167</td>\n",
       "      <td>665.375221</td>\n",
       "      <td>NaN</td>\n",
       "      <td>NaN</td>\n",
       "      <td>NaN</td>\n",
       "      <td>1.0</td>\n",
       "      <td>NaN</td>\n",
       "      <td>NaN</td>\n",
       "      <td>3712.25</td>\n",
       "      <td>43200.00</td>\n",
       "      <td>NaN</td>\n",
       "      <td>Bizness financiering</td>\n",
       "      <td>IK</td>\n",
       "      <td>65</td>\n",
       "      <td>0.0</td>\n",
       "      <td>NaN</td>\n",
       "      <td>223.0</td>\n",
       "      <td>2.0</td>\n",
       "      <td>0.0</td>\n",
       "      <td>1.0</td>\n",
       "      <td>21.0</td>\n",
       "      <td>2.0</td>\n",
       "      <td>MTG</td>\n",
       "      <td>NaN</td>\n",
       "      <td>NaN</td>\n",
       "      <td>403</td>\n",
       "      <td>0.0</td>\n",
       "      <td>2261.27</td>\n",
       "      <td>1.0</td>\n",
       "      <td>0.0</td>\n",
       "      <td>NaN</td>\n",
       "      <td>NaN</td>\n",
       "      <td>900.000000</td>\n",
       "      <td>0.006845</td>\n",
       "      <td>-0.160712</td>\n",
       "      <td>-0.006150</td>\n",
       "      <td>0.242304</td>\n",
       "    </tr>\n",
       "    <tr>\n",
       "      <th>2</th>\n",
       "      <td>Company_Known</td>\n",
       "      <td>NaN</td>\n",
       "      <td>NaN</td>\n",
       "      <td>NaN</td>\n",
       "      <td>99.807392</td>\n",
       "      <td>99.990702</td>\n",
       "      <td>10871.0</td>\n",
       "      <td>127.0</td>\n",
       "      <td>NaN</td>\n",
       "      <td>NaN</td>\n",
       "      <td>5938.09</td>\n",
       "      <td>NaN</td>\n",
       "      <td>NaN</td>\n",
       "      <td>Overbruggingskrediet professionele doeleinden</td>\n",
       "      <td>IK</td>\n",
       "      <td>813</td>\n",
       "      <td>0.0</td>\n",
       "      <td>NaN</td>\n",
       "      <td>127.0</td>\n",
       "      <td>2.0</td>\n",
       "      <td>0.0</td>\n",
       "      <td>127.0</td>\n",
       "      <td>2.0</td>\n",
       "      <td>6.0</td>\n",
       "      <td>MTG</td>\n",
       "      <td>0.0</td>\n",
       "      <td>0.0</td>\n",
       "      <td>410</td>\n",
       "      <td>0.0</td>\n",
       "      <td>31415.85</td>\n",
       "      <td>1.0</td>\n",
       "      <td>0.0</td>\n",
       "      <td>6.522600</td>\n",
       "      <td>NaN</td>\n",
       "      <td>1666.666667</td>\n",
       "      <td>0.243932</td>\n",
       "      <td>-0.191004</td>\n",
       "      <td>0.222792</td>\n",
       "      <td>0.005690</td>\n",
       "    </tr>\n",
       "    <tr>\n",
       "      <th>3</th>\n",
       "      <td>Company_Known</td>\n",
       "      <td>NaN</td>\n",
       "      <td>NaN</td>\n",
       "      <td>NaN</td>\n",
       "      <td>99.852028</td>\n",
       "      <td>99.999280</td>\n",
       "      <td>2207.0</td>\n",
       "      <td>85.0</td>\n",
       "      <td>NaN</td>\n",
       "      <td>8ad848e7</td>\n",
       "      <td>45745.60</td>\n",
       "      <td>40198.36</td>\n",
       "      <td>15000.0</td>\n",
       "      <td>Bizness financiering</td>\n",
       "      <td>IK</td>\n",
       "      <td>65</td>\n",
       "      <td>0.0</td>\n",
       "      <td>NaN</td>\n",
       "      <td>85.0</td>\n",
       "      <td>2.0</td>\n",
       "      <td>0.0</td>\n",
       "      <td>85.0</td>\n",
       "      <td>58.0</td>\n",
       "      <td>25.0</td>\n",
       "      <td>MTG</td>\n",
       "      <td>0.0</td>\n",
       "      <td>0.0</td>\n",
       "      <td>410</td>\n",
       "      <td>0.0</td>\n",
       "      <td>43686.63</td>\n",
       "      <td>1.0</td>\n",
       "      <td>0.0</td>\n",
       "      <td>5.296800</td>\n",
       "      <td>NaN</td>\n",
       "      <td>416.666667</td>\n",
       "      <td>0.243932</td>\n",
       "      <td>-0.189250</td>\n",
       "      <td>-0.422428</td>\n",
       "      <td>-0.362376</td>\n",
       "    </tr>\n",
       "    <tr>\n",
       "      <th>4</th>\n",
       "      <td>Company_Known</td>\n",
       "      <td>680.0</td>\n",
       "      <td>NaN</td>\n",
       "      <td>NaN</td>\n",
       "      <td>99.397674</td>\n",
       "      <td>98.795310</td>\n",
       "      <td>10827.0</td>\n",
       "      <td>104.0</td>\n",
       "      <td>1299ce2a</td>\n",
       "      <td>8ad848e7</td>\n",
       "      <td>63844.37</td>\n",
       "      <td>37495.04</td>\n",
       "      <td>7392.0</td>\n",
       "      <td>Bizness financiering</td>\n",
       "      <td>IK</td>\n",
       "      <td>65</td>\n",
       "      <td>0.0</td>\n",
       "      <td>NaN</td>\n",
       "      <td>104.0</td>\n",
       "      <td>2.0</td>\n",
       "      <td>0.0</td>\n",
       "      <td>104.0</td>\n",
       "      <td>3.0</td>\n",
       "      <td>15.0</td>\n",
       "      <td>MTG</td>\n",
       "      <td>0.0</td>\n",
       "      <td>0.0</td>\n",
       "      <td>410</td>\n",
       "      <td>0.0</td>\n",
       "      <td>40072.98</td>\n",
       "      <td>1.0</td>\n",
       "      <td>0.0</td>\n",
       "      <td>26.364448</td>\n",
       "      <td>NaN</td>\n",
       "      <td>410.666667</td>\n",
       "      <td>0.243932</td>\n",
       "      <td>-0.191004</td>\n",
       "      <td>-0.383489</td>\n",
       "      <td>-0.195870</td>\n",
       "    </tr>\n",
       "    <tr>\n",
       "      <th>5</th>\n",
       "      <td>Company_Known</td>\n",
       "      <td>NaN</td>\n",
       "      <td>NaN</td>\n",
       "      <td>NaN</td>\n",
       "      <td>NaN</td>\n",
       "      <td>NaN</td>\n",
       "      <td>NaN</td>\n",
       "      <td>0.0</td>\n",
       "      <td>NaN</td>\n",
       "      <td>NaN</td>\n",
       "      <td>NaN</td>\n",
       "      <td>289000.00</td>\n",
       "      <td>NaN</td>\n",
       "      <td>Investeringskrediet onroerend</td>\n",
       "      <td>IK</td>\n",
       "      <td>104</td>\n",
       "      <td>NaN</td>\n",
       "      <td>118.0</td>\n",
       "      <td>176.0</td>\n",
       "      <td>4.0</td>\n",
       "      <td>NaN</td>\n",
       "      <td>15.0</td>\n",
       "      <td>65.0</td>\n",
       "      <td>NaN</td>\n",
       "      <td>MTG</td>\n",
       "      <td>NaN</td>\n",
       "      <td>NaN</td>\n",
       "      <td>386</td>\n",
       "      <td>NaN</td>\n",
       "      <td>NaN</td>\n",
       "      <td>1.0</td>\n",
       "      <td>NaN</td>\n",
       "      <td>NaN</td>\n",
       "      <td>NaN</td>\n",
       "      <td>3075.000000</td>\n",
       "      <td>1.641230</td>\n",
       "      <td>-0.187378</td>\n",
       "      <td>-0.294618</td>\n",
       "      <td>1.372793</td>\n",
       "    </tr>\n",
       "  </tbody>\n",
       "</table>\n",
       "</div>"
      ],
      "text/plain": [
       "                 Type  ...  A2_TOTAL_EMPLOYMENT_MONTHS_CNT_scale\n",
       "LoanID                 ...                                      \n",
       "1       Company_Known  ...                              0.242304\n",
       "2       Company_Known  ...                              0.005690\n",
       "3       Company_Known  ...                             -0.362376\n",
       "4       Company_Known  ...                             -0.195870\n",
       "5       Company_Known  ...                              1.372793\n",
       "\n",
       "[5 rows x 39 columns]"
      ]
     },
     "execution_count": 39,
     "metadata": {
      "tags": []
     },
     "output_type": "execute_result"
    }
   ],
   "source": [
    "X = X.drop(columns=drop_cols)\n",
    "X.head()"
   ]
  },
  {
   "cell_type": "code",
   "execution_count": 40,
   "metadata": {
    "colab": {
     "base_uri": "https://localhost:8080/"
    },
    "executionInfo": {
     "elapsed": 86138,
     "status": "ok",
     "timestamp": 1605774619198,
     "user": {
      "displayName": "Amin T.",
      "photoUrl": "https://lh3.googleusercontent.com/a-/AOh14GhLSDDfMbtcwB_Rx9shExjq9xAjHfktW4EOUC4z=s64",
      "userId": "18045034436816550073"
     },
     "user_tz": -60
    },
    "id": "oFLIGrPvBQ8V",
    "outputId": "d72fed82-5cb0-40a8-cf97-36d3e8a353f9"
   },
   "outputs": [
    {
     "name": "stdout",
     "output_type": "stream",
     "text": [
      "The performance of the baseline model is: 0.688\n",
      "\n",
      "Best parameter of the baseline model is: {'n_neighbors': 82}\n"
     ]
    }
   ],
   "source": [
    "# KNeighborsClassifier model\n",
    "x_train, y_train, x_test, y_test = data_prep_func(X, Y)\n",
    "model_KNN = KNeighborsClassifier()\n",
    "params_KNN = {'n_neighbors': np.arange(70, 91, 2)}\n",
    "CV_KNN = GridSearchCV(model_KNN, param_grid=params_KNN, scoring='roc_auc', cv=5, n_jobs=-1)\n",
    "CV_KNN.fit(x_train, y_train)\n",
    "predictions = CV_KNN.predict_proba(x_test)[:,1]\n",
    "baseline_AUC = roc_auc_score(y_test, predictions)\n",
    "best_param_KNN = CV_KNN.best_params_\n",
    "print('The performance of the baseline model is: {:.3f}'.format(baseline_AUC))\n",
    "print('\\nBest parameter of the baseline model is: {}'.format(best_param_KNN))"
   ]
  },
  {
   "cell_type": "code",
   "execution_count": 41,
   "metadata": {
    "colab": {
     "base_uri": "https://localhost:8080/"
    },
    "executionInfo": {
     "elapsed": 54678,
     "status": "ok",
     "timestamp": 1605774688303,
     "user": {
      "displayName": "Amin T.",
      "photoUrl": "https://lh3.googleusercontent.com/a-/AOh14GhLSDDfMbtcwB_Rx9shExjq9xAjHfktW4EOUC4z=s64",
      "userId": "18045034436816550073"
     },
     "user_tz": -60
    },
    "id": "Yhq7ZHCN4eXq",
    "outputId": "90c9f2f7-c329-45e0-ea4c-bd73a3bd3111"
   },
   "outputs": [
    {
     "name": "stdout",
     "output_type": "stream",
     "text": [
      "The average AUC score of the Decision Tree model is:\n",
      "0.789\n",
      "\n",
      "The average accuracy of the Decision Tree model is:\n",
      "0.970\n"
     ]
    }
   ],
   "source": [
    "# DecisionTreeClassifier\n",
    "rand_seeds = np.random.RandomState(1).randint(1,100,5)\n",
    "model_DT = DecisionTreeClassifier(criterion='entropy')\n",
    "params_DT = {'min_samples_leaf': np.arange(0.010, 0.028, 0.002)}\n",
    "CV_DT = GridSearchCV(model_DT, param_grid=params_DT, cv=5, n_jobs=-1, scoring='roc_auc')\n",
    "best_param_DT = []\n",
    "AUC_score_DT = []\n",
    "Accuracy_DT = []\n",
    "\n",
    "for i in rand_seeds:\n",
    "  x_train, y_train, x_test, y_test = data_prep_func(X, Y, random_state=i)\n",
    "  CV_DT.fit(x_train, y_train)\n",
    "  predict_probs = CV_DT.predict_proba(x_test)[:,1]\n",
    "  predict_labels = CV_DT.predict(x_test)\n",
    "  best_param_DT.append(CV_DT.best_params_)\n",
    "  AUC_score_DT.append(roc_auc_score(y_true=y_test, y_score=predict_probs))\n",
    "  Accuracy_DT.append(accuracy_score(y_true=y_test, y_pred=predict_labels))\n",
    "\n",
    "avg_AUC_DT = np.mean(AUC_score_DT)\n",
    "avg_accuracy_DT = np.mean(Accuracy_DT)\n",
    "\n",
    "print('The average AUC score of the Decision Tree model is:\\n{:.3f}'.format(avg_AUC_DT))\n",
    "print('\\nThe average accuracy of the Decision Tree model is:\\n{:.3f}'.format(avg_accuracy_DT))"
   ]
  },
  {
   "cell_type": "code",
   "execution_count": 46,
   "metadata": {
    "colab": {
     "base_uri": "https://localhost:8080/"
    },
    "executionInfo": {
     "elapsed": 510,
     "status": "ok",
     "timestamp": 1605777556259,
     "user": {
      "displayName": "Amin T.",
      "photoUrl": "https://lh3.googleusercontent.com/a-/AOh14GhLSDDfMbtcwB_Rx9shExjq9xAjHfktW4EOUC4z=s64",
      "userId": "18045034436816550073"
     },
     "user_tz": -60
    },
    "id": "jFOFWgmXn5iG",
    "outputId": "00b06c29-2da9-4626-91b7-a98aa7b3fb1b"
   },
   "outputs": [
    {
     "data": {
      "text/plain": [
       "[{'min_samples_leaf': 0.012},\n",
       " {'min_samples_leaf': 0.014},\n",
       " {'min_samples_leaf': 0.014},\n",
       " {'min_samples_leaf': 0.02},\n",
       " {'min_samples_leaf': 0.01}]"
      ]
     },
     "execution_count": 46,
     "metadata": {
      "tags": []
     },
     "output_type": "execute_result"
    }
   ],
   "source": [
    "best_param_DT"
   ]
  },
  {
   "cell_type": "code",
   "execution_count": 42,
   "metadata": {
    "colab": {
     "base_uri": "https://localhost:8080/"
    },
    "executionInfo": {
     "elapsed": 635363,
     "status": "ok",
     "timestamp": 1605775273494,
     "user": {
      "displayName": "Amin T.",
      "photoUrl": "https://lh3.googleusercontent.com/a-/AOh14GhLSDDfMbtcwB_Rx9shExjq9xAjHfktW4EOUC4z=s64",
      "userId": "18045034436816550073"
     },
     "user_tz": -60
    },
    "id": "IlDcbE2Q-BDX",
    "outputId": "26d0e50b-03fd-403b-ff3d-ff2498265833"
   },
   "outputs": [
    {
     "name": "stdout",
     "output_type": "stream",
     "text": [
      "The average AUC score of the Logistic Regression model is:\n",
      "0.743\n",
      "\n",
      "The average accuracy of the Logistic Regression model is:\n",
      "0.970\n"
     ]
    }
   ],
   "source": [
    "# LogisticRegression\n",
    "rand_seeds = np.random.RandomState(1).randint(1,100,5)\n",
    "model_LR = LogisticRegression(max_iter=1000, n_jobs=-1)\n",
    "params_LR = {'C': [2**p for p in range(-8, -1)]}\n",
    "CV_LR = GridSearchCV(model_LR, param_grid=params_LR, cv=5, n_jobs=-1, scoring='roc_auc')\n",
    "best_param_LR = []\n",
    "AUC_score_LR = []\n",
    "Accuracy_LR = []\n",
    "\n",
    "for i in rand_seeds:\n",
    "  x_train, y_train, x_test, y_test = data_prep_func(X, Y, random_state=i)\n",
    "  CV_LR.fit(x_train, y_train)\n",
    "  predict_probs = CV_LR.predict_proba(x_test)[:,1]\n",
    "  predict_labels = CV_LR.predict(x_test)\n",
    "  best_param_LR.append(CV_LR.best_params_)\n",
    "  AUC_score_LR.append(roc_auc_score(y_true=y_test, y_score=predict_probs))\n",
    "  Accuracy_LR.append(accuracy_score(y_true=y_test, y_pred=predict_labels))\n",
    "\n",
    "avg_AUC_LR = np.mean(AUC_score_LR)\n",
    "avg_accuracy_LR = np.mean(Accuracy_LR)\n",
    "\n",
    "print('The average AUC score of the Logistic Regression model is:\\n{:.3f}'.format(avg_AUC_LR))\n",
    "print('\\nThe average accuracy of the Logistic Regression model is:\\n{:.3f}'.format(avg_accuracy_LR))"
   ]
  },
  {
   "cell_type": "code",
   "execution_count": 47,
   "metadata": {
    "colab": {
     "base_uri": "https://localhost:8080/"
    },
    "executionInfo": {
     "elapsed": 484,
     "status": "ok",
     "timestamp": 1605777603492,
     "user": {
      "displayName": "Amin T.",
      "photoUrl": "https://lh3.googleusercontent.com/a-/AOh14GhLSDDfMbtcwB_Rx9shExjq9xAjHfktW4EOUC4z=s64",
      "userId": "18045034436816550073"
     },
     "user_tz": -60
    },
    "id": "BWA5aGcbn66J",
    "outputId": "8d16c7bf-9dd5-428c-dd5a-c99cb1186c20"
   },
   "outputs": [
    {
     "data": {
      "text/plain": [
       "[{'C': 0.0625}, {'C': 0.015625}, {'C': 0.25}, {'C': 0.0078125}, {'C': 0.03125}]"
      ]
     },
     "execution_count": 47,
     "metadata": {
      "tags": []
     },
     "output_type": "execute_result"
    }
   ],
   "source": [
    "best_param_LR"
   ]
  },
  {
   "cell_type": "code",
   "execution_count": 43,
   "metadata": {
    "colab": {
     "base_uri": "https://localhost:8080/"
    },
    "executionInfo": {
     "elapsed": 1767252,
     "status": "ok",
     "timestamp": 1605776408527,
     "user": {
      "displayName": "Amin T.",
      "photoUrl": "https://lh3.googleusercontent.com/a-/AOh14GhLSDDfMbtcwB_Rx9shExjq9xAjHfktW4EOUC4z=s64",
      "userId": "18045034436816550073"
     },
     "user_tz": -60
    },
    "id": "w-6gSCJXF-oi",
    "outputId": "d9597541-1843-417c-83b4-2702e1c170d7"
   },
   "outputs": [
    {
     "name": "stdout",
     "output_type": "stream",
     "text": [
      "The average AUC score of the Random Forest Classifier model is:\n",
      "0.882\n",
      "\n",
      "The average accuracy of the Random Forest Classifier model is:\n",
      "0.971\n"
     ]
    }
   ],
   "source": [
    "# RandomForestClassifier\n",
    "rand_seeds = np.random.RandomState(1).randint(1,100,5)\n",
    "model_RFC = RandomForestClassifier(n_jobs=-1)\n",
    "params_RFC = {'n_estimators': np.arange(250, 401, 50)}\n",
    "CV_RFC = GridSearchCV(model_RFC, param_grid=params_RFC, cv=5, n_jobs=-1, scoring='roc_auc')\n",
    "best_param_RFC = []\n",
    "AUC_score_RFC = []\n",
    "Accuracy_RFC = []\n",
    "\n",
    "for i in rand_seeds:\n",
    "  x_train, y_train, x_test, y_test = data_prep_func(X, Y, random_state=i)\n",
    "  CV_RFC.fit(x_train, y_train)\n",
    "  predict_probs = CV_RFC.predict_proba(x_test)[:,1]\n",
    "  predict_labels = CV_RFC.predict(x_test)\n",
    "  best_param_RFC.append(CV_RFC.best_params_)\n",
    "  AUC_score_RFC.append(roc_auc_score(y_true=y_test, y_score=predict_probs))\n",
    "  Accuracy_RFC.append(accuracy_score(y_true=y_test, y_pred=predict_labels))\n",
    "\n",
    "avg_AUC_RFC = np.mean(AUC_score_RFC)\n",
    "avg_accuracy_RFC = np.mean(Accuracy_RFC)\n",
    "\n",
    "print('The average AUC score of the Random Forest Classifier model is:\\n{:.3f}'.format(avg_AUC_RFC))\n",
    "print('\\nThe average accuracy of the Random Forest Classifier model is:\\n{:.3f}'.format(avg_accuracy_RFC))"
   ]
  },
  {
   "cell_type": "code",
   "execution_count": 49,
   "metadata": {
    "colab": {
     "base_uri": "https://localhost:8080/"
    },
    "executionInfo": {
     "elapsed": 589,
     "status": "ok",
     "timestamp": 1605777729241,
     "user": {
      "displayName": "Amin T.",
      "photoUrl": "https://lh3.googleusercontent.com/a-/AOh14GhLSDDfMbtcwB_Rx9shExjq9xAjHfktW4EOUC4z=s64",
      "userId": "18045034436816550073"
     },
     "user_tz": -60
    },
    "id": "Rr-VG_SJz3zY",
    "outputId": "1ae15500-7cf8-423e-ffa2-2d3c98fff8f9"
   },
   "outputs": [
    {
     "data": {
      "text/plain": [
       "[0.8814528062759759,\n",
       " 0.8806433087906376,\n",
       " 0.8736811037342952,\n",
       " 0.8924372980640106,\n",
       " 0.8808390714260579]"
      ]
     },
     "execution_count": 49,
     "metadata": {
      "tags": []
     },
     "output_type": "execute_result"
    }
   ],
   "source": [
    "AUC_score_RFC"
   ]
  },
  {
   "cell_type": "code",
   "execution_count": 48,
   "metadata": {
    "colab": {
     "base_uri": "https://localhost:8080/"
    },
    "executionInfo": {
     "elapsed": 446,
     "status": "ok",
     "timestamp": 1605777639796,
     "user": {
      "displayName": "Amin T.",
      "photoUrl": "https://lh3.googleusercontent.com/a-/AOh14GhLSDDfMbtcwB_Rx9shExjq9xAjHfktW4EOUC4z=s64",
      "userId": "18045034436816550073"
     },
     "user_tz": -60
    },
    "id": "VQnsFASYn78p",
    "outputId": "6f9c6f85-5ef4-4fb6-ee6d-4097f198eb3b"
   },
   "outputs": [
    {
     "data": {
      "text/plain": [
       "[{'n_estimators': 300},\n",
       " {'n_estimators': 400},\n",
       " {'n_estimators': 350},\n",
       " {'n_estimators': 400},\n",
       " {'n_estimators': 400}]"
      ]
     },
     "execution_count": 48,
     "metadata": {
      "tags": []
     },
     "output_type": "execute_result"
    }
   ],
   "source": [
    "best_param_RFC"
   ]
  },
  {
   "cell_type": "code",
   "execution_count": 50,
   "metadata": {
    "colab": {
     "base_uri": "https://localhost:8080/",
     "height": 492
    },
    "executionInfo": {
     "elapsed": 534,
     "status": "ok",
     "timestamp": 1605777791079,
     "user": {
      "displayName": "Amin T.",
      "photoUrl": "https://lh3.googleusercontent.com/a-/AOh14GhLSDDfMbtcwB_Rx9shExjq9xAjHfktW4EOUC4z=s64",
      "userId": "18045034436816550073"
     },
     "user_tz": -60
    },
    "id": "xC9gyw_XK7vv",
    "outputId": "68cf2d77-84b5-44c7-f997-6296aa5ead86"
   },
   "outputs": [
    {
     "data": {
      "image/png": "[encoded data removed]",
      "text/plain": [
       "<Figure size 720x576 with 1 Axes>"
      ]
     },
     "metadata": {
      "needs_background": "light",
      "tags": []
     },
     "output_type": "display_data"
    }
   ],
   "source": [
    "Models_Results = {'Decision Tree': avg_AUC_DT,\n",
    "                  'Logistic Regression': avg_AUC_LR,\n",
    "                  'Random Forest': avg_AUC_RFC,\n",
    "                  'K-Neighbors': baseline_AUC}\n",
    "\n",
    "width = 0.5\n",
    "fig, ax = plt.subplots(figsize=(10,8))\n",
    "rects = ax.bar(Models_Results.keys(), np.round(list(Models_Results.values()), 4)*100, width)\n",
    "plt.title('Average of %AUC for 5-fold cross-validation of classification models')\n",
    "plt.ylabel('Average 5-fold %AUC')\n",
    "plt.ylim(0, 100)\n",
    "plt.xticks(rotation=45)\n",
    "plt.subplots_adjust(bottom=0.25)\n",
    "\n",
    "def autolabel(rects, xpos='center'):\n",
    "    \"\"\"\n",
    "    Attach a text label above each bar in *rects*, displaying its height.\n",
    "\n",
    "    *xpos* indicates which side to place the text w.r.t. the center of\n",
    "    the bar. It can be one of the following {'center', 'right', 'left'}.\n",
    "    \"\"\"\n",
    "\n",
    "    ha = {'center': 'center', 'right': 'left', 'left': 'right'}\n",
    "    offset = {'center': 0, 'right': 1, 'left': -1}\n",
    "\n",
    "    for rect in rects:\n",
    "        height = rect.get_height()\n",
    "        ax.annotate('{}'.format(height),\n",
    "                    xy=(rect.get_x() + rect.get_width() / 2, height),\n",
    "                    xytext=(offset[xpos]*3, 3),  # use 3 points offset\n",
    "                    textcoords=\"offset points\",  # in both directions\n",
    "                    ha=ha[xpos], va='bottom')\n",
    "\n",
    "\n",
    "autolabel(rects, 'center')\n",
    "\n",
    "plt.show()"
   ]
  },
  {
   "cell_type": "markdown",
   "metadata": {
    "id": "f05xSNaQK7BL"
   },
   "source": [
    "# **Predicting default probability on test dataset**"
   ]
  },
  {
   "cell_type": "code",
   "execution_count": 52,
   "metadata": {
    "colab": {
     "base_uri": "https://localhost:8080/",
     "height": 255
    },
    "executionInfo": {
     "elapsed": 1870,
     "status": "ok",
     "timestamp": 1605777985264,
     "user": {
      "displayName": "Amin T.",
      "photoUrl": "https://lh3.googleusercontent.com/a-/AOh14GhLSDDfMbtcwB_Rx9shExjq9xAjHfktW4EOUC4z=s64",
      "userId": "18045034436816550073"
     },
     "user_tz": -60
    },
    "id": "ALdkAbxYM7P2",
    "outputId": "7b6b8681-53e7-45e2-b864-125320cd6085"
   },
   "outputs": [
    {
     "data": {
      "text/html": [
       "<div>\n",
       "<style scoped>\n",
       "    .dataframe tbody tr th:only-of-type {\n",
       "        vertical-align: middle;\n",
       "    }\n",
       "\n",
       "    .dataframe tbody tr th {\n",
       "        vertical-align: top;\n",
       "    }\n",
       "\n",
       "    .dataframe thead th {\n",
       "        text-align: right;\n",
       "    }\n",
       "</style>\n",
       "<table border=\"1\" class=\"dataframe\">\n",
       "  <thead>\n",
       "    <tr style=\"text-align: right;\">\n",
       "      <th></th>\n",
       "      <th>Type</th>\n",
       "      <th>BEH_SCORE_AVG_A1</th>\n",
       "      <th>BEH_SCORE_AVG_A2</th>\n",
       "      <th>BEH_SCORE_MIN_A2</th>\n",
       "      <th>FHS_SCORE_AVG</th>\n",
       "      <th>FHS_SCORE_LATEST</th>\n",
       "      <th>CASH_FLOW_AMT</th>\n",
       "      <th>MTHS_SNC_1ST_REC_CNT</th>\n",
       "      <th>Managing_Sales_Office_Nbr</th>\n",
       "      <th>Postal_Code_L</th>\n",
       "      <th>A1_AVG_POS_SALDO_PROF_1_AMT</th>\n",
       "      <th>Invest_Amt</th>\n",
       "      <th>Original_loan_Amt</th>\n",
       "      <th>Product_Desc</th>\n",
       "      <th>CREDIT_TYPE_CD</th>\n",
       "      <th>ACCOUNT_PURPOSE_CD</th>\n",
       "      <th>A1_TOT_DEB_INTEREST_PROF_6_AMT</th>\n",
       "      <th>A2_MTHS_SNC_LAST_LIQ_PRIV_CNT</th>\n",
       "      <th>A2_MTHS_SNC_FIRST_COREPROF_CNT</th>\n",
       "      <th>A2_MARITAL_STATUS_CD</th>\n",
       "      <th>A1_TOT_DEB_INTEREST_PROF_1_AMT</th>\n",
       "      <th>MTHS_IN_BUSINESS_CNT</th>\n",
       "      <th>A2_MTHS_SNC_LAST_LIQ_SAVE_CNT</th>\n",
       "      <th>A1_NEGAT_TRANS_COREPROF_CNT</th>\n",
       "      <th>FINANCIAL_PRODUCT_TYPE_CD</th>\n",
       "      <th>A1_OVERDRAWN_DAYS_PROF_24_CNT</th>\n",
       "      <th>A1_OVERDRAWN_DAYS_PROF_6_CNT</th>\n",
       "      <th>A2_EMPLOYMENT_STATUS_CD</th>\n",
       "      <th>A1_AVG_NEG_SALDO_PROF_3_AMT</th>\n",
       "      <th>A1_AVG_POS_SALDO_PROF_12_AMT</th>\n",
       "      <th>A2_RESIDENT_STATUS_CD</th>\n",
       "      <th>A1_TOT_STND_PAYMNT_INT_PROF_CNT</th>\n",
       "      <th>CASHFLOW_MONTHLY_CREDIT_RT</th>\n",
       "      <th>MONTHS_SINCE_LAST_REFUSAL_CNT</th>\n",
       "      <th>MONTHLY_CREDIT_AMT_TOT</th>\n",
       "      <th>A2_ANNUAL_INCOME_AMT_scale</th>\n",
       "      <th>A2_AVG_NEG_SALDO_PRIV_12_AMT_scale</th>\n",
       "      <th>A2_AVG_POS_SALDO_SAVINGS_12_AMT_scale</th>\n",
       "      <th>A2_TOTAL_EMPLOYMENT_MONTHS_CNT_scale</th>\n",
       "      <th>Label_Default</th>\n",
       "    </tr>\n",
       "    <tr>\n",
       "      <th>LoanID</th>\n",
       "      <th></th>\n",
       "      <th></th>\n",
       "      <th></th>\n",
       "      <th></th>\n",
       "      <th></th>\n",
       "      <th></th>\n",
       "      <th></th>\n",
       "      <th></th>\n",
       "      <th></th>\n",
       "      <th></th>\n",
       "      <th></th>\n",
       "      <th></th>\n",
       "      <th></th>\n",
       "      <th></th>\n",
       "      <th></th>\n",
       "      <th></th>\n",
       "      <th></th>\n",
       "      <th></th>\n",
       "      <th></th>\n",
       "      <th></th>\n",
       "      <th></th>\n",
       "      <th></th>\n",
       "      <th></th>\n",
       "      <th></th>\n",
       "      <th></th>\n",
       "      <th></th>\n",
       "      <th></th>\n",
       "      <th></th>\n",
       "      <th></th>\n",
       "      <th></th>\n",
       "      <th></th>\n",
       "      <th></th>\n",
       "      <th></th>\n",
       "      <th></th>\n",
       "      <th></th>\n",
       "      <th></th>\n",
       "      <th></th>\n",
       "      <th></th>\n",
       "      <th></th>\n",
       "      <th></th>\n",
       "    </tr>\n",
       "  </thead>\n",
       "  <tbody>\n",
       "    <tr>\n",
       "      <th>1</th>\n",
       "      <td>Company_Known</td>\n",
       "      <td>701.0</td>\n",
       "      <td>705.509472</td>\n",
       "      <td>705.509472</td>\n",
       "      <td>99.979423</td>\n",
       "      <td>99.984423</td>\n",
       "      <td>5330.0</td>\n",
       "      <td>170.0</td>\n",
       "      <td>502bb1fe</td>\n",
       "      <td>c2484906</td>\n",
       "      <td>6905.41</td>\n",
       "      <td>27685.95</td>\n",
       "      <td>33500.0</td>\n",
       "      <td>Car4Pro</td>\n",
       "      <td>IK</td>\n",
       "      <td>65</td>\n",
       "      <td>601.41</td>\n",
       "      <td>115.0</td>\n",
       "      <td>NaN</td>\n",
       "      <td>2</td>\n",
       "      <td>101.29</td>\n",
       "      <td>170.0</td>\n",
       "      <td>20.0</td>\n",
       "      <td>18.0</td>\n",
       "      <td>MTG</td>\n",
       "      <td>0.0</td>\n",
       "      <td>0.0</td>\n",
       "      <td>406</td>\n",
       "      <td>926.41</td>\n",
       "      <td>3216.32</td>\n",
       "      <td>1.0</td>\n",
       "      <td>1.0</td>\n",
       "      <td>9.546269</td>\n",
       "      <td>NaN</td>\n",
       "      <td>558.333333</td>\n",
       "      <td>0.007935</td>\n",
       "      <td>0.171879</td>\n",
       "      <td>-0.283450</td>\n",
       "      <td>2.564626</td>\n",
       "      <td>?</td>\n",
       "    </tr>\n",
       "    <tr>\n",
       "      <th>2</th>\n",
       "      <td>Company_Known</td>\n",
       "      <td>685.0</td>\n",
       "      <td>712.715611</td>\n",
       "      <td>712.715611</td>\n",
       "      <td>99.777002</td>\n",
       "      <td>99.489870</td>\n",
       "      <td>19076.0</td>\n",
       "      <td>380.0</td>\n",
       "      <td>828c2ee2</td>\n",
       "      <td>895c9c89</td>\n",
       "      <td>5836.19</td>\n",
       "      <td>130000.00</td>\n",
       "      <td>130000.0</td>\n",
       "      <td>Immo4Pro</td>\n",
       "      <td>IK</td>\n",
       "      <td>106</td>\n",
       "      <td>0.00</td>\n",
       "      <td>4.0</td>\n",
       "      <td>NaN</td>\n",
       "      <td>2</td>\n",
       "      <td>0.00</td>\n",
       "      <td>370.0</td>\n",
       "      <td>44.0</td>\n",
       "      <td>29.0</td>\n",
       "      <td>MTG</td>\n",
       "      <td>0.0</td>\n",
       "      <td>0.0</td>\n",
       "      <td>406</td>\n",
       "      <td>0.00</td>\n",
       "      <td>5761.16</td>\n",
       "      <td>0.0</td>\n",
       "      <td>5.0</td>\n",
       "      <td>26.412923</td>\n",
       "      <td>199.0</td>\n",
       "      <td>722.222222</td>\n",
       "      <td>-0.443644</td>\n",
       "      <td>-0.183191</td>\n",
       "      <td>0.576338</td>\n",
       "      <td>1.661988</td>\n",
       "      <td>?</td>\n",
       "    </tr>\n",
       "    <tr>\n",
       "      <th>3</th>\n",
       "      <td>Company_Known</td>\n",
       "      <td>685.0</td>\n",
       "      <td>712.715611</td>\n",
       "      <td>712.715611</td>\n",
       "      <td>99.777002</td>\n",
       "      <td>99.489870</td>\n",
       "      <td>19076.0</td>\n",
       "      <td>380.0</td>\n",
       "      <td>828c2ee2</td>\n",
       "      <td>895c9c89</td>\n",
       "      <td>5836.19</td>\n",
       "      <td>370000.00</td>\n",
       "      <td>370000.0</td>\n",
       "      <td>Immo4Pro</td>\n",
       "      <td>IK</td>\n",
       "      <td>306</td>\n",
       "      <td>0.00</td>\n",
       "      <td>4.0</td>\n",
       "      <td>NaN</td>\n",
       "      <td>2</td>\n",
       "      <td>0.00</td>\n",
       "      <td>370.0</td>\n",
       "      <td>44.0</td>\n",
       "      <td>29.0</td>\n",
       "      <td>MTG</td>\n",
       "      <td>0.0</td>\n",
       "      <td>0.0</td>\n",
       "      <td>406</td>\n",
       "      <td>0.00</td>\n",
       "      <td>5761.16</td>\n",
       "      <td>0.0</td>\n",
       "      <td>5.0</td>\n",
       "      <td>9.280216</td>\n",
       "      <td>199.0</td>\n",
       "      <td>2055.555556</td>\n",
       "      <td>-0.443644</td>\n",
       "      <td>-0.183191</td>\n",
       "      <td>0.576338</td>\n",
       "      <td>1.661988</td>\n",
       "      <td>?</td>\n",
       "    </tr>\n",
       "    <tr>\n",
       "      <th>4</th>\n",
       "      <td>Company_Known</td>\n",
       "      <td>NaN</td>\n",
       "      <td>664.222048</td>\n",
       "      <td>664.222048</td>\n",
       "      <td>99.990255</td>\n",
       "      <td>99.971242</td>\n",
       "      <td>17638.0</td>\n",
       "      <td>199.0</td>\n",
       "      <td>32007b1b</td>\n",
       "      <td>42d103b6</td>\n",
       "      <td>10746.52</td>\n",
       "      <td>20300.00</td>\n",
       "      <td>20300.0</td>\n",
       "      <td>Equipment4Pro</td>\n",
       "      <td>IK</td>\n",
       "      <td>99</td>\n",
       "      <td>0.00</td>\n",
       "      <td>NaN</td>\n",
       "      <td>469.0</td>\n",
       "      <td>2</td>\n",
       "      <td>0.00</td>\n",
       "      <td>222.0</td>\n",
       "      <td>11.0</td>\n",
       "      <td>24.0</td>\n",
       "      <td>MTG</td>\n",
       "      <td>0.0</td>\n",
       "      <td>0.0</td>\n",
       "      <td>357</td>\n",
       "      <td>0.00</td>\n",
       "      <td>13090.55</td>\n",
       "      <td>1.0</td>\n",
       "      <td>1.0</td>\n",
       "      <td>52.132020</td>\n",
       "      <td>NaN</td>\n",
       "      <td>338.333333</td>\n",
       "      <td>-0.836872</td>\n",
       "      <td>NaN</td>\n",
       "      <td>0.832216</td>\n",
       "      <td>0.207250</td>\n",
       "      <td>?</td>\n",
       "    </tr>\n",
       "    <tr>\n",
       "      <th>5</th>\n",
       "      <td>Company_Known</td>\n",
       "      <td>631.0</td>\n",
       "      <td>NaN</td>\n",
       "      <td>NaN</td>\n",
       "      <td>98.109661</td>\n",
       "      <td>98.109661</td>\n",
       "      <td>47016.0</td>\n",
       "      <td>27.0</td>\n",
       "      <td>NaN</td>\n",
       "      <td>NaN</td>\n",
       "      <td>0.00</td>\n",
       "      <td>NaN</td>\n",
       "      <td>NaN</td>\n",
       "      <td>NaN</td>\n",
       "      <td>KK</td>\n",
       "      <td>1</td>\n",
       "      <td>7724.33</td>\n",
       "      <td>51.0</td>\n",
       "      <td>NaN</td>\n",
       "      <td>2</td>\n",
       "      <td>1864.88</td>\n",
       "      <td>26.0</td>\n",
       "      <td>55.0</td>\n",
       "      <td>47.0</td>\n",
       "      <td>LON</td>\n",
       "      <td>13.0</td>\n",
       "      <td>13.0</td>\n",
       "      <td>410</td>\n",
       "      <td>19273.16</td>\n",
       "      <td>1047.15</td>\n",
       "      <td>1.0</td>\n",
       "      <td>1.0</td>\n",
       "      <td>NaN</td>\n",
       "      <td>40.0</td>\n",
       "      <td>NaN</td>\n",
       "      <td>0.615306</td>\n",
       "      <td>0.971658</td>\n",
       "      <td>-0.393422</td>\n",
       "      <td>2.345539</td>\n",
       "      <td>?</td>\n",
       "    </tr>\n",
       "  </tbody>\n",
       "</table>\n",
       "</div>"
      ],
      "text/plain": [
       "                 Type  ...  Label_Default\n",
       "LoanID                 ...               \n",
       "1       Company_Known  ...              ?\n",
       "2       Company_Known  ...              ?\n",
       "3       Company_Known  ...              ?\n",
       "4       Company_Known  ...              ?\n",
       "5       Company_Known  ...              ?\n",
       "\n",
       "[5 rows x 40 columns]"
      ]
     },
     "execution_count": 52,
     "metadata": {
      "tags": []
     },
     "output_type": "execute_result"
    }
   ],
   "source": [
    "# import and prepare the test data \n",
    "data_test = pd.read_excel('/content/drive/MyDrive/Shakeel-Azhara/DSC2020_Test.xlsx', index_col='LoanID')\n",
    "data_test[transform_str_list] = data_test[transform_str_list].astype(str)\n",
    "data_test.replace(to_replace='nan', value=np.nan, inplace=True)\n",
    "data_test = data_test.drop(columns=drop_cols)\n",
    "data_test.head()"
   ]
  },
  {
   "cell_type": "code",
   "execution_count": 53,
   "metadata": {
    "executionInfo": {
     "elapsed": 770,
     "status": "ok",
     "timestamp": 1605778066820,
     "user": {
      "displayName": "Amin T.",
      "photoUrl": "https://lh3.googleusercontent.com/a-/AOh14GhLSDDfMbtcwB_Rx9shExjq9xAjHfktW4EOUC4z=s64",
      "userId": "18045034436816550073"
     },
     "user_tz": -60
    },
    "id": "jZkj61lpPwZT"
   },
   "outputs": [],
   "source": [
    "# preprocessing the data, training on the whole \n",
    "X_train_full = pd.DataFrame(index=data_train.index)\n",
    "X_test_full = pd.DataFrame(index=data_test.index)\n",
    "\n",
    "# Handling missing values\n",
    "pcnt_missing_all = (X.isna().sum()/X.shape[0])*100\n",
    "pcnt_missing_num = (X[num_cols].isna().sum()/X.shape[0])*100\n",
    "pcnt_missing_cat = (X[cat_cols].isna().sum()/X.shape[0])*100\n",
    "\n",
    "for col in pcnt_missing_all.index:\n",
    "  if pcnt_missing_all[col] >= 50 and pcnt_missing_all[col] < 90:\n",
    "    X_train_full[col] = X[col].isna().astype(int)\n",
    "    X_test_full[col] = data_test[col].isna().astype(int)\n",
    "\n",
    "for col in pcnt_missing_num.index:\n",
    "  if pcnt_missing_num[col] < 50:\n",
    "    mean_value = X[col].mean()\n",
    "    X_train_full[col] = X[col].fillna(value=mean_value)\n",
    "    X_test_full[col] = data_test[col].fillna(value=mean_value)\n",
    "\n",
    "for col in pcnt_missing_cat.index:\n",
    "  if pcnt_missing_cat[col] < 50:\n",
    "    freq_value = X[col].mode()[0]\n",
    "    X_train_full[col] = X[col].fillna(value=freq_value)\n",
    "    X_test_full[col] = data_test[col].fillna(value=freq_value)\n",
    "\n",
    "# Preprocessing Categorical Variabes\n",
    "cnt_unique = X_train_full.select_dtypes(include='object').nunique()\n",
    "\n",
    "for col in cnt_unique[cnt_unique <= 10].index:\n",
    "  X_train_full = X_train_full.join(pd.get_dummies(X[col], prefix=col[:5]))\n",
    "  X_train_full.drop(columns=col, inplace=True)\n",
    "  X_test_full = X_test_full.join(pd.get_dummies(data_test[col], prefix=col[:5]))\n",
    "  X_test_full.drop(columns=col, inplace=True)\n",
    "\n",
    "HCardinals = cnt_unique[cnt_unique > 10].index\n",
    "for col in HCardinals: \n",
    "  X_test_full[col]= X.groupby(col)[col].transform('count')/X.shape[0]\n",
    "  d = dict(zip(X[col], X_train_full[col]))\n",
    "  for i in list(set(data_test[col].unique()) - set(X[col].unique())):\n",
    "    d[i] = 0\n",
    "  X_test_full[col] = data_test[col].replace(d)"
   ]
  },
  {
   "cell_type": "code",
   "execution_count": 91,
   "metadata": {
    "colab": {
     "base_uri": "https://localhost:8080/"
    },
    "executionInfo": {
     "elapsed": 615,
     "status": "ok",
     "timestamp": 1605783924986,
     "user": {
      "displayName": "Amin T.",
      "photoUrl": "https://lh3.googleusercontent.com/a-/AOh14GhLSDDfMbtcwB_Rx9shExjq9xAjHfktW4EOUC4z=s64",
      "userId": "18045034436816550073"
     },
     "user_tz": -60
    },
    "id": "hDoU-3tw2R2-",
    "outputId": "32fc394a-8154-4969-8664-092f92af8398"
   },
   "outputs": [
    {
     "data": {
      "text/plain": [
       "{'Produ_Bizness financiering', 'Produ_Investeringskrediet roerend'}"
      ]
     },
     "execution_count": 91,
     "metadata": {
      "tags": []
     },
     "output_type": "execute_result"
    }
   ],
   "source": [
    "set(X_train_full.columns) - set(X_test_full.columns)"
   ]
  },
  {
   "cell_type": "code",
   "execution_count": 68,
   "metadata": {
    "colab": {
     "base_uri": "https://localhost:8080/"
    },
    "executionInfo": {
     "elapsed": 786,
     "status": "ok",
     "timestamp": 1605780838287,
     "user": {
      "displayName": "Amin T.",
      "photoUrl": "https://lh3.googleusercontent.com/a-/AOh14GhLSDDfMbtcwB_Rx9shExjq9xAjHfktW4EOUC4z=s64",
      "userId": "18045034436816550073"
     },
     "user_tz": -60
    },
    "id": "WnrLSuJV-Km2",
    "outputId": "40bcbd9c-cbd4-4962-d061-770eb181af3d"
   },
   "outputs": [
    {
     "data": {
      "text/plain": [
       "array(['Car4Pro', 'Immo4Pro', 'Equipment4Pro', nan,\n",
       "       'Overbruggingskrediet professionele doeleinden', 'Capital4Pro',\n",
       "       'Investeringskrediet onroerend'], dtype=object)"
      ]
     },
     "execution_count": 68,
     "metadata": {
      "tags": []
     },
     "output_type": "execute_result"
    }
   ],
   "source": [
    "data_test['Product_Desc'].unique()"
   ]
  },
  {
   "cell_type": "code",
   "execution_count": 73,
   "metadata": {
    "colab": {
     "base_uri": "https://localhost:8080/"
    },
    "executionInfo": {
     "elapsed": 568,
     "status": "ok",
     "timestamp": 1605782677760,
     "user": {
      "displayName": "Amin T.",
      "photoUrl": "https://lh3.googleusercontent.com/a-/AOh14GhLSDDfMbtcwB_Rx9shExjq9xAjHfktW4EOUC4z=s64",
      "userId": "18045034436816550073"
     },
     "user_tz": -60
    },
    "id": "8z3leSnP_7fb",
    "outputId": "f0141133-9bd0-4d77-dfde-f4e0dfd01040"
   },
   "outputs": [
    {
     "data": {
      "text/plain": [
       "array(['Bizness financiering',\n",
       "       'Overbruggingskrediet professionele doeleinden',\n",
       "       'Investeringskrediet onroerend', nan,\n",
       "       'Investeringskrediet roerend', 'Capital4Pro', 'Equipment4Pro',\n",
       "       'Car4Pro', 'Immo4Pro'], dtype=object)"
      ]
     },
     "execution_count": 73,
     "metadata": {
      "tags": []
     },
     "output_type": "execute_result"
    }
   ],
   "source": [
    "data_train['Product_Desc'].unique()"
   ]
  },
  {
   "cell_type": "code",
   "execution_count": 90,
   "metadata": {
    "executionInfo": {
     "elapsed": 541,
     "status": "ok",
     "timestamp": 1605783913549,
     "user": {
      "displayName": "Amin T.",
      "photoUrl": "https://lh3.googleusercontent.com/a-/AOh14GhLSDDfMbtcwB_Rx9shExjq9xAjHfktW4EOUC4z=s64",
      "userId": "18045034436816550073"
     },
     "user_tz": -60
    },
    "id": "MiFx7afpHITs"
   },
   "outputs": [],
   "source": [
    "# to fix data inconsistency\n",
    "X_test_full.rename(columns = {'A2_MA_1': 'A2_MA_1.0', 'A2_MA_2': 'A2_MA_2.0', \n",
    "                              'A2_MA_3': 'A2_MA_3.0', 'A2_MA_4': 'A2_MA_4.0',\n",
    "                              'A2_MA_6': 'A2_MA_6.0'}, inplace=True)"
   ]
  },
  {
   "cell_type": "code",
   "execution_count": 93,
   "metadata": {
    "executionInfo": {
     "elapsed": 476,
     "status": "ok",
     "timestamp": 1605784124539,
     "user": {
      "displayName": "Amin T.",
      "photoUrl": "https://lh3.googleusercontent.com/a-/AOh14GhLSDDfMbtcwB_Rx9shExjq9xAjHfktW4EOUC4z=s64",
      "userId": "18045034436816550073"
     },
     "user_tz": -60
    },
    "id": "bPgI5Q-1LwUz"
   },
   "outputs": [],
   "source": [
    "X_test_full[['Produ_Bizness financiering', 'Produ_Investeringskrediet roerend']] = np.zeros((data_test.shape[0], 2))"
   ]
  },
  {
   "cell_type": "code",
   "execution_count": 95,
   "metadata": {
    "colab": {
     "base_uri": "https://localhost:8080/"
    },
    "executionInfo": {
     "elapsed": 436,
     "status": "ok",
     "timestamp": 1605784140722,
     "user": {
      "displayName": "Amin T.",
      "photoUrl": "https://lh3.googleusercontent.com/a-/AOh14GhLSDDfMbtcwB_Rx9shExjq9xAjHfktW4EOUC4z=s64",
      "userId": "18045034436816550073"
     },
     "user_tz": -60
    },
    "id": "QJZMPmfE1Nqh",
    "outputId": "798d4f9c-edc5-498e-ca9f-6316ee1205e7"
   },
   "outputs": [
    {
     "data": {
      "text/plain": [
       "(26962, 56)"
      ]
     },
     "execution_count": 95,
     "metadata": {
      "tags": []
     },
     "output_type": "execute_result"
    }
   ],
   "source": [
    "X_train_full.shape"
   ]
  },
  {
   "cell_type": "code",
   "execution_count": 55,
   "metadata": {
    "colab": {
     "base_uri": "https://localhost:8080/"
    },
    "executionInfo": {
     "elapsed": 962,
     "status": "ok",
     "timestamp": 1605778099632,
     "user": {
      "displayName": "Amin T.",
      "photoUrl": "https://lh3.googleusercontent.com/a-/AOh14GhLSDDfMbtcwB_Rx9shExjq9xAjHfktW4EOUC4z=s64",
      "userId": "18045034436816550073"
     },
     "user_tz": -60
    },
    "id": "1KQxrwgF1TvC",
    "outputId": "fbf93827-c761-4735-b101-4544984b6d5a"
   },
   "outputs": [
    {
     "data": {
      "text/plain": [
       "LoanID\n",
       "1        1\n",
       "2        0\n",
       "3        0\n",
       "4        0\n",
       "5        0\n",
       "        ..\n",
       "26958    0\n",
       "26959    0\n",
       "26960    0\n",
       "26961    0\n",
       "26962    0\n",
       "Name: Label_Default, Length: 26962, dtype: int64"
      ]
     },
     "execution_count": 55,
     "metadata": {
      "tags": []
     },
     "output_type": "execute_result"
    }
   ],
   "source": [
    "Y"
   ]
  },
  {
   "cell_type": "code",
   "execution_count": 96,
   "metadata": {
    "colab": {
     "base_uri": "https://localhost:8080/"
    },
    "executionInfo": {
     "elapsed": 440,
     "status": "ok",
     "timestamp": 1605784153912,
     "user": {
      "displayName": "Amin T.",
      "photoUrl": "https://lh3.googleusercontent.com/a-/AOh14GhLSDDfMbtcwB_Rx9shExjq9xAjHfktW4EOUC4z=s64",
      "userId": "18045034436816550073"
     },
     "user_tz": -60
    },
    "id": "TormZHNx1YhC",
    "outputId": "98ef3457-35d2-4754-8889-3e93286651d9"
   },
   "outputs": [
    {
     "data": {
      "text/plain": [
       "(4895, 56)"
      ]
     },
     "execution_count": 96,
     "metadata": {
      "tags": []
     },
     "output_type": "execute_result"
    }
   ],
   "source": [
    "X_test_full.shape"
   ]
  },
  {
   "cell_type": "code",
   "execution_count": 57,
   "metadata": {
    "colab": {
     "base_uri": "https://localhost:8080/"
    },
    "executionInfo": {
     "elapsed": 1674337,
     "status": "ok",
     "timestamp": 1605779905400,
     "user": {
      "displayName": "Amin T.",
      "photoUrl": "https://lh3.googleusercontent.com/a-/AOh14GhLSDDfMbtcwB_Rx9shExjq9xAjHfktW4EOUC4z=s64",
      "userId": "18045034436816550073"
     },
     "user_tz": -60
    },
    "id": "HB_gfBoXhaH_",
    "outputId": "4ef0db37-c25c-43d2-cba0-07c34a221635"
   },
   "outputs": [
    {
     "data": {
      "text/plain": [
       "GridSearchCV(cv=5, error_score=nan,\n",
       "             estimator=RandomForestClassifier(bootstrap=True, ccp_alpha=0.0,\n",
       "                                              class_weight=None,\n",
       "                                              criterion='gini', max_depth=None,\n",
       "                                              max_features='auto',\n",
       "                                              max_leaf_nodes=None,\n",
       "                                              max_samples=None,\n",
       "                                              min_impurity_decrease=0.0,\n",
       "                                              min_impurity_split=None,\n",
       "                                              min_samples_leaf=1,\n",
       "                                              min_samples_split=2,\n",
       "                                              min_weight_fraction_leaf=0.0,\n",
       "                                              n_estimators=100, n_jobs=-1,\n",
       "                                              oob_score=False,\n",
       "                                              random_state=None, verbose=0,\n",
       "                                              warm_start=False),\n",
       "             iid='deprecated', n_jobs=-1,\n",
       "             param_grid={'n_estimators': array([300, 310, 320, 330, 340, 350, 360, 370, 380, 390, 400, 410, 420,\n",
       "       430, 440, 450, 460, 470, 480, 490])},\n",
       "             pre_dispatch='2*n_jobs', refit=True, return_train_score=False,\n",
       "             scoring='roc_auc', verbose=0)"
      ]
     },
     "execution_count": 57,
     "metadata": {
      "tags": []
     },
     "output_type": "execute_result"
    }
   ],
   "source": [
    "# training the RandomForestClassifier on the full training dataset\n",
    "\n",
    "best_model = RandomForestClassifier(n_jobs=-1)\n",
    "params = {'n_estimators': np.arange(350, 401, 10)}\n",
    "CV = GridSearchCV(best_model, param_grid=params, cv=5, n_jobs=-1, scoring='roc_auc')\n",
    "CV.fit(X_train_full, Y)"
   ]
  },
  {
   "cell_type": "code",
   "execution_count": 69,
   "metadata": {
    "colab": {
     "base_uri": "https://localhost:8080/"
    },
    "executionInfo": {
     "elapsed": 541,
     "status": "ok",
     "timestamp": 1605781050172,
     "user": {
      "displayName": "Amin T.",
      "photoUrl": "https://lh3.googleusercontent.com/a-/AOh14GhLSDDfMbtcwB_Rx9shExjq9xAjHfktW4EOUC4z=s64",
      "userId": "18045034436816550073"
     },
     "user_tz": -60
    },
    "id": "ivOPGvYZAhL2",
    "outputId": "47749b91-16f6-4e9c-851b-feca17543256"
   },
   "outputs": [
    {
     "data": {
      "text/plain": [
       "{'n_estimators': 370}"
      ]
     },
     "execution_count": 69,
     "metadata": {
      "tags": []
     },
     "output_type": "execute_result"
    }
   ],
   "source": [
    "CV.best_params_"
   ]
  },
  {
   "cell_type": "code",
   "execution_count": 97,
   "metadata": {
    "executionInfo": {
     "elapsed": 715,
     "status": "ok",
     "timestamp": 1605784172264,
     "user": {
      "displayName": "Amin T.",
      "photoUrl": "https://lh3.googleusercontent.com/a-/AOh14GhLSDDfMbtcwB_Rx9shExjq9xAjHfktW4EOUC4z=s64",
      "userId": "18045034436816550073"
     },
     "user_tz": -60
    },
    "id": "KJ4Q0MP4iJjz"
   },
   "outputs": [],
   "source": [
    "# making predictions on the preprocessed test dataset\n",
    "predictions = CV.predict_proba(X_test_full)"
   ]
  },
  {
   "cell_type": "code",
   "execution_count": 105,
   "metadata": {
    "executionInfo": {
     "elapsed": 689,
     "status": "ok",
     "timestamp": 1605784750656,
     "user": {
      "displayName": "Amin T.",
      "photoUrl": "https://lh3.googleusercontent.com/a-/AOh14GhLSDDfMbtcwB_Rx9shExjq9xAjHfktW4EOUC4z=s64",
      "userId": "18045034436816550073"
     },
     "user_tz": -60
    },
    "id": "5rs39U0EMsKG"
   },
   "outputs": [],
   "source": [
    "OutputFile = pd.DataFrame(index=data_test.index, columns=['CLASS = 1 (DEFAULT)'])\n",
    "OutputFile['CLASS = 1 (DEFAULT)'] = predictions[:,1]"
   ]
  },
  {
   "cell_type": "code",
   "execution_count": 103,
   "metadata": {
    "colab": {
     "base_uri": "https://localhost:8080/",
     "height": 450
    },
    "executionInfo": {
     "elapsed": 519,
     "status": "ok",
     "timestamp": 1605784404359,
     "user": {
      "displayName": "Amin T.",
      "photoUrl": "https://lh3.googleusercontent.com/a-/AOh14GhLSDDfMbtcwB_Rx9shExjq9xAjHfktW4EOUC4z=s64",
      "userId": "18045034436816550073"
     },
     "user_tz": -60
    },
    "id": "NNiV9A4cNRHi",
    "outputId": "a090caa7-a6b2-43f3-ec28-425091db0b39"
   },
   "outputs": [
    {
     "data": {
      "text/html": [
       "<div>\n",
       "<style scoped>\n",
       "    .dataframe tbody tr th:only-of-type {\n",
       "        vertical-align: middle;\n",
       "    }\n",
       "\n",
       "    .dataframe tbody tr th {\n",
       "        vertical-align: top;\n",
       "    }\n",
       "\n",
       "    .dataframe thead th {\n",
       "        text-align: right;\n",
       "    }\n",
       "</style>\n",
       "<table border=\"1\" class=\"dataframe\">\n",
       "  <thead>\n",
       "    <tr style=\"text-align: right;\">\n",
       "      <th></th>\n",
       "      <th>Label_Default</th>\n",
       "    </tr>\n",
       "    <tr>\n",
       "      <th>LoanID</th>\n",
       "      <th></th>\n",
       "    </tr>\n",
       "  </thead>\n",
       "  <tbody>\n",
       "    <tr>\n",
       "      <th>1</th>\n",
       "      <td>0.027027</td>\n",
       "    </tr>\n",
       "    <tr>\n",
       "      <th>2</th>\n",
       "      <td>0.008108</td>\n",
       "    </tr>\n",
       "    <tr>\n",
       "      <th>3</th>\n",
       "      <td>0.008108</td>\n",
       "    </tr>\n",
       "    <tr>\n",
       "      <th>4</th>\n",
       "      <td>0.024324</td>\n",
       "    </tr>\n",
       "    <tr>\n",
       "      <th>5</th>\n",
       "      <td>0.189189</td>\n",
       "    </tr>\n",
       "    <tr>\n",
       "      <th>...</th>\n",
       "      <td>...</td>\n",
       "    </tr>\n",
       "    <tr>\n",
       "      <th>4891</th>\n",
       "      <td>0.070270</td>\n",
       "    </tr>\n",
       "    <tr>\n",
       "      <th>4892</th>\n",
       "      <td>0.775676</td>\n",
       "    </tr>\n",
       "    <tr>\n",
       "      <th>4893</th>\n",
       "      <td>0.108108</td>\n",
       "    </tr>\n",
       "    <tr>\n",
       "      <th>4894</th>\n",
       "      <td>0.164865</td>\n",
       "    </tr>\n",
       "    <tr>\n",
       "      <th>4895</th>\n",
       "      <td>0.083784</td>\n",
       "    </tr>\n",
       "  </tbody>\n",
       "</table>\n",
       "<p>4895 rows × 1 columns</p>\n",
       "</div>"
      ],
      "text/plain": [
       "        Label_Default\n",
       "LoanID               \n",
       "1            0.027027\n",
       "2            0.008108\n",
       "3            0.008108\n",
       "4            0.024324\n",
       "5            0.189189\n",
       "...               ...\n",
       "4891         0.070270\n",
       "4892         0.775676\n",
       "4893         0.108108\n",
       "4894         0.164865\n",
       "4895         0.083784\n",
       "\n",
       "[4895 rows x 1 columns]"
      ]
     },
     "execution_count": 103,
     "metadata": {
      "tags": []
     },
     "output_type": "execute_result"
    }
   ],
   "source": [
    "OutputFile"
   ]
  },
  {
   "cell_type": "code",
   "execution_count": 106,
   "metadata": {
    "executionInfo": {
     "elapsed": 1315,
     "status": "ok",
     "timestamp": 1605784756380,
     "user": {
      "displayName": "Amin T.",
      "photoUrl": "https://lh3.googleusercontent.com/a-/AOh14GhLSDDfMbtcwB_Rx9shExjq9xAjHfktW4EOUC4z=s64",
      "userId": "18045034436816550073"
     },
     "user_tz": -60
    },
    "id": "KaUTmhI72AjN"
   },
   "outputs": [],
   "source": [
    "OutputFile.to_excel('/content/drive/MyDrive/Shakeel-Azhara/DSC2020_probability_scores.xlsx')"
   ]
  },
  {
   "cell_type": "code",
   "execution_count": null,
   "metadata": {
    "id": "KQ9CAGOBNsTf"
   },
   "outputs": [],
   "source": []
  }
 ],
 "metadata": {
  "colab": {
   "authorship_tag": "ABX9TyMnXeOIBI5kHTooQaAYBYia",
   "collapsed_sections": [],
   "mount_file_id": "1kOT0EL41tfQypCNX-soFxhIe-u6uUlQe",
   "name": "DM_project.ipynb",
   "provenance": []
  },
  "kernelspec": {
   "display_name": "Python 3",
   "language": "python",
   "name": "python3"
  },
  "language_info": {
   "codemirror_mode": {
    "name": "ipython",
    "version": 3
   },
   "file_extension": ".py",
   "mimetype": "text/x-python",
   "name": "python",
   "nbconvert_exporter": "python",
   "pygments_lexer": "ipython3",
   "version": "3.8.3"
  }
 },
 "nbformat": 4,
 "nbformat_minor": 1
}
